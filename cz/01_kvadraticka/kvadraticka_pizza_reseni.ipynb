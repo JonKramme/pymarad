{
 "cells": [
  {
   "cell_type": "markdown",
   "metadata": {},
   "source": [
    "# Příklad o Pizze\n",
    "* témata: kvadratická rovnice, definice funkce v pythonu, `fsolve()`\n",
    "\n",
    "## Zadání\n",
    "* Chceš jít s kamarádem na Pizzu.\n",
    "* Nabídka je jasná, menší pizza stojí 100; větší, která má o 10cm větší průměr, stojí ale 200\n",
    "\n",
    "## Otázky\n",
    "* Při jakém průměru se vyplatí koupit 2 menší, a kdy 1 větší?\n",
    "* Jak se řešení změní pokud vás nezajímá 1 cm suchého okraje pizzy?"
   ]
  },
  {
   "cell_type": "markdown",
   "metadata": {},
   "source": [
    "---\n",
    "---\n",
    "# Pokud je toto tvůj první Jupyter Notebook:\n",
    "* Buňka (cell) se provede kombinací `Shift-Enter`, musíš v ní mít ale kurzor.\n",
    "* Po úspěšném proběhnutí buňky se objeví nalevo od ní \"pořadové\" číslo průběhu.\n",
    "* Provedení buňky a vytvoření nové prázdné pod ní, použij `Alt-Enter`.\n",
    "* Jakýkoli text za znakem # je komentář a Python ho ignoruje až do konce řádku.\n",
    "* Pozor: Pokud proběhneš prázdnou buňku, která má pod sebou výstup jako nápovědu, nápověda ti zmizí, proto `Alt-Enter`.\n",
    "---\n",
    "---"
   ]
  },
  {
   "cell_type": "code",
   "execution_count": 1,
   "metadata": {},
   "outputs": [],
   "source": [
    "# import klasických modulů jako v úvodním sešitu\n",
    "import numpy as np\n",
    "import matplotlib.pyplot as plt\n",
    "\n",
    "# pokročilý trik, který umožňuje měnit parametry vašich grafů pro celý sešit\n",
    "import matplotlib as mpl\n",
    "mpl.rcParams['figure.figsize'] = [8,6] # velikost grafu\n",
    "mpl.rcParams['lines.linewidth'] = 3  # tloušťka čáry\n",
    "mpl.rcParams['lines.markersize'] = 10  # velikost bodů v grafu\n",
    "mpl.rcParams['xtick.labelsize'] = 12  # velikost fontu popisků osových bodů x\n",
    "mpl.rcParams['ytick.labelsize'] = 12 # velikost fontu popisků osových bodů y\n",
    "mpl.rcParams['axes.labelsize'] = 'larger'  # velikost fontu názvu os\n",
    "\n",
    "# odkomentováním příkazu vypíšete všechny nastavitelné vlastnosti\n",
    "# svobodě Python meze rozhodně neklade:)\n",
    "# mpl.rcParams.keys()"
   ]
  },
  {
   "cell_type": "code",
   "execution_count": 2,
   "metadata": {},
   "outputs": [
    {
     "name": "stdout",
     "output_type": "stream",
     "text": [
      "[ 0.   0.5  1.   1.5  2.   2.5  3.   3.5  4.   4.5  5.   5.5  6.   6.5\n",
      "  7.   7.5  8.   8.5  9.   9.5 10.  10.5 11.  11.5 12.  12.5 13.  13.5\n",
      " 14.  14.5 15.  15.5 16.  16.5 17.  17.5 18.  18.5 19.  19.5 20.  20.5\n",
      " 21.  21.5 22.  22.5 23.  23.5 24.  24.5 25.  25.5 26.  26.5 27.  27.5\n",
      " 28.  28.5 29.  29.5 30.  30.5 31.  31.5 32.  32.5 33.  33.5 34.  34.5\n",
      " 35.  35.5 36.  36.5 37.  37.5 38.  38.5 39.  39.5 40.  40.5 41.  41.5\n",
      " 42.  42.5 43.  43.5 44.  44.5 45.  45.5 46.  46.5 47.  47.5 48.  48.5\n",
      " 49.  49.5 50. ]\n"
     ]
    }
   ],
   "source": [
    "# naše nezávislá proměnná (osa x) je pro nás průměr pizzy (d)\n",
    "# vytvoř pole rozumných hodnot d\n",
    "d = np.linspace(0, 50, 101)\n",
    "print(d)"
   ]
  },
  {
   "cell_type": "markdown",
   "metadata": {},
   "source": [
    "## Podmínka kterou řešíme je, kdy dvě plochy menší pizzy jsou víc než plocha 1 větší\n",
    "\n",
    "$2S_{mensi}{\\gt}S_{vetsi}$\n",
    "\n",
    "* Doufejme, že je pizza kruhová\n",
    "\n",
    "$ 2{\\cdot}\\pi\\left(\\dfrac{d}{2}\\right)^2 \\gt \\pi\\left(\\dfrac{d+10}{2}\\right)^2$\n",
    "\n",
    "Po převedení na jednu stranu řešíme, kdy má výsledná funkce hodnoty > 0\n",
    "* POZN. $\\pi$ se v pythonu zapisuje jako np.pi"
   ]
  },
  {
   "cell_type": "code",
   "execution_count": 3,
   "metadata": {},
   "outputs": [],
   "source": [
    "# spočti hodnoty funkce pro d, která sis vybrala\n",
    "f = 2*np.pi*(d/2)**2 - np.pi*((d+10)/2)**2"
   ]
  },
  {
   "cell_type": "code",
   "execution_count": 4,
   "metadata": {},
   "outputs": [
    {
     "data": {
      "image/png": "[encoded data removed]",
      "text/plain": [
       "<Figure size 576x432 with 1 Axes>"
      ]
     },
     "metadata": {
      "needs_background": "light"
     },
     "output_type": "display_data"
    }
   ],
   "source": [
    "# A teď vykresli naši funkci, spolu s osou x, jako je níže\n",
    "plt.plot(d, f)\n",
    "plt.axhline(0, color='k', lw=0.5)\n",
    "plt.axvline(0, color='k', lw=0.5)\n",
    "plt.xlabel('Průměr pizzy, d [cm]')\n",
    "plt.ylabel('Rozdíl ploch (2 menší - větší) [cm2]')\n",
    "plt.show()"
   ]
  },
  {
   "cell_type": "markdown",
   "metadata": {},
   "source": [
    "### Od ~23 cm průměru se vždy vyplatí koupit 2 menší pizzy\n",
    "---"
   ]
  },
  {
   "cell_type": "markdown",
   "metadata": {},
   "source": [
    "## Spočtěme průsečík přesně. Máme dvě možnosti:\n",
    "1. V sešitu intro jsme hledali průsečíky kv. funkce s osou x, v případě že známe `a,b,c`.\n",
    "2. Při řešení složitých výrazů to neni moc výhodné pokaždé upravovat rovnici na její obecný tvar s parametry `a,b,c`.\n",
    "* V Pythonu máme funkci `fsolve()`, která řeší rovnice numericky."
   ]
  },
  {
   "cell_type": "code",
   "execution_count": 5,
   "metadata": {},
   "outputs": [],
   "source": [
    "# musíme si ji však importovat, abychom ji mohli použít, a to z vědeckého pythonu scipy\n",
    "from scipy.optimize import fsolve"
   ]
  },
  {
   "cell_type": "code",
   "execution_count": 6,
   "metadata": {},
   "outputs": [],
   "source": [
    "## Do fsolve musíme vložit funkci proměnné/proměnných\n",
    "## To můžeme udělat například následovně:\n",
    "# definuji (def) funkci jménem rozdil_ploch (to co vykreslujeme na ose y)\n",
    "def rozdil_ploch(d):  # rozdil_ploch je závislý jen na d\n",
    "    rozdil = 2*np.pi*(d/2)**2 - np.pi*((d+10)/2)**2  # stejný výraz jako výše\n",
    "    return rozdil  # 'návrat', tzn. funkce vrací proměnou, což je rozdil."
   ]
  },
  {
   "cell_type": "code",
   "execution_count": 7,
   "metadata": {},
   "outputs": [
    {
     "data": {
      "text/plain": [
       "-157.07963267948966"
      ]
     },
     "execution_count": 7,
     "metadata": {},
     "output_type": "execute_result"
    }
   ],
   "source": [
    "# funcki si otestujeme pro d=10\n",
    "rozdil_ploch(10)"
   ]
  },
  {
   "cell_type": "markdown",
   "metadata": {},
   "source": [
    "To znamená, že pro průměr 10 cm, 2 pizzy jsou menší o $157\\,cm^2$.\n",
    "\n",
    "---\n",
    "\n",
    "## Můžete sami vyzkoušet vkládat různé hodnoty d\n",
    " * Zkusmo tak zjistíte, kdy se rozdíl ploch stane kladným.\n",
    " * A to je moment, kdy chcete koupit 2 menší pizzy místo 1 větší."
   ]
  },
  {
   "cell_type": "code",
   "execution_count": 8,
   "metadata": {},
   "outputs": [
    {
     "ename": "TypeError",
     "evalue": "fsolve() missing 1 required positional argument: 'x0'",
     "output_type": "error",
     "traceback": [
      "\u001b[1;31m---------------------------------------------------------------------------\u001b[0m",
      "\u001b[1;31mTypeError\u001b[0m                                 Traceback (most recent call last)",
      "\u001b[1;32mC:\\Users\\DAVIDP~1\\AppData\\Local\\Temp/ipykernel_21240/444091823.py\u001b[0m in \u001b[0;36m<module>\u001b[1;34m\u001b[0m\n\u001b[0;32m      1\u001b[0m \u001b[1;31m# Teď vložíme tento výraz do fsolve, abychom měli řešení přesné\u001b[0m\u001b[1;33m\u001b[0m\u001b[1;33m\u001b[0m\u001b[1;33m\u001b[0m\u001b[0m\n\u001b[1;32m----> 2\u001b[1;33m \u001b[0mfsolve\u001b[0m\u001b[1;33m(\u001b[0m\u001b[0mrozdil_ploch\u001b[0m\u001b[1;33m)\u001b[0m\u001b[1;33m\u001b[0m\u001b[1;33m\u001b[0m\u001b[0m\n\u001b[0m",
      "\u001b[1;31mTypeError\u001b[0m: fsolve() missing 1 required positional argument: 'x0'"
     ]
    }
   ],
   "source": [
    "# Teď vložíme tento výraz do fsolve, abychom měli řešení přesné\n",
    "fsolve(rozdil_ploch)"
   ]
  },
  {
   "cell_type": "code",
   "execution_count": 9,
   "metadata": {},
   "outputs": [
    {
     "data": {
      "text/plain": [
       "array([24.14213562])"
      ]
     },
     "execution_count": 9,
     "metadata": {},
     "output_type": "execute_result"
    }
   ],
   "source": [
    "## Co znamená tato chyba?\n",
    "# fsolve() po nás potřebuje nutný vstup x0: což je v podstatě odhad (nástřel) řešení.\n",
    "# pokud napíšete fsolve a poté Shift-Tab, měla by se vám objevit nápověda se všemi vstupními parametry pro fsolve\n",
    "fsolve(rozdil_ploch, 11)"
   ]
  },
  {
   "cell_type": "markdown",
   "metadata": {},
   "source": [
    "## `fsolve()` je mocný nástroj\n",
    "* Funguje na jakýkoli typ rovnice, nejen na kvadratickou.\n",
    "* Můžeme s ním řešit dokonce i soustavy rovnic.\n",
    "\n",
    "## Bohužel nemůžeme být příliš důvěřiví (Vyzkoušejte sami):\n",
    "* Pokud budete s `x0` blízko prvního průsečíku, vrátí se vám kořen kv. rovnice, který je nelogický (negativní pizza).\n",
    "* Pokud budete blízko Vrcholu (`x0=10`), tj. minima kv. funkce, `fsolve()` bude zmatená, kterým směrem se z minima paraboly vydat.\n",
    "* Pokud budete rozumně blízko s `x0`, máte vyhráno.\n",
    "\n",
    "---"
   ]
  },
  {
   "cell_type": "markdown",
   "metadata": {},
   "source": [
    "## Jestli už vám vyhládlo, dobrá práce a dobrou chuť. Pokud ne, zkuste rozšířit řešení o problém se suchým okrajem...\n",
    "\n",
    "* Co když nemáte rádi ten proklatý suchý okraj pizzy, a měl tedy být vyloučen z našich úvah?\n",
    "* Jak to ovlivní vaše rozhodnutí o 2 vs 1?"
   ]
  },
  {
   "cell_type": "code",
   "execution_count": 10,
   "metadata": {},
   "outputs": [],
   "source": [
    "# Nejjednodušší je upravit naši funkci pro výpočet rozdílu ploch \n",
    "# přidáním volného parametru okraj, který má význam tloušťky okraje v cm.\n",
    "def rozdil_ploch(d, okraj=0): # okraj=0, pokud neuvedeme parametr okraj, python použije hodnotu předdefinovanou autorem\n",
    "    rozdil = 2*np.pi*((d-2*okraj)/2)**2 - np.pi*((d+10-2*okraj)/2)**2\n",
    "    return rozdil"
   ]
  },
  {
   "cell_type": "code",
   "execution_count": 11,
   "metadata": {},
   "outputs": [
    {
     "data": {
      "text/plain": [
       "array([26.14213562])"
      ]
     },
     "execution_count": 11,
     "metadata": {},
     "output_type": "execute_result"
    }
   ],
   "source": [
    "# Zopakujte fsolve(), hodnotu tloušťky okraje vložíte jako args=1\n",
    "fsolve(rozdil_ploch, 15, args=1)"
   ]
  },
  {
   "cell_type": "code",
   "execution_count": 12,
   "metadata": {},
   "outputs": [
    {
     "data": {
      "image/png": "[encoded data removed]",
      "text/plain": [
       "<Figure size 576x432 with 1 Axes>"
      ]
     },
     "metadata": {
      "needs_background": "light"
     },
     "output_type": "display_data"
    }
   ],
   "source": [
    "# Opětovné vykreslení grafů\n",
    "plt.plot(d, f, label='okraj in')\n",
    "plt.plot(d, rozdil_ploch(d,1), label='okraj out')\n",
    "plt.axhline(0, color='k', lw=0.5)\n",
    "plt.axvline(0, color='k', lw=0.5)\n",
    "plt.xlabel('Průměr pizzy, d [cm]')\n",
    "plt.ylabel('Rozdíl ploch (2 menší - větší) [cm2]')\n",
    "plt.legend()\n",
    "plt.show()"
   ]
  },
  {
   "cell_type": "markdown",
   "metadata": {},
   "source": [
    "## Otázky k zamyšlení:\n",
    "1. Je správně, že křivka pro d < 10 roste? Jak si to vysvětluješ? \n",
    "2. Dokážeš sešit upravit pro případ, že jdete na pizzu ve třech, porovnáváš tedy 3 vs 2?\n",
    "3. Jak postupovat, když cena dvou menších pizz není totožná s cenou jedné větší?\n",
    "\n",
    "----"
   ]
  },
  {
   "cell_type": "markdown",
   "metadata": {},
   "source": [
    "# Pymarádu zdar!!!"
   ]
  },
  {
   "cell_type": "code",
   "execution_count": null,
   "metadata": {},
   "outputs": [],
   "source": []
  }
 ],
 "metadata": {
  "kernelspec": {
   "display_name": "pymarad",
   "language": "python",
   "name": "pymarad"
  },
  "language_info": {
   "codemirror_mode": {
    "name": "ipython",
    "version": 3
   },
   "file_extension": ".py",
   "mimetype": "text/x-python",
   "name": "python",
   "nbconvert_exporter": "python",
   "pygments_lexer": "ipython3",
   "version": "3.7.1"
  }
 },
 "nbformat": 4,
 "nbformat_minor": 4
}
