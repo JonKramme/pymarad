{
 "cells": [
  {
   "cell_type": "markdown",
   "metadata": {},
   "source": [
    "# Příklad o Pizze\n",
    "* Jdeš s kamarádem na Pizzu.\n",
    "* Nabídka je jasná, menší pizza stojí 100, větší, která má o 10cm větší průměr, stojí 200\n",
    "\n",
    "## Otázky\n",
    "* Při jakém průměru se vyplatí koupit 2 menší, a kdy 1 větší?\n",
    "* Vyplatí se někdy koupit 1 větší než 3 menší?"
   ]
  },
  {
   "cell_type": "markdown",
   "metadata": {},
   "source": [
    "---\n",
    "---\n",
    "# Pokud je toto tvoje poprvé s Jupyter Notebookem :\n",
    "* Každá buňka se provede po stisknutí shift-Enter, musíš v ní mít ale kurzor.\n",
    "* Po uspěšném proběhnutí buňky se objeví alevo od ní \"pořadové\" číslo průběhu.\n",
    "* Pro provedení buňky a vytvoření nové prázdné pod ní, tiskni Alt-Enter.\n",
    "* Jakýkoli text za znakem # je komentář a Python ho ignoruje až do konce řádku.\n",
    "* Pozor: Pokud proběhneš prázdnou buňku, která má pod sebou výstup jako nápovědu, nápověda ti zmizí, proto Alt-Enter.\n",
    "---\n",
    "---"
   ]
  },
  {
   "cell_type": "code",
   "execution_count": 1,
   "metadata": {},
   "outputs": [],
   "source": [
    "# importuj  klasické moduly jako ve výkladu\n"
   ]
  },
  {
   "cell_type": "code",
   "execution_count": 2,
   "metadata": {},
   "outputs": [
    {
     "name": "stdout",
     "output_type": "stream",
     "text": [
      "[ 0.   0.5  1.   1.5  2.   2.5  3.   3.5  4.   4.5  5.   5.5  6.   6.5\n",
      "  7.   7.5  8.   8.5  9.   9.5 10.  10.5 11.  11.5 12.  12.5 13.  13.5\n",
      " 14.  14.5 15.  15.5 16.  16.5 17.  17.5 18.  18.5 19.  19.5 20.  20.5\n",
      " 21.  21.5 22.  22.5 23.  23.5 24.  24.5 25.  25.5 26.  26.5 27.  27.5\n",
      " 28.  28.5 29.  29.5 30.  30.5 31.  31.5 32.  32.5 33.  33.5 34.  34.5\n",
      " 35.  35.5 36.  36.5 37.  37.5 38.  38.5 39.  39.5 40.  40.5 41.  41.5\n",
      " 42.  42.5 43.  43.5 44.  44.5 45.  45.5 46.  46.5 47.  47.5 48.  48.5\n",
      " 49.  49.5 50. ]\n"
     ]
    }
   ],
   "source": [
    "# neznámá je tedy průměr pizzy (d)\n",
    "# vytvoř pole rozumných hodnot d\n"
   ]
  },
  {
   "cell_type": "markdown",
   "metadata": {},
   "source": [
    "## Podmínka kterou hledáme je kdy dvě plochy menší pizzy je víc než plocha 1 větší\n",
    "\n",
    "$2S_{mensi}{\\gt}S_{vetsi}$\n",
    "\n",
    "* Doufejme, ze je pizza kruhová\n",
    "\n",
    "$ 2{\\cdot}\\pi\\left(\\dfrac{d}{2}\\right)^2 \\gt \\pi\\left(\\dfrac{d+10}{2}\\right)^2$\n",
    "\n",
    "Po převedení na jednu stranu řešíme kdy má daná FUNKCE hodnoty > 0\n",
    "* POZN. $\\pi$ se v pythonu zapisuje jako np.pi"
   ]
  },
  {
   "cell_type": "code",
   "execution_count": 3,
   "metadata": {},
   "outputs": [],
   "source": [
    "# spočti hodnoty funkce vyjadřující rozdíl ploch pizz pro d, která sis vybrala\n"
   ]
  },
  {
   "cell_type": "code",
   "execution_count": 4,
   "metadata": {},
   "outputs": [
    {
     "data": {
      "image/png": "[encoded data removed]",
      "text/plain": [
       "<Figure size 720x432 with 1 Axes>"
      ]
     },
     "metadata": {
      "needs_background": "light"
     },
     "output_type": "display_data"
    }
   ],
   "source": [
    "# A teď vykresli nasi funkci, spolu s osou x, jako je níže\n"
   ]
  },
  {
   "cell_type": "markdown",
   "metadata": {},
   "source": [
    "\n",
    "---"
   ]
  },
  {
   "cell_type": "markdown",
   "metadata": {},
   "source": [
    "## Spočtěme průsečík přesně. Máme dvě možnosti:\n",
    "1. Ve výkladu máme metodu, kdy musíme znát a,b,c, tedy upravit náš výraz na papíře.\n",
    "2. V praxi řeššení složitých výrazů to neni moc výhodné pokaždé přepočítávat a,b,c.\n",
    "* Proto líní programátoři vymysleli funkci FSOLVE, která řeší rovnice numericky."
   ]
  },
  {
   "cell_type": "code",
   "execution_count": 5,
   "metadata": {},
   "outputs": [],
   "source": [
    "# musíme si ji však importovat, abychom ji mohli použít\n",
    "from scipy.optimize import fsolve"
   ]
  },
  {
   "cell_type": "code",
   "execution_count": 6,
   "metadata": {},
   "outputs": [],
   "source": [
    "## Do fsolve musíme vložit funkci proměné/proměných\n",
    "## To můžeme udělat například následovně:\n",
    "# definuji (def) funkci jménem rozdil_ploch (to co vykreslujeme na ose y)\n"
   ]
  },
  {
   "cell_type": "code",
   "execution_count": 7,
   "metadata": {},
   "outputs": [
    {
     "data": {
      "text/plain": [
       "-157.07963267948966"
      ]
     },
     "execution_count": 7,
     "metadata": {},
     "output_type": "execute_result"
    }
   ],
   "source": [
    "# funcki si otestujeme pro d=10\n"
   ]
  },
  {
   "cell_type": "markdown",
   "metadata": {},
   "source": [
    "To znamená, že pro průměr 10cm, 2 pizzy jsou menší o $157\\,cm^2$.\n",
    "\n",
    "---\n",
    "\n",
    "## Můžete sami vyzkoušet vkládat různé hodnoty d\n",
    " * Zkusmo tak zjistíte kdy rozdíl ploch se právě stane kladným.\n",
    " * A to je moment, kdy chcete koupit větší pizzu místo 2 malých."
   ]
  },
  {
   "cell_type": "code",
   "execution_count": 8,
   "metadata": {},
   "outputs": [
    {
     "ename": "TypeError",
     "evalue": "fsolve() missing 1 required positional argument: 'x0'",
     "output_type": "error",
     "traceback": [
      "\u001b[1;31m---------------------------------------------------------------------------\u001b[0m",
      "\u001b[1;31mTypeError\u001b[0m                                 Traceback (most recent call last)",
      "\u001b[1;32m<ipython-input-8-872255ea960f>\u001b[0m in \u001b[0;36m<module>\u001b[1;34m\u001b[0m\n\u001b[0;32m      1\u001b[0m \u001b[1;31m# Teď vložíme tento výraz do fsolve, abychom to měli doufejme přesnější a hned\u001b[0m\u001b[1;33m\u001b[0m\u001b[1;33m\u001b[0m\u001b[1;33m\u001b[0m\u001b[0m\n\u001b[1;32m----> 2\u001b[1;33m \u001b[0mfsolve\u001b[0m\u001b[1;33m(\u001b[0m\u001b[0mrozdil_ploch\u001b[0m\u001b[1;33m)\u001b[0m\u001b[1;33m\u001b[0m\u001b[1;33m\u001b[0m\u001b[0m\n\u001b[0m",
      "\u001b[1;31mTypeError\u001b[0m: fsolve() missing 1 required positional argument: 'x0'"
     ]
    }
   ],
   "source": [
    "# Teď vložíme tento výraz do fsolve, abychom to měli doufejme přesnější a hned\n"
   ]
  },
  {
   "cell_type": "code",
   "execution_count": 9,
   "metadata": {},
   "outputs": [
    {
     "data": {
      "text/plain": [
       "array([24.14213562])"
      ]
     },
     "execution_count": 9,
     "metadata": {},
     "output_type": "execute_result"
    }
   ],
   "source": [
    "## Co znamená tato chyba?\n",
    "# fsolve po nás potřebuje nutný vstup x0: což je v podstatě odhad (nástřel) řešení.\n"
   ]
  },
  {
   "cell_type": "markdown",
   "metadata": {},
   "source": [
    "# Vyzkoušejte sami\n",
    "## Bohužel nemůžeme být příliš důvěřivý:\n",
    "* Pokud budete s x0 blízko prvního průsečíku, vrátí se vám kořen kv. rovnice, který je nelogický (negativní pizza).\n",
    "* Pokud budete blízko Vrcholu (x0=10), tj. minima kv. funkce, fsolve bude zmaten, kterým směrem se y minima vydat.\n",
    "* Pokud budete rozumně blízko s x0, máte vyhráno."
   ]
  },
  {
   "cell_type": "markdown",
   "metadata": {},
   "source": [
    "## Ted zkuste vyřešit, kdy se vyplatí 1 větší, místo tří menších\n",
    "* pozor, tato otazka je opačně položena než ta první"
   ]
  },
  {
   "cell_type": "code",
   "execution_count": 10,
   "metadata": {},
   "outputs": [],
   "source": [
    "## definuj f2, podobně jako předtím f1\n"
   ]
  },
  {
   "cell_type": "code",
   "execution_count": 11,
   "metadata": {},
   "outputs": [
    {
     "data": {
      "image/png": "[encoded data removed]",
      "text/plain": [
       "<Figure size 720x432 with 1 Axes>"
      ]
     },
     "metadata": {
      "needs_background": "light"
     },
     "output_type": "display_data"
    }
   ],
   "source": [
    "# Vykresli funkci spolu s osou x, jako je níže\n"
   ]
  },
  {
   "cell_type": "code",
   "execution_count": 12,
   "metadata": {},
   "outputs": [],
   "source": [
    "# definuji rozdil_ploch2 (to co vykreslujeme na ose y), který zavisí jen na d\n",
    "# novou funkci potřebujeme protože teď počítáme 3 vs 1\n"
   ]
  },
  {
   "cell_type": "code",
   "execution_count": 13,
   "metadata": {},
   "outputs": [
    {
     "data": {
      "text/plain": [
       "array([13.66025404])"
      ]
     },
     "execution_count": 13,
     "metadata": {},
     "output_type": "execute_result"
    }
   ],
   "source": [
    "# Zkuste fsolve pro d=11\n"
   ]
  },
  {
   "cell_type": "markdown",
   "metadata": {},
   "source": [
    "Do 13.7 cm je lepší koupit 1 větší než 3 menší pizzy"
   ]
  },
  {
   "cell_type": "markdown",
   "metadata": {},
   "source": [
    "---\n",
    "\n",
    "## Jestli už vám vyhládlo, dobrá práce. Teď už víte, jak na pizzu.\n",
    "## Pokud ne, zkuste rozšířit řešení o problém se suchým okrajem..."
   ]
  },
  {
   "cell_type": "markdown",
   "metadata": {},
   "source": [
    "* Co když nemáte rádi okraj pizzy, který je vždy 1cm okraje, a tedy by měl být vyloučen z úvah?\n",
    "* Jak to ovlivní vase rozhodnutí se 2 a třemi pizzami?"
   ]
  },
  {
   "cell_type": "code",
   "execution_count": 14,
   "metadata": {},
   "outputs": [],
   "source": [
    "# Nejjednodušší je upravit naše funkce pro výpočet rozdílu ploch \n",
    "# přidáním volného parametru okraj\n",
    "# který má význam tloušťky okraje v cm.\n",
    "def rozdil_ploch(d, okraj):\n",
    "    pass\n",
    "\n",
    "def rozdil_ploch(d, okraj):\n",
    "    pass"
   ]
  },
  {
   "cell_type": "code",
   "execution_count": 15,
   "metadata": {},
   "outputs": [],
   "source": [
    "# Zopakujte fsolve\n"
   ]
  },
  {
   "cell_type": "code",
   "execution_count": 16,
   "metadata": {},
   "outputs": [],
   "source": [
    "# A vykreslení grafů\n"
   ]
  }
 ],
 "metadata": {
  "kernelspec": {
   "display_name": "Python 3",
   "language": "python",
   "name": "python3"
  },
  "language_info": {
   "codemirror_mode": {
    "name": "ipython",
    "version": 3
   },
   "file_extension": ".py",
   "mimetype": "text/x-python",
   "name": "python",
   "nbconvert_exporter": "python",
   "pygments_lexer": "ipython3",
   "version": "3.7.6"
  }
 },
 "nbformat": 4,
 "nbformat_minor": 4
}
