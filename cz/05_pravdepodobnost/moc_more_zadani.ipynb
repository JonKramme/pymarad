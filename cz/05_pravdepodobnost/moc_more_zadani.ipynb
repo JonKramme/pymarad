{
 "cells": [
  {
   "cell_type": "markdown",
   "metadata": {},
   "source": [
    "# To ty jsi načůral do moře?\n",
    "* Témata: Chemie, molekuly vody, binomické rozdělení, Avogadrova konstanta, izotopy, převod jednotek, for cyklus v Pythonu, modul `scipy.stats`\n",
    "\n",
    "## Zadání\n",
    "* I kdyby se spřímo nikdy do této ostudné aktivity přímo nezapojil, přísáhám, že tisíce či miliony čůrají do moře právě teď.\n",
    "* Náš chemický experiment vypadá následovně:\n",
    "  1. Načůráš do sklenice (300 ml) a vyliješ ji do světových moří.\n",
    "  2. Pak počkáš až ty se perfektně promíchají (To by trvalo příliš dlouho, takže ideálně promíchaný oceán jen uvážíme).\n",
    "  3. Nakonec nabereš do stejné sklenice vodu z oceánu.\n",
    "\n",
    "\n",
    "## Otázky\n",
    "* Jaký je průměrný počet molekul tvé moči v nabrané sklenici?\n",
    "* Jaká je pravděpodobnost, že do sklenice nabereš více než 2300 molekul své moči?\n",
    "* Pokud vezmeme jeden z nejsilnějších jedů světa, $\\mathrm{^{210}Po}$, kolik atomů ve sklenici vody by tě zabilo?"
   ]
  },
  {
   "cell_type": "markdown",
   "metadata": {},
   "source": [
    "---\n",
    "---\n",
    "# Pokud je toto tvůj první Jupyter Notebook:\n",
    "* Buňka (cell) se provede kombinací `Shift-Enter`, musíš v ní mít ale kurzor.\n",
    "* Po úspěšném proběhnutí buňky se objeví nalevo od ní \"pořadové\" číslo průběhu.\n",
    "* Provedení buňky a vytvoření nové prázdné pod ní, použij `Alt-Enter`.\n",
    "* Jakýkoli text za znakem # je komentář a Python ho ignoruje až do konce řádku.\n",
    "* Pozor: Pokud proběhneš prázdnou buňku, která má pod sebou výstup jako nápovědu, nápověda ti zmizí, proto `Alt-Enter`.\n",
    "---\n",
    "---"
   ]
  },
  {
   "cell_type": "code",
   "execution_count": 1,
   "metadata": {},
   "outputs": [],
   "source": [
    "import scipy.stats as stats      # statistický modul pythonu\n",
    "import scipy.constants as const  # všechny fyzikální a matematické konstanty\n",
    "\n",
    "import numpy as np\n",
    "import matplotlib.pyplot as plt\n",
    "\n",
    "# import matplotlib as mpl\n",
    "plt.rcParams['figure.figsize'] = [8,6] # velikost grafu\n",
    "plt.rcParams['lines.linewidth'] = 3  # šířka vykreslované čáry \n",
    "plt.rcParams['lines.markersize'] = 10  # velikokost bodů v grafu\n",
    "plt.rcParams['xtick.labelsize'] = 12  # velikost fontu popisků osových bodů x\n",
    "plt.rcParams['ytick.labelsize'] = 12 # velikost fontu popisků osových bodů y\n",
    "plt.rcParams['axes.labelsize'] = 'larger'  # velikost fontu názvu os\n",
    "\n",
    "# odkomentováním příkazu vypíšete všechny nastavitelné vlastnosti\n",
    "# svobodě Python meze rozhodně neklade:)\n",
    "# plt.rcParams.keys()"
   ]
  },
  {
   "cell_type": "markdown",
   "metadata": {},
   "source": [
    "## Nejprve pojďme zjistit, kolik vody je dohromady ve světových mořích?\n",
    "Díky [Wikipedii](https://cs.wikipedia.org/wiki/Sv%C4%9Btov%C3%BD_oce%C3%A1n) to není tak těžké:\n",
    "\n",
    "* přibližně 1.335 miliard kilometrů krychlových\n",
    "* krychlový (kubický) kilometr je kostka  o straně 1km a takových máme 1 335 000 000"
   ]
  },
  {
   "cell_type": "code",
   "execution_count": 2,
   "metadata": {},
   "outputs": [],
   "source": [
    "## Jaký je faktor pro převod z krychlových kilometrů na litry?\n",
    "## nápověda: 1 litr je krychlový decimetr\n",
    "km3_na_litry = \n",
    "\n",
    "# Těď můžeme spočítat kolik litrů vody je celkem ve všech světových oceánech dohromady\n",
    "# použij svůj převodní faktor km3_na_litry\n",
    "voda_celkem = "
   ]
  },
  {
   "cell_type": "markdown",
   "metadata": {},
   "source": [
    "### My se ale pídíme po počtu molekul, musíme tedy spočíst kolik je molekul v jednom litru vody?\n",
    "\n",
    "To zjistíme za cenu naučení se co je to jednotka mol. Definice je celkem náhodná (a taky se měnila v průběhu historie):\n",
    "  * 1 mol je počet atomů ve 12 g uhlíku $\\mathrm{^{12}_{6}C}$. Tento počet se nazývá **Avogadrova konstanta**, a nejspíš uhodnete, že to bude velké číslo, když jsou atomy malé. Uvidíme za chvilku. \n",
    "  * A 12 je také *standartní atomová hmotnost* uhlíku. \n",
    "  * Není to přesně 12, protože se zaprvé v přírodě se vyskytují různé izotopy uhlíku $\\mathrm{_{6}C}$, které mají jinou hmotnost, ale budou všechny smíchané v čistém vzorku uhlíkových atomů. A zadruhé to není přesně 12 díky nedávným technickým změnám definic 1 molu, které jsou však pro nás zanedbatelné [změny](https://en.wikipedia.org/wiki/2019_redefinition_of_the_SI_base_units#Mole). Odkaz je na anglickou obsáhlejší verzi vysvětlení.\n",
    "  * Důležité je pro nás jen jedno, můžeme vzít *standartní atomovou hmotnost* dvou atomů vodíku a jednoho atomu kyslíku tvořící molekulu $\\mathrm{H_{2}O}$ a dostaneme velmi přesně hmotnost 1 molu vody $\\mathrm{H_{2}O}$:\n",
    "    \n",
    "$\\mathrm{m_{voda}=18.02\\,g\\cdot{mol^{-1}}}$,\n",
    "  spolu s hustotou vody přibližně $\\mathrm{1000\\,g/l}$, již můžete spočítat kolik molů vody je v litru vody.\n",
    "  \n",
    "### Poznámky\n",
    "  1. 6 se z $\\mathrm{^{12}_{6}C}$ často vynechává, protože nazvat atom uhlíkem znamená, že musí mít 6 protonů. $\\mathrm{^{12}C}$ znamená, že náš atom uhlíku má také 6 neutronů (6 protonů + 6 neutronů = 12 nukleonů). Změnou počtu neutronů (a ničeho jiného) nám dá takzvané izotopy daného prvku.\n",
    "  2. Existuje 15 izotopů uhlíku, $\\mathrm{^{8}C}$ - $\\mathrm{^{22}C}$, což značí uhlík s 2 až 16 neutrony. Jen 2 z těchto izotopů jsou stabilní a 3 se vyskytují v přírodě. Ostatní je možné připravit umělě v laboratoři, ale většinou vykazují rychlý radioaktivní rozpad.\n",
    "  3. Z toho vyplývá, že máme jeden přírodní izotop uhlíku, který není úplně stabilní, a to je $\\mathrm{^{14}C}$. Díky tomu že jeho rozpad může trvat tisíce let, se tento používá k určování stáří organických vzorků, například kostí nebo nějakých starých dokumentů. Metoda může být překvapivě přesná a jmenuje se [Radiokarbonová metoda datování](https://cs.wikipedia.org/wiki/Radiokarbonov%C3%A1_metoda_datov%C3%A1n%C3%AD)."
   ]
  },
  {
   "cell_type": "markdown",
   "metadata": {},
   "source": [
    "### Na základě výše popsaného, spočti kolik molekul je v 1 litru vody."
   ]
  },
  {
   "cell_type": "code",
   "execution_count": 3,
   "metadata": {},
   "outputs": [],
   "source": [
    "# molů H2O v 1 litru, nápověda: použij m_voda\n",
    "moly_v_litru = "
   ]
  },
  {
   "cell_type": "code",
   "execution_count": 4,
   "metadata": {},
   "outputs": [
    {
     "data": {
      "text/plain": [
       "6.02214076e+23"
      ]
     },
     "execution_count": 4,
     "metadata": {},
     "output_type": "execute_result"
    }
   ],
   "source": [
    "# Avogadrova konstanta, stejně jako většina ostatních konstant je dostupná v modulu scipy.constants\n",
    "# který jsem importoval pod zkratkou (anglicky as) const, a tak se na tento modul musím také odkazovat\n",
    "const.Avogadro"
   ]
  },
  {
   "cell_type": "markdown",
   "metadata": {},
   "source": [
    "notace `e+23` se nazývá vědecká, a znamené že k číslu před `e` musím přidat tolik nul, kolik je číslo za `e`\n",
    "\n",
    "### Jak jsem zmínil výše, 1 mol obsahuje počet částic rovnající se Avogadrově konstantě ($\\mathrm{N_A}$)\n",
    "  * Takže kolik molekul vody máme ve všech oceánech dohromady?\n",
    "  * Vynásob litry oceánu s počtem molů v litru -> moly v oceánu -> krát $\\mathrm{N_A}$ -> počet molekul."
   ]
  },
  {
   "cell_type": "code",
   "execution_count": 5,
   "metadata": {},
   "outputs": [],
   "source": [
    "# celkový počet molekul vody v oceánech\n",
    "molekul_vody = "
   ]
  },
  {
   "cell_type": "markdown",
   "metadata": {},
   "source": [
    "### Teď stejná úvaha pro sklenici teplé moči"
   ]
  },
  {
   "cell_type": "code",
   "execution_count": 6,
   "metadata": {},
   "outputs": [],
   "source": [
    "# rovnou vyjádřeno jako počet molekul\n",
    "molekul_sklenice = "
   ]
  },
  {
   "cell_type": "code",
   "execution_count": 7,
   "metadata": {},
   "outputs": [
    {
     "data": {
      "text/plain": [
       "1.002576153163152e+25"
      ]
     },
     "execution_count": 7,
     "metadata": {},
     "output_type": "execute_result"
    }
   ],
   "source": [
    "# vypiš proměnou\n",
    "molekul_sklenice"
   ]
  },
  {
   "cell_type": "code",
   "execution_count": 8,
   "metadata": {},
   "outputs": [
    {
     "name": "stdout",
     "output_type": "stream",
     "text": [
      " Celkový počet molekul vody v oceánech: 4.461463881576027e+46\n",
      " Celkový počet molekul ve sklenici moči: 1.002576153163152e+25\n"
     ]
    }
   ],
   "source": [
    "## Vytvoř následující výpis\n"
   ]
  },
  {
   "cell_type": "markdown",
   "metadata": {},
   "source": [
    "To jsou celkem velká čísla ne? 4e+46 znamená 4 a 46 nul:)\n",
    "\n",
    "## Nastal čas zodpovědět první otázku, kolik molekul vlastní moči nabereme v průměru zpět do sklenice po promíchání světových oceánů?"
   ]
  },
  {
   "cell_type": "code",
   "execution_count": 9,
   "metadata": {},
   "outputs": [
    {
     "name": "stdout",
     "output_type": "stream",
     "text": [
      "2253\n"
     ]
    }
   ],
   "source": [
    "# průměrný počet je vlastné zlomek molekul moč vs oceán vynásobený počtem molekul,\n",
    "# který se vejde do sklenice (ten již máme spočtený)\n",
    "moc_prum = \n",
    "print(round(moc_prum))"
   ]
  },
  {
   "cell_type": "markdown",
   "metadata": {},
   "source": [
    "### To je překvapivě mnoho, ale jen do doby, kdy si uvědomíte, kolik normálních molekul vody je ve sklenici na jednu moči."
   ]
  },
  {
   "cell_type": "code",
   "execution_count": 10,
   "metadata": {},
   "outputs": [
    {
     "data": {
      "text/plain": [
       "4450000000000001048576"
      ]
     },
     "execution_count": 10,
     "metadata": {},
     "output_type": "execute_result"
    }
   ],
   "source": [
    "# 1 molekula moči na kolik molekul vody?\n"
   ]
  },
  {
   "cell_type": "markdown",
   "metadata": {},
   "source": [
    "Samozřejmě, že tvá moč je obrovsky zředěná. Celý zmatek nám v hlavě vzniká z toho, jak jsou molekuly nepředstavitelně malé, proto se jich vejde do sklenice tak moc.\n",
    "\n",
    "## Teď nastává čas pohrát si s pravděpodobnostmi.\n",
    "  * Chceme zjistit pravděpodobnost najití > 2300 molekul moči ve sklenici moře.\n",
    "  * Pro tento účel se hodí tzv. **Binomické rozdělení**, metoda `scipy.stats.binom()`\n",
    "  * To se používá pro experimenty kdy vytahujeme `n`-krát ze souboru o celkovém počtu `N` (molekul moře). \n",
    "  * Navíc jsou možné jen dva výsledky, úspěch (molekula moči) nebo selhání (molekula moře). \n",
    "  * Přesně řečeno, binomické rozdělení je podmíněno tím, že každou vylosovanou molekulu **NAHRADÍME** stejnou molekulou v moři. To znamená, že neměníme pravděpodobnost dalšího nasledujícího losování.\n",
    "  * Bez nahrazování (vracení) molekul se striktně správné rozdělení nazývá **Hypergeometrické**, metoda Pythonu `scipy.stats.hypergeom()`.\n",
    "  * Pokuď ale je celkový počet molekul mnohem větší než molekul moči `N>>n` (což je v našem případě pravda), binomické rozdělení by mělo fungovat perfektně.\n",
    "  \n",
    "### Rozdíl mezi `hypergeom()` a `binom()` vám ukážu na krátkém příkladu.\n",
    "  * Máme pytlík s 20 molekulami, 5 jedovatých a 15 normálních.\n",
    "  * Pokud vytáhneme jedovatou, prohráli jsme (taková ruská ruleta).\n",
    "  * Budeme vytahovat z pytlíku 5-krát, jaká je naše šance přežití?\n",
    "  \n",
    "1. Pokud vždy nahradíme molekulu, kterou jsme právě vytáhli, při každém tahu máme pytlík 20 molekul (5+15)\n",
    "2. V každém kole je tedy pravděpodobnost vytažení bezpečné molekuly 15/20.\n",
    "3. Pravděpodobnosti každého kola se násobí, celkem tedy za 5 kol máme:"
   ]
  },
  {
   "cell_type": "code",
   "execution_count": 11,
   "metadata": {},
   "outputs": [
    {
     "name": "stdout",
     "output_type": "stream",
     "text": [
      "0.2373046875\n"
     ]
    }
   ],
   "source": [
    "pravde_binom = (15/20)*(15/20)*(15/20)*(15/20)*(15/20)  ## nebo kratší verze: (15/20)**5\n",
    "print(pravde_binom)"
   ]
  },
  {
   "cell_type": "markdown",
   "metadata": {},
   "source": [
    "## Binomické rozdělení\n",
    "### $Pr(k,n,p) = \\binom{n}{k}p^k(1-p)^{n-k}$, \n",
    "\n",
    "kde $\\binom{n}{k}$ je *binomický koeficient* nebo také *binomické číslo*:\n",
    "\n",
    "### $\\binom{n}{k}=\\dfrac{n!}{k!(n-k)!}$\n",
    "\n",
    "`k` značí, kolik úspěšných tahů z pytlíku chceme,\n",
    "\n",
    "`n` je celkový počet tahů,\n",
    "\n",
    "`p` je pravěpodobnost úspěšného tahu v jednom kole (pro nás vytažení bezpečné molekuly)."
   ]
  },
  {
   "cell_type": "code",
   "execution_count": 12,
   "metadata": {},
   "outputs": [
    {
     "data": {
      "text/plain": [
       "0.2373046875"
      ]
     },
     "execution_count": 12,
     "metadata": {},
     "output_type": "execute_result"
    }
   ],
   "source": [
    "# Stejný výpočet provedeme v Pythonu jediným příkazem, metodou pmf z binom() rozdělení \n",
    "# pmf je z anglického `probability mass function`, česky pravděpodobnostní funkce\n",
    "stats.binom.pmf(k=5, n=5, p=15/20)"
   ]
  },
  {
   "cell_type": "markdown",
   "metadata": {},
   "source": [
    "Výsledek je stejný, máme tedy 24% šanci přežití.\n",
    "\n",
    "### Je jasné, že nahrazujeme molekuly, protože naše pravděpodobnost je v každém kole 15/20, tzn. vždy 5+15 molekul v pytlíku.\n",
    "  * Pokud molekuly NEnahradíme (nebo nevratíme do pytlíku), potom po prvním vytažení. bezpečné molekuly nám v pytlíku zbyde jen 19 molekul, 5 jedovatých a 14 bezpečných\n",
    "  * Proto v příštím kole bude naše šance přežít menší, a to 14/19."
   ]
  },
  {
   "cell_type": "code",
   "execution_count": 13,
   "metadata": {},
   "outputs": [
    {
     "data": {
      "image/png": "[encoded data removed]",
      "text/plain": [
       "<Figure size 576x432 with 1 Axes>"
      ]
     },
     "metadata": {
      "needs_background": "light"
     },
     "output_type": "display_data"
    }
   ],
   "source": [
    "# Teď spočteme pravděpodobnosti všech možných výsledků\n",
    "vyher = [0, 1, 2, 3, 4, 5, 6]  # kolik bezpečných molekul je vytaženo za 5 kol\n",
    "\n",
    "# vykreslení rozdělení\n",
    "\n",
    "plt.xlabel('Počet bezpečných molekul za 5 kol')\n",
    "plt.ylabel('Pravděpodobnost')\n",
    "plt.show()"
   ]
  },
  {
   "cell_type": "markdown",
   "metadata": {},
   "source": [
    "Přidal jsem 6 do seznamu výher, abychom potvrdili, že pravděpodobnost skočí na 0. Musí, protože hrajeme jen 5 kol, takže nelze vytáhnout 6 molekul.\n",
    "\n",
    "Také si všimněte, že NEJpravděpodobnější výsledek je vytažení 4 bezpečných molekul (40% šance)."
   ]
  },
  {
   "cell_type": "code",
   "execution_count": 14,
   "metadata": {},
   "outputs": [
    {
     "data": {
      "text/plain": [
       "array([0.00097656, 0.01464844, 0.08789062, 0.26367187, 0.39550781,\n",
       "       0.23730469, 0.        ])"
      ]
     },
     "execution_count": 14,
     "metadata": {},
     "output_type": "execute_result"
    }
   ],
   "source": [
    "# vypiš číselné hodnoty\n"
   ]
  },
  {
   "cell_type": "markdown",
   "metadata": {},
   "source": [
    "### Každé pořádné pravděpodobnostní rozdělení musí mít součet všech hodnot rovný 1\n",
    " * Poznámka: Pro spojitá pravděpodobnostní rozdělení (pokud jsou výsledky reálná čísla), součet (suma) hodnot by se pak nazývala integrál, kdyby vás tento termín někde potkal.\n",
    " * Naše výsledky jsou tzv. *diskrétní* (0,1,2 atd.), nic mezi tím."
   ]
  },
  {
   "cell_type": "code",
   "execution_count": 15,
   "metadata": {},
   "outputs": [
    {
     "data": {
      "text/plain": [
       "0.9999999999999998"
      ]
     },
     "execution_count": 15,
     "metadata": {},
     "output_type": "execute_result"
    }
   ],
   "source": [
    "# Zkontroluj, že opravdu je suma (metoda sum()) našich pravděpodobností (hodnoty z grafu výše) rovna 1.\n"
   ]
  },
  {
   "cell_type": "markdown",
   "metadata": {},
   "source": [
    "Skoro perfektní, pojďme na stejný příklad, ale s NAHRAZOVÁNÍM molekul.\n",
    "\n",
    "## Hypergeometrické rozdělení ([stránka wikipedie](https://cs.wikipedia.org/wiki/Hypergeometrick%C3%A9_rozd%C4%9Blen%C3%AD))"
   ]
  },
  {
   "cell_type": "code",
   "execution_count": 16,
   "metadata": {},
   "outputs": [
    {
     "name": "stdout",
     "output_type": "stream",
     "text": [
      "0.19369195046439627\n"
     ]
    }
   ],
   "source": [
    "# šance přežití při 5 tazích\n",
    "prav_hyper = (15/20)*(14/19)*(13/18)*(12/17)*(11/16)\n",
    "print(prav_hyper)"
   ]
  },
  {
   "cell_type": "code",
   "execution_count": 17,
   "metadata": {},
   "outputs": [
    {
     "data": {
      "text/plain": [
       "0.19369195046439577"
      ]
     },
     "execution_count": 17,
     "metadata": {},
     "output_type": "execute_result"
    }
   ],
   "source": [
    "# metoda pmf() provede to samé, zkontrolujeme si, jestli naše úvahy byly správné\n",
    "stats.hypergeom.pmf(k=5, M=20, n=15, N=5)"
   ]
  },
  {
   "cell_type": "code",
   "execution_count": 18,
   "metadata": {},
   "outputs": [
    {
     "data": {
      "image/png": "[encoded data removed]",
      "text/plain": [
       "<Figure size 576x432 with 1 Axes>"
      ]
     },
     "metadata": {
      "needs_background": "light"
     },
     "output_type": "display_data"
    }
   ],
   "source": [
    "# vykresli do jednoho grafu binomické a hypergeometrické rozdělení, která jsme právě spočetli\n",
    "\n",
    "plt.xlabel('Počet bezpečných molekul za 5 kol')\n",
    "plt.ylabel('Pravděpodobnost')\n",
    "plt.legend()\n",
    "plt.show()"
   ]
  },
  {
   "cell_type": "code",
   "execution_count": 20,
   "metadata": {},
   "outputs": [
    {
     "data": {
      "text/plain": [
       "0.999999999999998"
      ]
     },
     "execution_count": 20,
     "metadata": {},
     "output_type": "execute_result"
    }
   ],
   "source": [
    "## Opět zkontroluj sumu všech pravděpodobností pro Hypergeom.\n",
    "sum(stats.hypergeom.pmf(k=vyher, M=20, n=15, N=5))"
   ]
  },
  {
   "cell_type": "markdown",
   "metadata": {},
   "source": [
    "## Rozdělení vypadají celkem odlišně že\n",
    " * V TOMTO případě bychom nechtěli použít Binomické rozdělení místo Hypergeometrického.\n",
    " * Jak jsem ale zmínil, pro dostatečně velký pytlík molekul (Velké `M` v porovnání s počtem molukul jedu `N`), bychom měli být schopni použít Binomické rozdělení s dostatečnou přesností.\n",
    " * Otázkou tedy je, jak to jako statističtí amatéři zjistíme. Jak velké `M` je dostatečně velké?\n",
    " * Odpovědí najdeme díky našim Pythonovským dovednostem!!!\n",
    " * Myšlenka je jednoduchá, budeme postupně zvyšovat `M` a přitom monitorovat, jak jsou `binom()` a `hypergeom()` rozdělení rozdílná."
   ]
  },
  {
   "cell_type": "code",
   "execution_count": 21,
   "metadata": {},
   "outputs": [],
   "source": [
    "## Rozdíl mezi rozděleními pouze při měnícím se M (celkový počet molekul)\n",
    "# prázdný seznam, do kterého budeme rozdíl zapisovat\n",
    "rozdil = []\n",
    "\n",
    "# Ideální příležitost ukázat si, jak v Pythonu fungují \"for cykly\"\n",
    "    # používané pro opakující se operace při změně jednoho (nebo i více) parametru\n",
    "# Ten parametr bude celkový počet molekul (n_mol)\n",
    "# Vezměme n_mol od 20 do 2000\n",
    "# a pro každou hodnotu z tohoto rozsahu spočteme:\n",
    "# rozdíl mezi binom a hypergeom\n",
    "# vezmeme to v absolutní hodnotě, protože rozdíly můžou být kladné i záporné a mohly by se nám vyrušit\n",
    "# a sečteme je pro všechny hodnoty možných výher (osa x z grafu výše)\n",
    "# Tato suma je jedno číslo, které popisuje, jak rozdílná jsou naše rozdělení.\n",
    "# Čím menší je rozdíl, tím podobnější si jsou rozdělení.\n",
    "# Poslední operací je přidání hodnoty rozdílu na konec našeho seznamu rozdil (metoda append())\n",
    "# Ve výsledku tedy můj list bude obsahovat hodnotu rozdílu pro každou velikost pytlíku molekul (od 20 do 2000),\n",
    "    # vždy ale obsahující 5 jedovatých.\n",
    "    \n",
    "# Operace se dají rozepsat na samostatné řádky, nebo vše udělat najednou, jako je to níže \n",
    "for n_mol in range(20,2000):\n",
    "    rozdil.append(sum(abs(stats.binom.pmf(vyher, 5, (n_mol-5)/n_mol) - \\\n",
    "                          stats.hypergeom.pmf(vyher, M=n_mol, n=n_mol-5, N=5))))"
   ]
  },
  {
   "cell_type": "code",
   "execution_count": 22,
   "metadata": {},
   "outputs": [
    {
     "data": {
      "image/png": "[encoded data removed]",
      "text/plain": [
       "<Figure size 576x432 with 1 Axes>"
      ]
     },
     "metadata": {
      "needs_background": "light"
     },
     "output_type": "display_data"
    }
   ],
   "source": [
    "# vykresli rozdil pro každou velikost pytlíku molekul.\n",
    "\n",
    "plt.yscale('log')\n",
    "plt.xlabel('Celkem M molekul')\n",
    "plt.ylabel('Rozdíl mezi binom and hypergeom')\n",
    "plt.legend()\n",
    "plt.show()"
   ]
  },
  {
   "cell_type": "markdown",
   "metadata": {},
   "source": [
    "Můžete si sami rozhodnout, při jaké odchylce je možné tolerovat použití `binomického` místo `hypergeometrického` rozdělení. Kolem M=500 bude chyba již docela malá, což znamená M 100x větší než 5 jedovatých molekul (N).\n",
    "\n",
    "* Poznámka 1: Osa y je logaritmická, pro M=500 jsme navýšili M 25x z počátečních 20, ale `rozdil` mezi rozděleními klesl přibližně 300x (osa y)\n",
    "* Poznámka 2: Pro jiný počet jedovatých molekul bychom museli přepočítat `rozdil`, a graf by vypadal jinak!!\n",
    "\n",
    "## Je jasné, že můžeme s klidem použít `stats.binom()` pro naši moč vs. moře.\n",
    "  * Konec odbočky porovnávání `binom()` a `hypergeom()`, pojdmě odpovědět na **druhou otázku**.\n",
    "  * Jaká je pravděpodobnost najití více než 2300 molekul moči ve sklenici promíchaného moře?"
   ]
  },
  {
   "cell_type": "code",
   "execution_count": 23,
   "metadata": {},
   "outputs": [
    {
     "data": {
      "image/png": "[encoded data removed]",
      "text/plain": [
       "<Figure size 576x432 with 1 Axes>"
      ]
     },
     "metadata": {
      "needs_background": "light"
     },
     "output_type": "display_data"
    }
   ],
   "source": [
    "# vytvoříme pole 501 hodnot mezi 2000 and 2500\n",
    "x =   # pozor, potřebujeme opravdu včechny přirozené hodnoty.\n",
    "\n",
    "# Pro všechna x spočtěte binomické rozdělení (binom.pmf()), a také ho vykreslete \n",
    "n, p = \n",
    "\n",
    "# vykreslení rozdělení\n",
    "\n",
    "plt.xlabel('Počet molekul moči ve sklenici')\n",
    "plt.ylabel('Pravděpodobnost')\n",
    "plt.show()"
   ]
  },
  {
   "cell_type": "code",
   "execution_count": 24,
   "metadata": {},
   "outputs": [
    {
     "data": {
      "image/png": "[encoded data removed]",
      "text/plain": [
       "<Figure size 576x432 with 1 Axes>"
      ]
     },
     "metadata": {
      "needs_background": "light"
     },
     "output_type": "display_data"
    }
   ],
   "source": [
    "# Těď zvýrazníme část rozdělení s výsledky 2300 a více molekul moči.\n",
    "# np.argmin() mi najde index kde se nachází výsledek 2301, od tohoto indexu zvýrazňuji zbytek pole\n",
    "plt.plot(x, stats.binom.pmf(x, n, p))\n",
    "plt.fill_between(x[np.argmin(abs(2301-x)):],\n",
    "                 stats.binom.pmf(x[np.argmin(abs(2301-x)):], n, p),\n",
    "                 color='red')\n",
    "plt.xlabel('Počet molekul moči ve sklenici')\n",
    "plt.ylabel('Pravděpodobnost')\n",
    "plt.show()"
   ]
  },
  {
   "cell_type": "markdown",
   "metadata": {},
   "source": [
    "Jak jsme už zmínili, součet všech pravděpodobností dá 1, čímž pokrýváme veškeré realizace našeho experimentu. \n",
    "\n",
    "Nás těď však zajímají jen výsledky s více než 2300 molekulami, proto budeme sčítat jen část pravděpodobností označených červeně. \n",
    "\n",
    "POZOR: Tento přístup funguje jenom protože naše x obsahuje všechna přirozená čísla. Když nějaké vynecháte, metoda `sum()` nebude fungovat."
   ]
  },
  {
   "cell_type": "code",
   "execution_count": 35,
   "metadata": {},
   "outputs": [
    {
     "data": {
      "text/plain": [
       "0.1583758548435811"
      ]
     },
     "execution_count": 35,
     "metadata": {},
     "output_type": "execute_result"
    }
   ],
   "source": [
    "# součet všech pravděpodobností výsledků, 2301, 2302, 2303....\n",
    "sum(stats.binom.pmf(x[np.argmin(abs(2301-x)):], n, p))"
   ]
  },
  {
   "cell_type": "markdown",
   "metadata": {},
   "source": [
    "Skoro 16% šance, že ve sklenici budeme mít více než 2300 molekul.\n",
    "\n",
    "### Můžeme to samé udělat elegantněji použitím tzv. *distribuční funkce* (cummulative distribution function), `stats.binom.cdf()`\n",
    "  * Která dělá přesně to, co potřebujeme, prochází hodnoty x (počet molekul moči) a v každé hodnotě přičte (kumuluje) pravděpodobnost\n",
    "  * Proto jde vždy od nuly do 1, pro jakékoli pravděpodobnostní rozdělení."
   ]
  },
  {
   "cell_type": "code",
   "execution_count": 25,
   "metadata": {},
   "outputs": [
    {
     "data": {
      "image/png": "[encoded data removed]",
      "text/plain": [
       "<Figure size 576x432 with 1 Axes>"
      ]
     },
     "metadata": {
      "needs_background": "light"
     },
     "output_type": "display_data"
    }
   ],
   "source": [
    "# vykresli kumulativní rozdělení pravděpodobnosti\n",
    "\n",
    "plt.xlabel('Počet molekul moči ve sklenici')\n",
    "plt.ylabel('Kumulativní Pravděpodobnost')\n",
    "plt.show()"
   ]
  },
  {
   "cell_type": "markdown",
   "metadata": {},
   "source": [
    "Pokud chceme výsledky pro více než 2300 molekul, vezmeme hodnotu y pro x=2301, a to je pravděpodobnost nalézt 2300 a méně molekul.\n",
    "\n",
    "Když toto číslo odečteme od 1, dostaneme pravděpodobnost 2301 a více."
   ]
  },
  {
   "cell_type": "code",
   "execution_count": 37,
   "metadata": {},
   "outputs": [
    {
     "data": {
      "text/plain": [
       "0.15337278018710887"
      ]
     },
     "execution_count": 37,
     "metadata": {},
     "output_type": "execute_result"
    }
   ],
   "source": []
  },
  {
   "cell_type": "markdown",
   "metadata": {},
   "source": [
    "## Bonus:\n",
    "* Když už máme celé rozdělení spočtené, můžeme zjistit tzv. *standartní odchylku*\n",
    "* Kdykoli něco měříme, je dobré vědět, s jakou chybou to činíte.\n",
    "* Zde to znamená, jaká je statistická/náhodná odchylka.\n",
    "* Z definice standartní odchylky máte ~68% šanci výtáhnout 2253-std  --  2253+std molekul při každém pokusu\n",
    "* Obecně, statistická chyba je jen jednou z možných chyb experimentu. Náš perfektní experiment v počítači však trpí pouze touto jednou."
   ]
  },
  {
   "cell_type": "code",
   "execution_count": 38,
   "metadata": {},
   "outputs": [
    {
     "name": "stdout",
     "output_type": "stream",
     "text": [
      "2253 +- 47\n"
     ]
    }
   ],
   "source": [
    "# Když tedy budeme opakovat náš experiment mnohokrát, měli bychom získat výsledek\n",
    "# (nejpravděpodobnější výsledek a standartní odchylka)\n",
    "print(round(stats.binom.mean(n,p)), '+-',round(stats.binom.std(n,p)))"
   ]
  },
  {
   "cell_type": "markdown",
   "metadata": {},
   "source": [
    "## Tak a teď, jaký je nejsilnější jed na světě?\n",
    "  * Můžeme vzít [Polonium](https://en.wikipedia.org/wiki/Polonium#Biology_and_toxicity) $\\mathrm{^{210}Po}$\n",
    "  * Stačí pouze $\\mathrm{1\\mu{g}}$ na zabití člověka (pamatujete [otravu Alexandra Litviněnka](https://cs.wikipedia.org/wiki/Otrava_Alexandra_Litvin%C4%9Bnka))?\n",
    "  * Otázka je kolik atomů to je a jak se to dá porovnat s počtem 2253 molekul moči v naší sklenici?"
   ]
  },
  {
   "cell_type": "code",
   "execution_count": 39,
   "metadata": {},
   "outputs": [],
   "source": [
    "# Jaká je atomová hmotnost Polonia?\n",
    "m_po = 209  # rozuměj jako g/mol"
   ]
  },
  {
   "cell_type": "code",
   "execution_count": 41,
   "metadata": {},
   "outputs": [],
   "source": [
    "# takže 1 mikrogram je kolik molů?\n",
    "po_davka_smrt = "
   ]
  },
  {
   "cell_type": "code",
   "execution_count": 42,
   "metadata": {},
   "outputs": [
    {
     "data": {
      "text/plain": [
       "2881407062200957.0"
      ]
     },
     "execution_count": 42,
     "metadata": {},
     "output_type": "execute_result"
    }
   ],
   "source": [
    "po_davka_smrt"
   ]
  },
  {
   "cell_type": "markdown",
   "metadata": {},
   "source": [
    "Ojojoj, to je hodně molekul že..."
   ]
  },
  {
   "cell_type": "code",
   "execution_count": 43,
   "metadata": {},
   "outputs": [
    {
     "data": {
      "text/plain": [
       "1278920134133"
      ]
     },
     "execution_count": 43,
     "metadata": {},
     "output_type": "execute_result"
    }
   ],
   "source": [
    "# můžete vyjádřit, kolikrát víc to je než 2253?\n"
   ]
  },
  {
   "cell_type": "markdown",
   "metadata": {},
   "source": [
    "Opět obrovské číslo. Což dokazuje to samé, co jsme již zmínili a je taky naším hlavním závěrem:\n",
    "  \n",
    "## Závěr:\n",
    "  * 2253 molekul moči v tvojí sklenici se zdá nechutné, ale je to opravdu malinký počet.\n",
    "  * Prostě protože molekuly jsou tak malé a je jich tedy obrovské množství.\n",
    "  * Jinými slovy, Avogadrovo číslo je obrovské :)\n",
    "  * 1 mol obsahuje Avogadrovu konstantu částic. Protože ta je definována jako počet atomů ve 12 g uhlíku, atomová hmotnost uhlíku je ~12 g/mol.\n",
    "  * Atomové hmotnosti jsou k najití v každé slušné periodické tabulce.\n",
    "  * Z části o trávení Po je jasné, že je nemožné se otrávit 2250 molekulami čehokoli.\n",
    "  * POZOR: najití distribuční funkce znamená opakovat jakýkoli experiment MNOHOKRÁT. Jeden experiment bohužel neposkytuje žádnou informaci o vaší statistické chybě, ani o tvaru vaší distribuční funkce pravděpodobnosti.\n",
    "  \n",
    "## Otázky k zamyšlení:\n",
    "1. Lhal jsem vám myslíte v nějaké části projektu?\n",
    "2. Udělali jsme přiblížení/nahrazení *hypergeometrického* rozdělení *binomickým*. Za jistých podmínek lze nahradit *binomické* rozdělení *Poissonovým*, nebo i *Normálním* rozdělením.\n",
    "  * Můžete tyto dvě rozdělení vykreslit dohromady s naším binomickým rozdělením pro moč ve sklenici.\n",
    "  * Vypadají stejně?\n",
    "  * Jaké jsou podmínky, kdy můžeme tato rozdělení zaměnit za binomické?\n",
    "  * [nápověda v angličtině](https://en.wikipedia.org/wiki/Binomial_distribution#Normal_approximation) \n",
    "2. Jsou mnohé další, ale nechám je na vaši fantaziji. Dejte mi vědět, co zajímavého by se dalo na zákládě tohoto projektu spočítat?"
   ]
  },
  {
   "cell_type": "markdown",
   "metadata": {},
   "source": [
    "# Dobrá práce!!"
   ]
  },
  {
   "cell_type": "code",
   "execution_count": null,
   "metadata": {},
   "outputs": [],
   "source": []
  }
 ],
 "metadata": {
  "kernelspec": {
   "display_name": "pymarad",
   "language": "python",
   "name": "pymarad"
  },
  "language_info": {
   "codemirror_mode": {
    "name": "ipython",
    "version": 3
   },
   "file_extension": ".py",
   "mimetype": "text/x-python",
   "name": "python",
   "nbconvert_exporter": "python",
   "pygments_lexer": "ipython3",
   "version": "3.7.1"
  }
 },
 "nbformat": 4,
 "nbformat_minor": 4
}
