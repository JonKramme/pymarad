{
 "cells": [
  {
   "cell_type": "code",
   "execution_count": 3,
   "metadata": {},
   "outputs": [],
   "source": [
    "# import potřebných modulů\n",
    "import pandas as pd\n",
    "import datapackage\n",
    "import wbgapi as wb"
   ]
  },
  {
   "cell_type": "markdown",
   "metadata": {},
   "source": [
    "## Definice funkcí, které organizují statistická data z různých zdrojů do tabulky."
   ]
  },
  {
   "cell_type": "code",
   "execution_count": 5,
   "metadata": {},
   "outputs": [],
   "source": [
    "def iso_kody():\n",
    "    '''Stáhnout iso kódy a kontinentální příslušnost všech zemí světa.'''\n",
    "    # iso kódy a názvy států\n",
    "    data_url = 'https://datahub.io/core/country-codes/datapackage.json'\n",
    "    package = datapackage.Package(data_url)\n",
    "    zdroje = package.resources\n",
    "    for zdroj in zdroje:\n",
    "        if zdroj.tabular:\n",
    "            kody = pd.read_csv(zdroj.descriptor['path'])\n",
    "    iso_dict = dict(zip(kody['ISO3166-1-Alpha-3'],\n",
    "                        kody['UNTERM English Short']))\n",
    "    iso_df = pd.DataFrame.from_dict(iso_dict,\n",
    "                                    orient='index',\n",
    "                                    columns=['Stat'])\n",
    "    iso_df.index.names=['iso']\n",
    "    # info o kontinentu\n",
    "    kontinent_dict = dict(zip(kody['ISO3166-1-Alpha-3'],\n",
    "                              kody['Region Name']))\n",
    "    kontinent_df = pd.DataFrame.from_dict(kontinent_dict,\n",
    "                                          orient='index',\n",
    "                                          columns=['Region'])\n",
    "    return iso_df, kontinent_df\n",
    "\n",
    "def les():\n",
    "    '''\n",
    "    Otevřít data z Global Forest Watch ohledně celkové spálené\n",
    "    plochy lesů pro každou zemi.\n",
    "    '''\n",
    "    # spálená plocha po týdnech, takže sečíst abychom dostali data za rok\n",
    "    df = pd.read_csv('..\\\\..\\\\resource\\\\GFW_Global_regions_with_the_most_burned_area\\\\modis_burned_area__ha.csv')\n",
    "    iso = df.iso.unique()  # iso kody\n",
    "    df = df.groupby('iso').sum()  # sečíst data náležící jednotlivým zemím (řádky tabulky se stejným iso kódem)\n",
    "    df.drop(columns=['alert__year', 'alert__week'], inplace=True)  # vyřadit nepotřebné sloupce\n",
    "    df.rename(columns={'burned_area__ha': 'spal_plocha_ha'}, inplace=True)\n",
    "    \n",
    "    # přidáme celkovou plochu lesa pro každou zemi\n",
    "    plocha_lesa = pd.read_csv('..\\\\..\\\\resource\\\\GFW_Global_regions_with_the_most_burned_area\\\\treecover_extent_in__by_region__ha.csv')\n",
    "    \n",
    "    df['plocha_lesa_ha'] = 0\n",
    "    for i in iso:\n",
    "        df.loc[i, 'plocha_lesa_ha'] = float(plocha_lesa[plocha_lesa['iso']==i].area__ha)\n",
    "    return df\n",
    "\n",
    "def zmena_t():\n",
    "    '''\n",
    "    Změna teploty v porovnání s periodou mezi lety 1951-1980\n",
    "    Zde průměruji teploty mezi lety 2012-2020 k získání jedné hodnoty pro každou zem\n",
    "    '''\n",
    "    zmena_t = pd.read_csv('..\\\\..\\\\resource\\\\t_change\\\\Environment_Temperature_change_E_All_Data.csv')\n",
    "    dt = zmena_t.groupby(by=['Area', 'Element']).mean()\n",
    "    dt = dt.drop(columns=['Area Code', 'Months Code', 'Element Code'])\n",
    "    dt = dt[['Y2012', 'Y2013', 'Y2014', 'Y2015', 'Y2016', 'Y2017', 'Y2018', 'Y2019', 'Y2020']]\n",
    "    dt = dt.reset_index()\n",
    "    dt = dt.set_index('Area')\n",
    "    dt = dt[dt['Element']=='Temperature change'].mean(axis=1)\n",
    "    dt_df = dt.to_frame(name='zmena_t')\n",
    "    dt_df.index.names=['Stat']\n",
    "    return dt_df\n",
    "\n",
    "def srazky():\n",
    "    '''\n",
    "    Srážková data v mm/rok pro každý stát.\n",
    "    '''\n",
    "    srazky = pd.read_csv('..\\\\..\\\\resource\\\\average-precipitation-per-year.csv')\n",
    "    srazky = srazky.groupby('Code').mean()\n",
    "    srazky = srazky.drop(columns=['Year'])\n",
    "    srazky.columns = ['prum_srazky_mm_rok']\n",
    "    return srazky\n",
    "\n",
    "\n",
    "def spojit_dfs(dfs, on='iso'):\n",
    "    '''\n",
    "    Sjednocení dat států z pandas Dataframes,\n",
    "    které jsou indexovány podle iso kódů.\n",
    "    '''\n",
    "    total = dfs[0].join(dfs[1], on=on)\n",
    "    for i in range(2,len(dfs)):\n",
    "        total = total.join(dfs[i], on=on)\n",
    "    return total"
   ]
  },
  {
   "cell_type": "markdown",
   "metadata": {},
   "source": [
    "## Vygenerování tabulek (pandas DataFrames) "
   ]
  },
  {
   "cell_type": "code",
   "execution_count": 6,
   "metadata": {},
   "outputs": [],
   "source": [
    "iso_df, kontinent_df = iso_kody()"
   ]
  },
  {
   "cell_type": "code",
   "execution_count": 7,
   "metadata": {},
   "outputs": [],
   "source": [
    "lesy = les()\n",
    "dt = zmena_t()\n",
    "dt = iso_df.join(dt, on='Stat')\n",
    "dt = dt.drop(columns=['Stat'])\n",
    "srazky = srazky()"
   ]
  },
  {
   "cell_type": "markdown",
   "metadata": {},
   "source": [
    "## Sjednocení všech DataFramů (tabulek) do jedné"
   ]
  },
  {
   "cell_type": "code",
   "execution_count": 8,
   "metadata": {},
   "outputs": [],
   "source": [
    "df = spojit_dfs((lesy, iso_df, kontinent_df, dt, srazky), on='iso')"
   ]
  },
  {
   "cell_type": "code",
   "execution_count": 9,
   "metadata": {},
   "outputs": [
    {
     "data": {
      "text/html": [
       "<div>\n",
       "<style scoped>\n",
       "    .dataframe tbody tr th:only-of-type {\n",
       "        vertical-align: middle;\n",
       "    }\n",
       "\n",
       "    .dataframe tbody tr th {\n",
       "        vertical-align: top;\n",
       "    }\n",
       "\n",
       "    .dataframe thead th {\n",
       "        text-align: right;\n",
       "    }\n",
       "</style>\n",
       "<table border=\"1\" class=\"dataframe\">\n",
       "  <thead>\n",
       "    <tr style=\"text-align: right;\">\n",
       "      <th></th>\n",
       "      <th>spal_plocha_ha</th>\n",
       "      <th>plocha_lesa_ha</th>\n",
       "      <th>Stat</th>\n",
       "      <th>Region</th>\n",
       "      <th>zmena_t</th>\n",
       "      <th>prum_srazky_mm_rok</th>\n",
       "    </tr>\n",
       "    <tr>\n",
       "      <th>iso</th>\n",
       "      <th></th>\n",
       "      <th></th>\n",
       "      <th></th>\n",
       "      <th></th>\n",
       "      <th></th>\n",
       "      <th></th>\n",
       "    </tr>\n",
       "  </thead>\n",
       "  <tbody>\n",
       "    <tr>\n",
       "      <th>AFG</th>\n",
       "      <td>3.737909e+03</td>\n",
       "      <td>5.150857e+08</td>\n",
       "      <td>Afghanistan</td>\n",
       "      <td>Asia</td>\n",
       "      <td>1.107725</td>\n",
       "      <td>327.0</td>\n",
       "    </tr>\n",
       "    <tr>\n",
       "      <th>AGO</th>\n",
       "      <td>8.027034e+05</td>\n",
       "      <td>9.979384e+08</td>\n",
       "      <td>Angola</td>\n",
       "      <td>Africa</td>\n",
       "      <td>1.151922</td>\n",
       "      <td>1010.0</td>\n",
       "    </tr>\n",
       "    <tr>\n",
       "      <th>ALB</th>\n",
       "      <td>5.537902e+02</td>\n",
       "      <td>2.298830e+07</td>\n",
       "      <td>Albania</td>\n",
       "      <td>Europe</td>\n",
       "      <td>1.646248</td>\n",
       "      <td>1485.0</td>\n",
       "    </tr>\n",
       "    <tr>\n",
       "      <th>ARE</th>\n",
       "      <td>3.873991e+02</td>\n",
       "      <td>5.696358e+07</td>\n",
       "      <td>United Arab Emirates (the)</td>\n",
       "      <td>Asia</td>\n",
       "      <td>NaN</td>\n",
       "      <td>78.0</td>\n",
       "    </tr>\n",
       "    <tr>\n",
       "      <th>ARG</th>\n",
       "      <td>1.283496e+06</td>\n",
       "      <td>2.224081e+09</td>\n",
       "      <td>Argentina</td>\n",
       "      <td>Americas</td>\n",
       "      <td>0.754660</td>\n",
       "      <td>591.0</td>\n",
       "    </tr>\n",
       "  </tbody>\n",
       "</table>\n",
       "</div>"
      ],
      "text/plain": [
       "     spal_plocha_ha  plocha_lesa_ha                        Stat    Region  \\\n",
       "iso                                                                         \n",
       "AFG    3.737909e+03    5.150857e+08                 Afghanistan      Asia   \n",
       "AGO    8.027034e+05    9.979384e+08                      Angola    Africa   \n",
       "ALB    5.537902e+02    2.298830e+07                     Albania    Europe   \n",
       "ARE    3.873991e+02    5.696358e+07  United Arab Emirates (the)      Asia   \n",
       "ARG    1.283496e+06    2.224081e+09                   Argentina  Americas   \n",
       "\n",
       "      zmena_t  prum_srazky_mm_rok  \n",
       "iso                                \n",
       "AFG  1.107725               327.0  \n",
       "AGO  1.151922              1010.0  \n",
       "ALB  1.646248              1485.0  \n",
       "ARE       NaN                78.0  \n",
       "ARG  0.754660               591.0  "
      ]
     },
     "execution_count": 9,
     "metadata": {},
     "output_type": "execute_result"
    }
   ],
   "source": [
    "df.head()"
   ]
  },
  {
   "cell_type": "code",
   "execution_count": 10,
   "metadata": {},
   "outputs": [
    {
     "data": {
      "text/plain": [
       "148"
      ]
     },
     "execution_count": 10,
     "metadata": {},
     "output_type": "execute_result"
    }
   ],
   "source": [
    "# Data nejsou kompletní, ze 195 států máme\n",
    "len(df)"
   ]
  },
  {
   "cell_type": "code",
   "execution_count": 11,
   "metadata": {},
   "outputs": [],
   "source": [
    "# Po vyloučení států, kde chybí jakýkoli údaj (naznačeno jako NaN v tabulce)\n",
    "df = df.dropna()"
   ]
  },
  {
   "cell_type": "code",
   "execution_count": 12,
   "metadata": {},
   "outputs": [
    {
     "data": {
      "text/plain": [
       "119"
      ]
     },
     "execution_count": 12,
     "metadata": {},
     "output_type": "execute_result"
    }
   ],
   "source": [
    "# Zbyde nám jen asi 60% států světa\n",
    "len(df)"
   ]
  },
  {
   "cell_type": "markdown",
   "metadata": {},
   "source": [
    "## Kosmetické změny a uložení tabulky"
   ]
  },
  {
   "cell_type": "code",
   "execution_count": 13,
   "metadata": {},
   "outputs": [],
   "source": [
    "# zaokrouhlení číselných dat\n",
    "df = df.round(2)"
   ]
  },
  {
   "cell_type": "code",
   "execution_count": 14,
   "metadata": {},
   "outputs": [],
   "source": [
    "# změna pořadí sloupců\n",
    "df = df[['Stat', 'Region', 'zmena_t', 'prum_srazky_mm_rok', 'plocha_lesa_ha', 'spal_plocha_ha']]"
   ]
  },
  {
   "cell_type": "code",
   "execution_count": 15,
   "metadata": {},
   "outputs": [],
   "source": [
    "# uložení dat ve formátu .csv\n",
    "df.to_csv('data_pozary.csv')"
   ]
  },
  {
   "cell_type": "code",
   "execution_count": 16,
   "metadata": {},
   "outputs": [
    {
     "data": {
      "text/html": [
       "<div>\n",
       "<style scoped>\n",
       "    .dataframe tbody tr th:only-of-type {\n",
       "        vertical-align: middle;\n",
       "    }\n",
       "\n",
       "    .dataframe tbody tr th {\n",
       "        vertical-align: top;\n",
       "    }\n",
       "\n",
       "    .dataframe thead th {\n",
       "        text-align: right;\n",
       "    }\n",
       "</style>\n",
       "<table border=\"1\" class=\"dataframe\">\n",
       "  <thead>\n",
       "    <tr style=\"text-align: right;\">\n",
       "      <th></th>\n",
       "      <th>Stat</th>\n",
       "      <th>Region</th>\n",
       "      <th>zmena_t</th>\n",
       "      <th>prum_srazky_mm_rok</th>\n",
       "      <th>plocha_lesa_ha</th>\n",
       "      <th>spal_plocha_ha</th>\n",
       "    </tr>\n",
       "    <tr>\n",
       "      <th>iso</th>\n",
       "      <th></th>\n",
       "      <th></th>\n",
       "      <th></th>\n",
       "      <th></th>\n",
       "      <th></th>\n",
       "      <th></th>\n",
       "    </tr>\n",
       "  </thead>\n",
       "  <tbody>\n",
       "    <tr>\n",
       "      <th>AFG</th>\n",
       "      <td>Afghanistan</td>\n",
       "      <td>Asia</td>\n",
       "      <td>1.11</td>\n",
       "      <td>327.0</td>\n",
       "      <td>5.150857e+08</td>\n",
       "      <td>3737.91</td>\n",
       "    </tr>\n",
       "    <tr>\n",
       "      <th>AGO</th>\n",
       "      <td>Angola</td>\n",
       "      <td>Africa</td>\n",
       "      <td>1.15</td>\n",
       "      <td>1010.0</td>\n",
       "      <td>9.979384e+08</td>\n",
       "      <td>802703.37</td>\n",
       "    </tr>\n",
       "    <tr>\n",
       "      <th>ALB</th>\n",
       "      <td>Albania</td>\n",
       "      <td>Europe</td>\n",
       "      <td>1.65</td>\n",
       "      <td>1485.0</td>\n",
       "      <td>2.298830e+07</td>\n",
       "      <td>553.79</td>\n",
       "    </tr>\n",
       "    <tr>\n",
       "      <th>ARG</th>\n",
       "      <td>Argentina</td>\n",
       "      <td>Americas</td>\n",
       "      <td>0.75</td>\n",
       "      <td>591.0</td>\n",
       "      <td>2.224081e+09</td>\n",
       "      <td>1283496.22</td>\n",
       "    </tr>\n",
       "    <tr>\n",
       "      <th>ARM</th>\n",
       "      <td>Armenia</td>\n",
       "      <td>Asia</td>\n",
       "      <td>1.61</td>\n",
       "      <td>562.0</td>\n",
       "      <td>2.375207e+07</td>\n",
       "      <td>1776.87</td>\n",
       "    </tr>\n",
       "  </tbody>\n",
       "</table>\n",
       "</div>"
      ],
      "text/plain": [
       "            Stat    Region  zmena_t  prum_srazky_mm_rok  plocha_lesa_ha  \\\n",
       "iso                                                                       \n",
       "AFG  Afghanistan      Asia     1.11               327.0    5.150857e+08   \n",
       "AGO       Angola    Africa     1.15              1010.0    9.979384e+08   \n",
       "ALB      Albania    Europe     1.65              1485.0    2.298830e+07   \n",
       "ARG    Argentina  Americas     0.75               591.0    2.224081e+09   \n",
       "ARM      Armenia      Asia     1.61               562.0    2.375207e+07   \n",
       "\n",
       "     spal_plocha_ha  \n",
       "iso                  \n",
       "AFG         3737.91  \n",
       "AGO       802703.37  \n",
       "ALB          553.79  \n",
       "ARG      1283496.22  \n",
       "ARM         1776.87  "
      ]
     },
     "execution_count": 16,
     "metadata": {},
     "output_type": "execute_result"
    }
   ],
   "source": [
    "# náhled prvních 5 řádků\n",
    "df.head()"
   ]
  },
  {
   "cell_type": "code",
   "execution_count": null,
   "metadata": {},
   "outputs": [],
   "source": []
  }
 ],
 "metadata": {
  "kernelspec": {
   "display_name": "web_scrape_fin",
   "language": "python",
   "name": "web_scrape_fin"
  },
  "language_info": {
   "codemirror_mode": {
    "name": "ipython",
    "version": 3
   },
   "file_extension": ".py",
   "mimetype": "text/x-python",
   "name": "python",
   "nbconvert_exporter": "python",
   "pygments_lexer": "ipython3",
   "version": "3.7.1"
  }
 },
 "nbformat": 4,
 "nbformat_minor": 4
}
