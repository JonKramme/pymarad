{
 "cells": [
  {
   "cell_type": "markdown",
   "metadata": {},
   "source": [
    "# Projekt lesních požárů\n",
    "* témata: Ekologie, lesní požáry a žhářství, HDP na hlavu, množiny v Pythonu, Vennovy diagramy, průnik množin, modul pandas, kvantily.\n",
    "\n",
    "## Zadání:\n",
    "* Představ si, že jsi ambasador OSN pro klimatické změny.\n",
    "* Máš to těžké, protože stojíš proti zájmům mocných států a korporací.\n",
    "* Jedním z tvých cílů tedy je najít oblasti, kde i změna ze slabé pozice je možná a bude mít maximální účinek.\n",
    "* Klimatické změny jsou také nesporně spojeny s extrémním počasím.\n",
    "* Názorným extrémem je narůstající počet a intenzita lesních požárů ve světě.\n",
    "* A tak tě napadne, že Jistý podíl těchto požárů musí být způsoben žháři.\n",
    "* Místo změny klimatu přímo, najděme země, ve kterých nejsou proti žhářům dostatečně tvrdí\n",
    "* Pokud tyto státy přesvědčíme ke zpřísnění zákonů (což státy dělají mnohem radši než bojují proti klimatické změně), zachránili bychom životy, ušetřili peníze a tuny uvolněného $\\mathrm{CO_2}$.\n",
    "\n",
    "## Otázky:\n",
    "* Na základě připravených tabulkových dat dostupných na internetu, dokážete identifikovat země, které jsou potencionálně málo přísné vůči žhářům."
   ]
  },
  {
   "cell_type": "markdown",
   "metadata": {},
   "source": [
    "---\n",
    "---\n",
    "# Pokud je toto tvůj první Jupyter Notebook:\n",
    "* Buňka (cell) se provede kombinací `Shift-Enter`, musíš v ní mít ale kurzor.\n",
    "* Po úspěšném proběhnutí buňky se objeví nalevo od ní \"pořadové\" číslo průběhu.\n",
    "* Provedení buňky a vytvoření nové prázdné pod ní, použij `Alt-Enter`.\n",
    "* Jakýkoli text za znakem # je komentář a Python ho ignoruje až do konce řádku.\n",
    "* Pozor: Pokud proběhneš prázdnou buňku, která má pod sebou výstup jako nápovědu, nápověda ti zmizí, proto `Alt-Enter`.\n",
    "---\n",
    "---"
   ]
  },
  {
   "cell_type": "code",
   "execution_count": null,
   "metadata": {},
   "outputs": [],
   "source": [
    "## Nutné provést jen v prostředí Google colabs\n",
    "import subprocess\n",
    "import sys\n",
    "\n",
    "def instaluj(modul):\n",
    "    subprocess.call([sys.executable, \"-m\", \"pip\", \"install\", modul])\n",
    "    \n",
    "instaluj('wbgapi')"
   ]
  },
  {
   "cell_type": "code",
   "execution_count": 1,
   "metadata": {},
   "outputs": [],
   "source": [
    "# import potřebných modulů Pythonu\n",
    "import pandas as pd  # asi nejpoužívanější modul pro analýzu velkáho množství tabulkových dat.\n",
    "import wbgapi as wb  # modul, který umožňuje přímo importovat statistiky ze světové banky pomocí její API\n",
    "\n",
    "import matplotlib.pyplot as plt  # Standartní modul pro kreslení grafů\n",
    "from matplotlib_venn import venn2, venn3  # specifický modul na vykreslení Vennových diagramů\n",
    "\n",
    "plt.rcParams['figure.facecolor'] = 'white'  # pro venn2, venn3, potřebujeme definovat pozadí grafů\n",
    "plt.rcParams['figure.figsize'] = [8,6]  # velikost grafu"
   ]
  },
  {
   "cell_type": "markdown",
   "metadata": {},
   "source": [
    "## Poznámky:\n",
    "* U těchto typů úloh, mít přesná a důvěryhodná data je často těžký a časově náročný úkol.\n",
    "* I tak si nemůžeme být jisti, že jsou data naprosto správná.\n",
    "* Mimoto, některá data prostě nejsou k dipozici (tímto se níže zabývat moc nebudeme)\n",
    "* Nicméně, jak důležité si myslíte, že je mít k dispozici data ze všech částí světa pro jeho udržitelný a spravedlivý rozvoj?\n",
    "* Všechna tyto úvahy jsou nesmírně důležitá, hlavně se zodpovědností pozice ambasadora OSN.\n",
    "---"
   ]
  },
  {
   "cell_type": "markdown",
   "metadata": {},
   "source": [
    "# Načtení předpřipravených tabulkových dat"
   ]
  },
  {
   "cell_type": "code",
   "execution_count": 2,
   "metadata": {},
   "outputs": [],
   "source": [
    "df = pd.read_csv('https://raw.githubusercontent.com/palec87/pymarad/main/cz/03_mnoziny/data_pozary.csv')  # pandas může načítat mnoho různých struktur\n",
    "df.set_index('iso', inplace=True)"
   ]
  },
  {
   "cell_type": "code",
   "execution_count": 3,
   "metadata": {},
   "outputs": [
    {
     "data": {
      "text/plain": [
       "pandas.core.frame.DataFrame"
      ]
     },
     "execution_count": 3,
     "metadata": {},
     "output_type": "execute_result"
    }
   ],
   "source": [
    "# zkontrolujme typ df\n"
   ]
  },
  {
   "cell_type": "markdown",
   "metadata": {},
   "source": [
    "Nahlédnout, jak naše tabulka vypadá, použijeme `head()` metodu (`tail()` existuje také). Číselný parametr na vstupu kontroluje, počet vypsaných řádků."
   ]
  },
  {
   "cell_type": "code",
   "execution_count": 4,
   "metadata": {},
   "outputs": [
    {
     "data": {
      "text/html": [
       "<div>\n",
       "<style scoped>\n",
       "    .dataframe tbody tr th:only-of-type {\n",
       "        vertical-align: middle;\n",
       "    }\n",
       "\n",
       "    .dataframe tbody tr th {\n",
       "        vertical-align: top;\n",
       "    }\n",
       "\n",
       "    .dataframe thead th {\n",
       "        text-align: right;\n",
       "    }\n",
       "</style>\n",
       "<table border=\"1\" class=\"dataframe\">\n",
       "  <thead>\n",
       "    <tr style=\"text-align: right;\">\n",
       "      <th></th>\n",
       "      <th>Stat</th>\n",
       "      <th>Region</th>\n",
       "      <th>zmena_t</th>\n",
       "      <th>prum_srazky_mm_rok</th>\n",
       "      <th>plocha_lesa_ha</th>\n",
       "      <th>spal_plocha_ha</th>\n",
       "    </tr>\n",
       "    <tr>\n",
       "      <th>iso</th>\n",
       "      <th></th>\n",
       "      <th></th>\n",
       "      <th></th>\n",
       "      <th></th>\n",
       "      <th></th>\n",
       "      <th></th>\n",
       "    </tr>\n",
       "  </thead>\n",
       "  <tbody>\n",
       "    <tr>\n",
       "      <th>AFG</th>\n",
       "      <td>Afghanistan</td>\n",
       "      <td>Asia</td>\n",
       "      <td>1.11</td>\n",
       "      <td>327.0</td>\n",
       "      <td>5.150857e+08</td>\n",
       "      <td>3737.91</td>\n",
       "    </tr>\n",
       "    <tr>\n",
       "      <th>AGO</th>\n",
       "      <td>Angola</td>\n",
       "      <td>Africa</td>\n",
       "      <td>1.15</td>\n",
       "      <td>1010.0</td>\n",
       "      <td>9.979384e+08</td>\n",
       "      <td>802703.37</td>\n",
       "    </tr>\n",
       "    <tr>\n",
       "      <th>ALB</th>\n",
       "      <td>Albania</td>\n",
       "      <td>Europe</td>\n",
       "      <td>1.65</td>\n",
       "      <td>1485.0</td>\n",
       "      <td>2.298830e+07</td>\n",
       "      <td>553.79</td>\n",
       "    </tr>\n",
       "    <tr>\n",
       "      <th>ARG</th>\n",
       "      <td>Argentina</td>\n",
       "      <td>Americas</td>\n",
       "      <td>0.75</td>\n",
       "      <td>591.0</td>\n",
       "      <td>2.224081e+09</td>\n",
       "      <td>1283496.22</td>\n",
       "    </tr>\n",
       "    <tr>\n",
       "      <th>ARM</th>\n",
       "      <td>Armenia</td>\n",
       "      <td>Asia</td>\n",
       "      <td>1.61</td>\n",
       "      <td>562.0</td>\n",
       "      <td>2.375207e+07</td>\n",
       "      <td>1776.87</td>\n",
       "    </tr>\n",
       "  </tbody>\n",
       "</table>\n",
       "</div>"
      ],
      "text/plain": [
       "            Stat    Region  zmena_t  prum_srazky_mm_rok  plocha_lesa_ha  \\\n",
       "iso                                                                       \n",
       "AFG  Afghanistan      Asia     1.11               327.0    5.150857e+08   \n",
       "AGO       Angola    Africa     1.15              1010.0    9.979384e+08   \n",
       "ALB      Albania    Europe     1.65              1485.0    2.298830e+07   \n",
       "ARG    Argentina  Americas     0.75               591.0    2.224081e+09   \n",
       "ARM      Armenia      Asia     1.61               562.0    2.375207e+07   \n",
       "\n",
       "     spal_plocha_ha  \n",
       "iso                  \n",
       "AFG         3737.91  \n",
       "AGO       802703.37  \n",
       "ALB          553.79  \n",
       "ARG      1283496.22  \n",
       "ARM         1776.87  "
      ]
     },
     "execution_count": 4,
     "metadata": {},
     "output_type": "execute_result"
    }
   ],
   "source": [
    "# print prvních několik řádek tabulky\n"
   ]
  },
  {
   "cell_type": "code",
   "execution_count": 5,
   "metadata": {},
   "outputs": [
    {
     "data": {
      "text/plain": [
       "120"
      ]
     },
     "execution_count": 5,
     "metadata": {},
     "output_type": "execute_result"
    }
   ],
   "source": [
    "# kolik států máme v tabulce celkem (len())\n"
   ]
  },
  {
   "cell_type": "markdown",
   "metadata": {},
   "source": [
    "# Poznámky k tabulkovým datům.\n",
    "* Vědecky analizovaná data from pozorování satelitů MODIS slouží jako podklad pro:\n",
    "    1. Sloupec 'plocha_lesa_ha' pro každou zem, pro jednoduchost jen jedna hodnota v ha.\n",
    "    2. Sloupec 'spal_plocha_ha' značí spálenou plochu lesa mezi roky 2012-2020 (roky sečteny opět do jedné hodnoty v ha)\n",
    "    3. MODIS je zkratkou pro Moderate Resolution Imaging Spectroradiometer (přístroj na palubě NASA satelitů Terra a Aqua)\n",
    "    4. Data jsou dostupná například na stránkách Global Forest Watch ([GFW](https://www.globalforestwatch.org/dashboards/global/?burnedAreaCumulative=eyJzdGFydEluZGV4IjowLCJlbmRJbmRleCI6NTEsInN0YXJ0RGF0ZUFic29sdXRlIjoiMjAyMS0wMS0wNCIsImVuZERhdGVBYnNvbHV0ZSI6IjIwMjEtMTItMjcifQ%3D%3D&burnedAreaRanked=eyJoaWdobGlnaHRlZCI6ZmFsc2V9&category=fires&dashboardPrompts=eyJzaG93UHJvbXB0cyI6dHJ1ZSwicHJvbXB0c1ZpZXdlZCI6WyJ2aWV3TmF0aW9uYWxEYXNoYm9hcmRzIiwiZG93bmxvYWREYXNoYm9hcmRTdGF0cyIsInNoYXJlV2lkZ2V0Iiwid2lkZ2V0U2V0dGluZ3MiXSwic2V0dGluZ3MiOnsic2hvd1Byb21wdHMiOnRydWUsInByb21wdHNWaWV3ZWQiOlsidmlld05hdGlvbmFsRGFzaGJvYXJkcyIsImRvd25sb2FkRGFzaGJvYXJkU3RhdHMiLCJzaGFyZVdpZGdldCJdLCJzZXR0aW5ncyI6eyJzaG93UHJvbXB0cyI6dHJ1ZSwicHJvbXB0c1ZpZXdlZCI6WyJ2aWV3TmF0aW9uYWxEYXNoYm9hcmRzIiwiZG93bmxvYWREYXNoYm9hcmRTdGF0cyIsInNoYXJlV2lkZ2V0Il0sInNldHRpbmdzIjp7InNob3dQcm9tcHRzIjp0cnVlLCJwcm9tcHRzVmlld2VkIjpbInZpZXdOYXRpb25hbERhc2hib2FyZHMiLCJkb3dubG9hZERhc2hib2FyZFN0YXRzIl0sInNldHRpbmdzIjp7Im9wZW4iOmZhbHNlLCJzdGVwSW5kZXgiOjAsInN0ZXBzS2V5IjoiIn0sIm9wZW4iOnRydWUsInN0ZXBJbmRleCI6MCwic3RlcHNLZXkiOiJzaGFyZVdpZGdldCJ9LCJzdGVwc0tleSI6InNoYXJlV2lkZ2V0Iiwic3RlcEluZGV4IjowLCJvcGVuIjpmYWxzZSwiZm9yY2UiOnRydWV9LCJvcGVuIjp0cnVlLCJzdGVwSW5kZXgiOjAsInN0ZXBzS2V5Ijoid2lkZ2V0U2V0dGluZ3MifSwic3RlcHNLZXkiOiJ3aWRnZXRTZXR0aW5ncyIsImZvcmNlIjp0cnVlfQ%3D%3D&fireAlertStats=eyJjb21wYXJlWWVhciI6MjAxM30%3D&gfwfires=true&location=WyJnbG9iYWwiXQ%3D%3D&map=eyJjZW50ZXIiOnsibGF0IjotMTEuMjkwOTMyMzMxMzg1NzksImxuZyI6MTcuOTA4NjI4NDY0OTc4Njk4fSwiem9vbSI6NC42NDA1NTQxNzQ2MjMzNjQ1LCJkYXRhc2V0cyI6W119))\n",
    "    \n",
    "* Změny teploty mohou být také důvodem závažnějsích požárů, teplotní změny jsou dostupné z Food and Agriculture Organization při OSN [FAO](http://www.fao.org/faostat/en/#data/ET)\n",
    "    1. Teplotní změny uvedeny v porovnání s úrovní mezi roky 1951-1980.\n",
    "    2. Data jsou původně za každý měsíc pro všechny roky.\n",
    "    3. Pro yjednodušení jsem je zprůměroval mezi lety 2012-2020 do jedné hodnoty ve sloupci 'zmena_t'\n",
    "* Úbytek srážek může být dalším důvodem k požárům\n",
    "    1. Proto máme sloupec 'prum_srazky_mm_rok' v mm za rok (opět jedna hodnota pro každý stát)\n",
    "    2. Ke stažení z [OSN data](http://data.un.org/Data.aspx?d=CLINO&f=ElementCode%3A06)\n",
    "* Úroveň rozvoje dané země bude nesmírně důležitá v její schopnosti zabývat se žhářstvým.\n",
    "    1. Jedním z názorných ukazatelů je HDP na obyvatele (za rok 2020) v dolarech (sloupec 'hdp_per_capita')\n",
    "    2. Data získána ze stránek [Světové banky](https://data.worldbank.org/indicator)"
   ]
  },
  {
   "cell_type": "markdown",
   "metadata": {},
   "source": [
    "## Najdeme zlomek shořelých lesů pro každý stát"
   ]
  },
  {
   "cell_type": "code",
   "execution_count": 6,
   "metadata": {},
   "outputs": [],
   "source": [
    "# nový sloupek se rovná vydělení dvou sloupců\n",
    "df['zlomek_spaleno'] = "
   ]
  },
  {
   "cell_type": "code",
   "execution_count": 7,
   "metadata": {},
   "outputs": [
    {
     "data": {
      "text/html": [
       "<div>\n",
       "<style scoped>\n",
       "    .dataframe tbody tr th:only-of-type {\n",
       "        vertical-align: middle;\n",
       "    }\n",
       "\n",
       "    .dataframe tbody tr th {\n",
       "        vertical-align: top;\n",
       "    }\n",
       "\n",
       "    .dataframe thead th {\n",
       "        text-align: right;\n",
       "    }\n",
       "</style>\n",
       "<table border=\"1\" class=\"dataframe\">\n",
       "  <thead>\n",
       "    <tr style=\"text-align: right;\">\n",
       "      <th></th>\n",
       "      <th>Stat</th>\n",
       "      <th>Region</th>\n",
       "      <th>zmena_t</th>\n",
       "      <th>prum_srazky_mm_rok</th>\n",
       "      <th>plocha_lesa_ha</th>\n",
       "      <th>spal_plocha_ha</th>\n",
       "      <th>zlomek_spaleno</th>\n",
       "    </tr>\n",
       "    <tr>\n",
       "      <th>iso</th>\n",
       "      <th></th>\n",
       "      <th></th>\n",
       "      <th></th>\n",
       "      <th></th>\n",
       "      <th></th>\n",
       "      <th></th>\n",
       "      <th></th>\n",
       "    </tr>\n",
       "  </thead>\n",
       "  <tbody>\n",
       "    <tr>\n",
       "      <th>AFG</th>\n",
       "      <td>Afghanistan</td>\n",
       "      <td>Asia</td>\n",
       "      <td>1.11</td>\n",
       "      <td>327.0</td>\n",
       "      <td>5.150857e+08</td>\n",
       "      <td>3737.91</td>\n",
       "      <td>0.000007</td>\n",
       "    </tr>\n",
       "    <tr>\n",
       "      <th>AGO</th>\n",
       "      <td>Angola</td>\n",
       "      <td>Africa</td>\n",
       "      <td>1.15</td>\n",
       "      <td>1010.0</td>\n",
       "      <td>9.979384e+08</td>\n",
       "      <td>802703.37</td>\n",
       "      <td>0.000804</td>\n",
       "    </tr>\n",
       "    <tr>\n",
       "      <th>ALB</th>\n",
       "      <td>Albania</td>\n",
       "      <td>Europe</td>\n",
       "      <td>1.65</td>\n",
       "      <td>1485.0</td>\n",
       "      <td>2.298830e+07</td>\n",
       "      <td>553.79</td>\n",
       "      <td>0.000024</td>\n",
       "    </tr>\n",
       "    <tr>\n",
       "      <th>ARG</th>\n",
       "      <td>Argentina</td>\n",
       "      <td>Americas</td>\n",
       "      <td>0.75</td>\n",
       "      <td>591.0</td>\n",
       "      <td>2.224081e+09</td>\n",
       "      <td>1283496.22</td>\n",
       "      <td>0.000577</td>\n",
       "    </tr>\n",
       "    <tr>\n",
       "      <th>ARM</th>\n",
       "      <td>Armenia</td>\n",
       "      <td>Asia</td>\n",
       "      <td>1.61</td>\n",
       "      <td>562.0</td>\n",
       "      <td>2.375207e+07</td>\n",
       "      <td>1776.87</td>\n",
       "      <td>0.000075</td>\n",
       "    </tr>\n",
       "  </tbody>\n",
       "</table>\n",
       "</div>"
      ],
      "text/plain": [
       "            Stat    Region  zmena_t  prum_srazky_mm_rok  plocha_lesa_ha  \\\n",
       "iso                                                                       \n",
       "AFG  Afghanistan      Asia     1.11               327.0    5.150857e+08   \n",
       "AGO       Angola    Africa     1.15              1010.0    9.979384e+08   \n",
       "ALB      Albania    Europe     1.65              1485.0    2.298830e+07   \n",
       "ARG    Argentina  Americas     0.75               591.0    2.224081e+09   \n",
       "ARM      Armenia      Asia     1.61               562.0    2.375207e+07   \n",
       "\n",
       "     spal_plocha_ha  zlomek_spaleno  \n",
       "iso                                  \n",
       "AFG         3737.91        0.000007  \n",
       "AGO       802703.37        0.000804  \n",
       "ALB          553.79        0.000024  \n",
       "ARG      1283496.22        0.000577  \n",
       "ARM         1776.87        0.000075  "
      ]
     },
     "execution_count": 7,
     "metadata": {},
     "output_type": "execute_result"
    }
   ],
   "source": [
    "# znovu začátek tabulky\n"
   ]
  },
  {
   "cell_type": "markdown",
   "metadata": {},
   "source": [
    "# Logika projektu\n",
    "1. Najdi země, které mají velký zlomek spálených lesů\n",
    "2. Zároveň chceme vyloučit země, které vykazují velké zvýšení teploty, protože to může vysvětlit navýšení požárů.\n",
    "3. Srážky také nemůžou být příliš nízké, to by mohlo také vysvětlit požáry.\n",
    "4. Nakonec budeme mít 3 množiny, jejichž průnik znamená silné požáry, které se nedají vysvětlit nárustem teplot, ani nízkým úhrnem srážek."
   ]
  },
  {
   "cell_type": "markdown",
   "metadata": {},
   "source": [
    "# Podívejme se nejdřív na Evropu\n",
    "## Kvantily (quantile)\n",
    "* Kvantil je hodnota, která rozděluje soubor seřazených hodnot podle velikosti na dvě části v poměru hodnoty kvantilu.\n",
    "* Příklad: `quantile(0.6)` je hodnota, kdy 60% hodnot souboru je menších, a 40% je větších než hodnota kvantilu.\n",
    "* Kvantil je proto užitečný pro porovnání států relativně mezi sebou.\n",
    "* Všimněte si, že `quantile(0.6)` je to samé jako 60-tý percentil, což je metoda, kterou najdete v modulu numpy, `numpy.percentile()`."
   ]
  },
  {
   "cell_type": "code",
   "execution_count": 8,
   "metadata": {},
   "outputs": [],
   "source": [
    "# vyber evropské země: Region=='Europe'\n",
    "df_evropa = df[df.Region=='Europe']"
   ]
  },
  {
   "cell_type": "code",
   "execution_count": 9,
   "metadata": {},
   "outputs": [],
   "source": [
    "# spálené lesy\n",
    "# použij metodu quantile() k najití hodnoty, která určí 30% států s největším zlomek_spaleno\n",
    "velky_spal_limit = df_evropa.zlomek_spaleno.quantile(0.7)  # hodnota rozděluje 30% států, které mají největší zlomek spálenišť"
   ]
  },
  {
   "cell_type": "code",
   "execution_count": 10,
   "metadata": {},
   "outputs": [
    {
     "data": {
      "text/plain": [
       "0.0002097197173813884"
      ]
     },
     "execution_count": 10,
     "metadata": {},
     "output_type": "execute_result"
    }
   ],
   "source": [
    "# toto vrací číslo a můžu vám to dokázat\n"
   ]
  },
  {
   "cell_type": "code",
   "execution_count": 11,
   "metadata": {},
   "outputs": [],
   "source": [
    "# podmínka (podobně jako pro vybrání evropských zemí) k vytvoření tabulky df států,\n",
    "# které mají zlomek_spaleno větší než velky_spal_limit\n",
    "velky_spal_df = df_evropa[df_evropa.zlomek_spaleno > velky_spal_limit]  # vyber těch 30% států pomocí: sloupec > kvantil"
   ]
  },
  {
   "cell_type": "markdown",
   "metadata": {},
   "source": [
    "Teď vytvoříme množinu obsahující ISO kody zemí z velky_spal_df, ISO je index našeho df"
   ]
  },
  {
   "cell_type": "code",
   "execution_count": 12,
   "metadata": {},
   "outputs": [],
   "source": [
    "# příkaz set() aplikovaný DF velky_spal\n",
    "mnoz_velky_spal = set(velky_spal_df.index)"
   ]
  },
  {
   "cell_type": "code",
   "execution_count": 13,
   "metadata": {},
   "outputs": [
    {
     "data": {
      "text/plain": [
       "{'BIH', 'BLR', 'HRV', 'HUN', 'MNE', 'PRT', 'ROU', 'UKR'}"
      ]
     },
     "execution_count": 13,
     "metadata": {},
     "output_type": "execute_result"
    }
   ],
   "source": [
    "# vypsat množinu\n"
   ]
  },
  {
   "cell_type": "markdown",
   "metadata": {},
   "source": [
    "Zopakujme stejný postup pro sloupec `zmena_t` k vytvoření množiny evropských států, které mají změnu teploty NIŽŠÍ než kvantil 0.5"
   ]
  },
  {
   "cell_type": "code",
   "execution_count": 14,
   "metadata": {},
   "outputs": [],
   "source": [
    "# Ne přílišný nárůst teploty\n",
    "zmena_t_limit = \n",
    "\n",
    "# DF států se zmena_t < zmena_t_limit\n",
    "ne_velka_zmena_t_df = \n",
    "\n",
    "# Vytvoř množinu z DF\n",
    "mnoz_ne_velka_zmena_t = "
   ]
  },
  {
   "cell_type": "markdown",
   "metadata": {},
   "source": [
    "Dotřetice zopakujme postup pro sloupec `prum_srazky_mm_rok` k vytvoření množiny evropských států, které mají srážky VYŠŠÍ než kvantil 0.5"
   ]
  },
  {
   "cell_type": "code",
   "execution_count": 15,
   "metadata": {},
   "outputs": [],
   "source": [
    "# Ne příliš nízké srážky\n",
    "srazky_limit = \n",
    "\n",
    "# DF států se srážky > srazky_limit\n",
    "ne_nizke_srazky_df = \n",
    "\n",
    "# Vytvoř množinu z DF\n",
    "mnoz_ne_nizke_srazky = "
   ]
  },
  {
   "cell_type": "markdown",
   "metadata": {},
   "source": [
    "Pozn: Není žádné striktní pravidlo, jaké hodnoty kvantilů použít, neboj se experimentovat\n",
    "\n",
    "### Teď provedeme průnik dvou množin, tj. zemí, které mají velký spal a 'a zároveň' nemají příliš velký teplotní nárůst, který by spal mohl objasnit."
   ]
  },
  {
   "cell_type": "code",
   "execution_count": 16,
   "metadata": {},
   "outputs": [],
   "source": [
    "# průnik dvou množin\n",
    "prunik2 = "
   ]
  },
  {
   "cell_type": "code",
   "execution_count": 17,
   "metadata": {},
   "outputs": [
    {
     "data": {
      "text/plain": [
       "{'BIH', 'MNE', 'PRT', 'ROU'}"
      ]
     },
     "execution_count": 17,
     "metadata": {},
     "output_type": "execute_result"
    }
   ],
   "source": [
    "prunik2"
   ]
  },
  {
   "cell_type": "code",
   "execution_count": 18,
   "metadata": {},
   "outputs": [
    {
     "data": {
      "text/html": [
       "<div>\n",
       "<style scoped>\n",
       "    .dataframe tbody tr th:only-of-type {\n",
       "        vertical-align: middle;\n",
       "    }\n",
       "\n",
       "    .dataframe tbody tr th {\n",
       "        vertical-align: top;\n",
       "    }\n",
       "\n",
       "    .dataframe thead th {\n",
       "        text-align: right;\n",
       "    }\n",
       "</style>\n",
       "<table border=\"1\" class=\"dataframe\">\n",
       "  <thead>\n",
       "    <tr style=\"text-align: right;\">\n",
       "      <th></th>\n",
       "      <th>Stat</th>\n",
       "      <th>Region</th>\n",
       "      <th>zmena_t</th>\n",
       "      <th>prum_srazky_mm_rok</th>\n",
       "      <th>plocha_lesa_ha</th>\n",
       "      <th>spal_plocha_ha</th>\n",
       "      <th>zlomek_spaleno</th>\n",
       "    </tr>\n",
       "    <tr>\n",
       "      <th>iso</th>\n",
       "      <th></th>\n",
       "      <th></th>\n",
       "      <th></th>\n",
       "      <th></th>\n",
       "      <th></th>\n",
       "      <th></th>\n",
       "      <th></th>\n",
       "    </tr>\n",
       "  </thead>\n",
       "  <tbody>\n",
       "    <tr>\n",
       "      <th>MNE</th>\n",
       "      <td>Montenegro</td>\n",
       "      <td>Europe</td>\n",
       "      <td>1.74</td>\n",
       "      <td>241.0</td>\n",
       "      <td>1.066819e+07</td>\n",
       "      <td>3809.97</td>\n",
       "      <td>0.000357</td>\n",
       "    </tr>\n",
       "    <tr>\n",
       "      <th>BIH</th>\n",
       "      <td>Bosnia and Herzegovina</td>\n",
       "      <td>Europe</td>\n",
       "      <td>1.86</td>\n",
       "      <td>1028.0</td>\n",
       "      <td>4.085507e+07</td>\n",
       "      <td>28669.33</td>\n",
       "      <td>0.000702</td>\n",
       "    </tr>\n",
       "    <tr>\n",
       "      <th>ROU</th>\n",
       "      <td>Romania</td>\n",
       "      <td>Europe</td>\n",
       "      <td>1.87</td>\n",
       "      <td>637.0</td>\n",
       "      <td>1.906703e+08</td>\n",
       "      <td>166211.39</td>\n",
       "      <td>0.000872</td>\n",
       "    </tr>\n",
       "    <tr>\n",
       "      <th>PRT</th>\n",
       "      <td>Portugal</td>\n",
       "      <td>Europe</td>\n",
       "      <td>1.38</td>\n",
       "      <td>854.0</td>\n",
       "      <td>7.164405e+07</td>\n",
       "      <td>15899.65</td>\n",
       "      <td>0.000222</td>\n",
       "    </tr>\n",
       "  </tbody>\n",
       "</table>\n",
       "</div>"
      ],
      "text/plain": [
       "                       Stat  Region  zmena_t  prum_srazky_mm_rok  \\\n",
       "iso                                                                \n",
       "MNE              Montenegro  Europe     1.74               241.0   \n",
       "BIH  Bosnia and Herzegovina  Europe     1.86              1028.0   \n",
       "ROU                 Romania  Europe     1.87               637.0   \n",
       "PRT                Portugal  Europe     1.38               854.0   \n",
       "\n",
       "     plocha_lesa_ha  spal_plocha_ha  zlomek_spaleno  \n",
       "iso                                                  \n",
       "MNE    1.066819e+07         3809.97        0.000357  \n",
       "BIH    4.085507e+07        28669.33        0.000702  \n",
       "ROU    1.906703e+08       166211.39        0.000872  \n",
       "PRT    7.164405e+07        15899.65        0.000222  "
      ]
     },
     "execution_count": 18,
     "metadata": {},
     "output_type": "execute_result"
    }
   ],
   "source": [
    "# použitím metody .loc na náš df, můžeme vypsat státy, které jsou v prunik2\n",
    "# z originálního df\n",
    "df.loc[prunik2]"
   ]
  },
  {
   "cell_type": "markdown",
   "metadata": {},
   "source": [
    "## Teplota je jen jedním z faktorů\n",
    "* Extrémně nízké srážky také mohou vysvětlit velký spal\n",
    "* Přidejme podmínku, že srážky nemohou být příliš nízké\n",
    "* Těď logicky říkáme: velký spal 'a zároveň' ne velký nárůst teploty 'a zároveň' ne nízké srážky"
   ]
  },
  {
   "cell_type": "code",
   "execution_count": 19,
   "metadata": {},
   "outputs": [],
   "source": [
    "# průnik 3 množin\n",
    "prunik3 = "
   ]
  },
  {
   "cell_type": "code",
   "execution_count": 20,
   "metadata": {},
   "outputs": [
    {
     "data": {
      "text/html": [
       "<div>\n",
       "<style scoped>\n",
       "    .dataframe tbody tr th:only-of-type {\n",
       "        vertical-align: middle;\n",
       "    }\n",
       "\n",
       "    .dataframe tbody tr th {\n",
       "        vertical-align: top;\n",
       "    }\n",
       "\n",
       "    .dataframe thead th {\n",
       "        text-align: right;\n",
       "    }\n",
       "</style>\n",
       "<table border=\"1\" class=\"dataframe\">\n",
       "  <thead>\n",
       "    <tr style=\"text-align: right;\">\n",
       "      <th></th>\n",
       "      <th>Stat</th>\n",
       "      <th>Region</th>\n",
       "      <th>zmena_t</th>\n",
       "      <th>prum_srazky_mm_rok</th>\n",
       "      <th>plocha_lesa_ha</th>\n",
       "      <th>spal_plocha_ha</th>\n",
       "      <th>zlomek_spaleno</th>\n",
       "    </tr>\n",
       "    <tr>\n",
       "      <th>iso</th>\n",
       "      <th></th>\n",
       "      <th></th>\n",
       "      <th></th>\n",
       "      <th></th>\n",
       "      <th></th>\n",
       "      <th></th>\n",
       "      <th></th>\n",
       "    </tr>\n",
       "  </thead>\n",
       "  <tbody>\n",
       "    <tr>\n",
       "      <th>BIH</th>\n",
       "      <td>Bosnia and Herzegovina</td>\n",
       "      <td>Europe</td>\n",
       "      <td>1.86</td>\n",
       "      <td>1028.0</td>\n",
       "      <td>40855066.35</td>\n",
       "      <td>28669.33</td>\n",
       "      <td>0.000702</td>\n",
       "    </tr>\n",
       "    <tr>\n",
       "      <th>PRT</th>\n",
       "      <td>Portugal</td>\n",
       "      <td>Europe</td>\n",
       "      <td>1.38</td>\n",
       "      <td>854.0</td>\n",
       "      <td>71644045.43</td>\n",
       "      <td>15899.65</td>\n",
       "      <td>0.000222</td>\n",
       "    </tr>\n",
       "  </tbody>\n",
       "</table>\n",
       "</div>"
      ],
      "text/plain": [
       "                       Stat  Region  zmena_t  prum_srazky_mm_rok  \\\n",
       "iso                                                                \n",
       "BIH  Bosnia and Herzegovina  Europe     1.86              1028.0   \n",
       "PRT                Portugal  Europe     1.38               854.0   \n",
       "\n",
       "     plocha_lesa_ha  spal_plocha_ha  zlomek_spaleno  \n",
       "iso                                                  \n",
       "BIH     40855066.35        28669.33        0.000702  \n",
       "PRT     71644045.43        15899.65        0.000222  "
      ]
     },
     "execution_count": 20,
     "metadata": {},
     "output_type": "execute_result"
    }
   ],
   "source": [
    "# výpis států z původního df\n"
   ]
  },
  {
   "cell_type": "code",
   "execution_count": 21,
   "metadata": {},
   "outputs": [
    {
     "data": {
      "text/plain": [
       "iso\n",
       "ROU                   Romania\n",
       "MNE                Montenegro\n",
       "HRV                   Croatia\n",
       "HUN                   Hungary\n",
       "PRT                  Portugal\n",
       "BLR                   Belarus\n",
       "UKR                   Ukraine\n",
       "BIH    Bosnia and Herzegovina\n",
       "Name: Stat, dtype: object"
      ]
     },
     "execution_count": 21,
     "metadata": {},
     "output_type": "execute_result"
    }
   ],
   "source": [
    "# Pro zajímavost si vypišme státy s velkým podílem spálenišť\n",
    "# Nápověda: použij buď .Stat nebo ['Stat'] k výběru sloupce z df\n"
   ]
  },
  {
   "cell_type": "markdown",
   "metadata": {},
   "source": [
    "## Znázornění Vennova diagramu\n",
    "* Použitím funkcí z modulu matplotlib_venn ukážeme, jak naše množiny sdílejí prvky (Státy)"
   ]
  },
  {
   "cell_type": "code",
   "execution_count": 22,
   "metadata": {},
   "outputs": [
    {
     "data": {
      "image/png": "[encoded data removed]",
      "text/plain": [
       "<Figure size 576x432 with 1 Axes>"
      ]
     },
     "metadata": {},
     "output_type": "display_data"
    }
   ],
   "source": [
    "venn3([mnoz_velky_spal, mnoz_ne_velka_zmena_t, mnoz_ne_nizke_srazky],  \n",
    "      set_labels=('Velký spal', 'Nízký nárůst tepl.', 'Ne nízké srážky'),\n",
    "      alpha=0.5)\n",
    "plt.title('Evropské státy s velkými požáry', fontsize=16)\n",
    "plt.show()"
   ]
  },
  {
   "cell_type": "markdown",
   "metadata": {},
   "source": [
    "* Naší motivací bylo najít průnik všech tří množin, znázorněný tmavo-fialově.\n",
    "* Kombinací množinových operací UNION/INTERSECTION můžeme nalézt státy z ostatních podmnožin našeho Vénova diagramu\n",
    "* Co logicky znamenají, a jsou potencionálně užitečné ambasadorovi při OSN?"
   ]
  },
  {
   "cell_type": "markdown",
   "metadata": {},
   "source": [
    "---\n",
    "---\n",
    "## Porovnávání všech zemí najednou je nejspíš špatný nápad, vzhledem k jejich mnoha rozdílům.\n",
    "* Neexistuje univerzální odpověď, jak státy seskupovat, zvažte například tyto možnosti:\n",
    "  * Úroveň rozvoje (HDP)\n",
    "  * Geografie\n",
    "  * Klima\n",
    "  * A další?\n",
    "* Zde vyzkoušíme rozdělení Států podle HDP na hlavu (per capita), pro porovnání požárů v podobně rozvinutých zemích.\n",
    "  1. HDP na hlavu (za rok 2020) v dolarech (sloupec 'hdp_per_capita_dolary')\n",
    "  2. Data stažena ze stránek [Světové Banky](https://data.worldbank.org/indicator)\n",
    "* Výše jsme vzali geografickou náležitost pro evropské státy, což je možné díky její stejnorodosti, díky její malé velikosti integraci v rámci EU.\n",
    "* Ale TEĎ použijeme HDP a rozdělení do 4 kategorií podle [Hanse Roslinga](https://www.gapminder.org/factfulness-book/) a projektu [Gapminder](https://www.gapminder.org/), který uvádí na pravou míru zastaralé vnímání rozdělení světa na bohatý sever a chudý jih.\n",
    "\n",
    "---\n",
    "---"
   ]
  },
  {
   "cell_type": "markdown",
   "metadata": {},
   "source": [
    "## Rozdělme tedy státy podle HDP na hlavu (per capita) přidáním sloupce `hdp_uroven` do naší tabulky"
   ]
  },
  {
   "cell_type": "code",
   "execution_count": 23,
   "metadata": {},
   "outputs": [],
   "source": [
    "# použitím modulu wb můžeme do sešitu natáhnout tabulková data přímo ze Světové banky\n",
    "# využitím jejich tzv. API\n",
    "hdp = wb.data.DataFrame('NY.GDP.PCAP.CD', time=2020)\n",
    "hdp.index.names = ['iso']  # přejmenovat index\n",
    "df = df.merge(hdp, on='iso')  # sjednotit tabulku hdp s naším df na základě identifikátoru 'iso' (index naší tabulky)"
   ]
  },
  {
   "cell_type": "code",
   "execution_count": 24,
   "metadata": {},
   "outputs": [],
   "source": [
    "# přejmenovat hdp sloupec\n",
    "df = df.rename(columns={'NY.GDP.PCAP.CD':'hdp_per_capita_dolary'})"
   ]
  },
  {
   "cell_type": "code",
   "execution_count": 25,
   "metadata": {},
   "outputs": [
    {
     "data": {
      "text/html": [
       "<div>\n",
       "<style scoped>\n",
       "    .dataframe tbody tr th:only-of-type {\n",
       "        vertical-align: middle;\n",
       "    }\n",
       "\n",
       "    .dataframe tbody tr th {\n",
       "        vertical-align: top;\n",
       "    }\n",
       "\n",
       "    .dataframe thead th {\n",
       "        text-align: right;\n",
       "    }\n",
       "</style>\n",
       "<table border=\"1\" class=\"dataframe\">\n",
       "  <thead>\n",
       "    <tr style=\"text-align: right;\">\n",
       "      <th></th>\n",
       "      <th>Stat</th>\n",
       "      <th>Region</th>\n",
       "      <th>zmena_t</th>\n",
       "      <th>prum_srazky_mm_rok</th>\n",
       "      <th>plocha_lesa_ha</th>\n",
       "      <th>spal_plocha_ha</th>\n",
       "      <th>zlomek_spaleno</th>\n",
       "      <th>hdp_per_capita_dolary</th>\n",
       "    </tr>\n",
       "    <tr>\n",
       "      <th>iso</th>\n",
       "      <th></th>\n",
       "      <th></th>\n",
       "      <th></th>\n",
       "      <th></th>\n",
       "      <th></th>\n",
       "      <th></th>\n",
       "      <th></th>\n",
       "      <th></th>\n",
       "    </tr>\n",
       "  </thead>\n",
       "  <tbody>\n",
       "    <tr>\n",
       "      <th>AFG</th>\n",
       "      <td>Afghanistan</td>\n",
       "      <td>Asia</td>\n",
       "      <td>1.11</td>\n",
       "      <td>327.0</td>\n",
       "      <td>5.150857e+08</td>\n",
       "      <td>3737.91</td>\n",
       "      <td>0.000007</td>\n",
       "      <td>516.747871</td>\n",
       "    </tr>\n",
       "    <tr>\n",
       "      <th>AGO</th>\n",
       "      <td>Angola</td>\n",
       "      <td>Africa</td>\n",
       "      <td>1.15</td>\n",
       "      <td>1010.0</td>\n",
       "      <td>9.979384e+08</td>\n",
       "      <td>802703.37</td>\n",
       "      <td>0.000804</td>\n",
       "      <td>1776.166868</td>\n",
       "    </tr>\n",
       "    <tr>\n",
       "      <th>ALB</th>\n",
       "      <td>Albania</td>\n",
       "      <td>Europe</td>\n",
       "      <td>1.65</td>\n",
       "      <td>1485.0</td>\n",
       "      <td>2.298830e+07</td>\n",
       "      <td>553.79</td>\n",
       "      <td>0.000024</td>\n",
       "      <td>5246.292306</td>\n",
       "    </tr>\n",
       "    <tr>\n",
       "      <th>ARG</th>\n",
       "      <td>Argentina</td>\n",
       "      <td>Americas</td>\n",
       "      <td>0.75</td>\n",
       "      <td>591.0</td>\n",
       "      <td>2.224081e+09</td>\n",
       "      <td>1283496.22</td>\n",
       "      <td>0.000577</td>\n",
       "      <td>8579.017773</td>\n",
       "    </tr>\n",
       "    <tr>\n",
       "      <th>ARM</th>\n",
       "      <td>Armenia</td>\n",
       "      <td>Asia</td>\n",
       "      <td>1.61</td>\n",
       "      <td>562.0</td>\n",
       "      <td>2.375207e+07</td>\n",
       "      <td>1776.87</td>\n",
       "      <td>0.000075</td>\n",
       "      <td>4266.018074</td>\n",
       "    </tr>\n",
       "  </tbody>\n",
       "</table>\n",
       "</div>"
      ],
      "text/plain": [
       "            Stat    Region  zmena_t  prum_srazky_mm_rok  plocha_lesa_ha  \\\n",
       "iso                                                                       \n",
       "AFG  Afghanistan      Asia     1.11               327.0    5.150857e+08   \n",
       "AGO       Angola    Africa     1.15              1010.0    9.979384e+08   \n",
       "ALB      Albania    Europe     1.65              1485.0    2.298830e+07   \n",
       "ARG    Argentina  Americas     0.75               591.0    2.224081e+09   \n",
       "ARM      Armenia      Asia     1.61               562.0    2.375207e+07   \n",
       "\n",
       "     spal_plocha_ha  zlomek_spaleno  hdp_per_capita_dolary  \n",
       "iso                                                         \n",
       "AFG         3737.91        0.000007             516.747871  \n",
       "AGO       802703.37        0.000804            1776.166868  \n",
       "ALB          553.79        0.000024            5246.292306  \n",
       "ARG      1283496.22        0.000577            8579.017773  \n",
       "ARM         1776.87        0.000075            4266.018074  "
      ]
     },
     "execution_count": 25,
     "metadata": {},
     "output_type": "execute_result"
    }
   ],
   "source": [
    "# metoda head()\n",
    "df.head()"
   ]
  },
  {
   "cell_type": "markdown",
   "metadata": {},
   "source": [
    "## Příklad\n",
    "* S Kolika dolary ročně, lidé v 10% nejchudších zemí musí v průměru vyžít?"
   ]
  },
  {
   "cell_type": "code",
   "execution_count": 26,
   "metadata": {},
   "outputs": [
    {
     "data": {
      "text/plain": [
       "839.9802055909445"
      ]
     },
     "execution_count": 26,
     "metadata": {},
     "output_type": "execute_result"
    }
   ],
   "source": [
    "# Ano, opět je to kvantil\n"
   ]
  },
  {
   "cell_type": "code",
   "execution_count": 27,
   "metadata": {},
   "outputs": [
    {
     "data": {
      "text/plain": [
       "2.301315631756012"
      ]
     },
     "execution_count": 27,
     "metadata": {},
     "output_type": "execute_result"
    }
   ],
   "source": [
    "# V dolarech na den\n"
   ]
  },
  {
   "cell_type": "markdown",
   "metadata": {},
   "source": [
    "## Pokud je člověk v extrémní chudobě, musí vyžít s méně než 2 dolary na den. \n",
    "* Jak píšeme v úvodu, svět se přesněji nechá rozdělit do 4 kategorií rozvoje (měřeno penězi, což je samozřejmě zavádějící).\n",
    "* Úrovně začínají na extémní chudobě s 2-2.5$ na den, a pak s násobky 4 následují úrovně další.\n",
    "* Takže dělící úrovně jsou 2, 8, 32 dolarů na den\n",
    "* V jaké úrovni se nacházíš ty?"
   ]
  },
  {
   "cell_type": "code",
   "execution_count": 28,
   "metadata": {},
   "outputs": [],
   "source": [
    "# Musíme tedy přidat ke každé zemi její úroveň hdp\n",
    "# Nejdřív udělme všem zemím úroveň 4\n",
    "df['hdp_uroven'] = 4"
   ]
  },
  {
   "cell_type": "code",
   "execution_count": 29,
   "metadata": {},
   "outputs": [],
   "source": [
    "# Teď postupně projdeme df a pokud je hdp per capita nižší než .., snížíme úroveň o jedna\n",
    "# hdp v tabulce je za rok, takže musíme úrovně násobit počtem dní v roce, proto 365\n",
    "df.loc[df['hdp_per_capita_dolary'] < 365*32, 'hdp_uroven'] = 3\n",
    "df.loc[df['hdp_per_capita_dolary'] < 365*8, 'hdp_uroven'] = 2\n",
    "df.loc[df['hdp_per_capita_dolary'] < 365*2.5, 'hdp_uroven'] = 1"
   ]
  },
  {
   "cell_type": "code",
   "execution_count": 30,
   "metadata": {},
   "outputs": [
    {
     "data": {
      "text/html": [
       "<div>\n",
       "<style scoped>\n",
       "    .dataframe tbody tr th:only-of-type {\n",
       "        vertical-align: middle;\n",
       "    }\n",
       "\n",
       "    .dataframe tbody tr th {\n",
       "        vertical-align: top;\n",
       "    }\n",
       "\n",
       "    .dataframe thead th {\n",
       "        text-align: right;\n",
       "    }\n",
       "</style>\n",
       "<table border=\"1\" class=\"dataframe\">\n",
       "  <thead>\n",
       "    <tr style=\"text-align: right;\">\n",
       "      <th></th>\n",
       "      <th>Stat</th>\n",
       "      <th>Region</th>\n",
       "      <th>zmena_t</th>\n",
       "      <th>prum_srazky_mm_rok</th>\n",
       "      <th>plocha_lesa_ha</th>\n",
       "      <th>spal_plocha_ha</th>\n",
       "      <th>zlomek_spaleno</th>\n",
       "      <th>hdp_per_capita_dolary</th>\n",
       "      <th>hdp_uroven</th>\n",
       "    </tr>\n",
       "    <tr>\n",
       "      <th>iso</th>\n",
       "      <th></th>\n",
       "      <th></th>\n",
       "      <th></th>\n",
       "      <th></th>\n",
       "      <th></th>\n",
       "      <th></th>\n",
       "      <th></th>\n",
       "      <th></th>\n",
       "      <th></th>\n",
       "    </tr>\n",
       "  </thead>\n",
       "  <tbody>\n",
       "    <tr>\n",
       "      <th>AFG</th>\n",
       "      <td>Afghanistan</td>\n",
       "      <td>Asia</td>\n",
       "      <td>1.11</td>\n",
       "      <td>327.0</td>\n",
       "      <td>5.150857e+08</td>\n",
       "      <td>3737.91</td>\n",
       "      <td>0.000007</td>\n",
       "      <td>516.747871</td>\n",
       "      <td>1</td>\n",
       "    </tr>\n",
       "    <tr>\n",
       "      <th>AGO</th>\n",
       "      <td>Angola</td>\n",
       "      <td>Africa</td>\n",
       "      <td>1.15</td>\n",
       "      <td>1010.0</td>\n",
       "      <td>9.979384e+08</td>\n",
       "      <td>802703.37</td>\n",
       "      <td>0.000804</td>\n",
       "      <td>1776.166868</td>\n",
       "      <td>2</td>\n",
       "    </tr>\n",
       "    <tr>\n",
       "      <th>ALB</th>\n",
       "      <td>Albania</td>\n",
       "      <td>Europe</td>\n",
       "      <td>1.65</td>\n",
       "      <td>1485.0</td>\n",
       "      <td>2.298830e+07</td>\n",
       "      <td>553.79</td>\n",
       "      <td>0.000024</td>\n",
       "      <td>5246.292306</td>\n",
       "      <td>3</td>\n",
       "    </tr>\n",
       "    <tr>\n",
       "      <th>ARG</th>\n",
       "      <td>Argentina</td>\n",
       "      <td>Americas</td>\n",
       "      <td>0.75</td>\n",
       "      <td>591.0</td>\n",
       "      <td>2.224081e+09</td>\n",
       "      <td>1283496.22</td>\n",
       "      <td>0.000577</td>\n",
       "      <td>8579.017773</td>\n",
       "      <td>3</td>\n",
       "    </tr>\n",
       "    <tr>\n",
       "      <th>ARM</th>\n",
       "      <td>Armenia</td>\n",
       "      <td>Asia</td>\n",
       "      <td>1.61</td>\n",
       "      <td>562.0</td>\n",
       "      <td>2.375207e+07</td>\n",
       "      <td>1776.87</td>\n",
       "      <td>0.000075</td>\n",
       "      <td>4266.018074</td>\n",
       "      <td>3</td>\n",
       "    </tr>\n",
       "  </tbody>\n",
       "</table>\n",
       "</div>"
      ],
      "text/plain": [
       "            Stat    Region  zmena_t  prum_srazky_mm_rok  plocha_lesa_ha  \\\n",
       "iso                                                                       \n",
       "AFG  Afghanistan      Asia     1.11               327.0    5.150857e+08   \n",
       "AGO       Angola    Africa     1.15              1010.0    9.979384e+08   \n",
       "ALB      Albania    Europe     1.65              1485.0    2.298830e+07   \n",
       "ARG    Argentina  Americas     0.75               591.0    2.224081e+09   \n",
       "ARM      Armenia      Asia     1.61               562.0    2.375207e+07   \n",
       "\n",
       "     spal_plocha_ha  zlomek_spaleno  hdp_per_capita_dolary  hdp_uroven  \n",
       "iso                                                                     \n",
       "AFG         3737.91        0.000007             516.747871           1  \n",
       "AGO       802703.37        0.000804            1776.166868           2  \n",
       "ALB          553.79        0.000024            5246.292306           3  \n",
       "ARG      1283496.22        0.000577            8579.017773           3  \n",
       "ARM         1776.87        0.000075            4266.018074           3  "
      ]
     },
     "execution_count": 30,
     "metadata": {},
     "output_type": "execute_result"
    }
   ],
   "source": [
    "# zkontrolujme tabulku\n",
    "df.head()"
   ]
  },
  {
   "cell_type": "code",
   "execution_count": 31,
   "metadata": {},
   "outputs": [
    {
     "data": {
      "text/plain": [
       "120"
      ]
     },
     "execution_count": 31,
     "metadata": {},
     "output_type": "execute_result"
    }
   ],
   "source": [
    "# Kolik Států (řádků) máme v df\n"
   ]
  },
  {
   "cell_type": "code",
   "execution_count": 32,
   "metadata": {},
   "outputs": [],
   "source": [
    "# Vynecháme státy, kde nějaké hodnoty chybí\n",
    "# Chybějící data jsou typicky označena jako NaN, 'not a number'\n",
    "# Profesionální by ovšem bylo najít dodatečné zdroje chybějících dat\n",
    "df.dropna(inplace=True)"
   ]
  },
  {
   "cell_type": "code",
   "execution_count": 33,
   "metadata": {},
   "outputs": [
    {
     "data": {
      "text/plain": [
       "116"
      ]
     },
     "execution_count": 33,
     "metadata": {},
     "output_type": "execute_result"
    }
   ],
   "source": [
    "# Ze 195 států bohužel v naší studii ignorujeme mnoho lidí našeho světa\n",
    "len(df)"
   ]
  },
  {
   "cell_type": "code",
   "execution_count": 34,
   "metadata": {},
   "outputs": [
    {
     "data": {
      "text/plain": [
       "3    41\n",
       "4    32\n",
       "2    28\n",
       "1    15\n",
       "Name: hdp_uroven, dtype: int64"
      ]
     },
     "execution_count": 34,
     "metadata": {},
     "output_type": "execute_result"
    }
   ],
   "source": [
    "# Kolik zemí na té které HDP úrovni mamé v naší tabulce? \n",
    "# Najdeme pomocí metody value_counts(), kterou aplikujeme na sloupec hdp_uroven\n"
   ]
  },
  {
   "cell_type": "markdown",
   "metadata": {},
   "source": [
    "### Dokazující, že dělení do 4 úrovní je smysluplné.\n",
    "\n",
    "---\n",
    "\n",
    "# Analýza požárů pro státy úrovně 1\n",
    "* Zde opakujeme přesně stejné kroky jako pro Evropu\n",
    "* S výhodou že pracujeme se všemi státy světa, rozdělených dle HDP"
   ]
  },
  {
   "cell_type": "code",
   "execution_count": 35,
   "metadata": {},
   "outputs": [],
   "source": [
    "# podobně jako vybírání evropských států, vyberte státy úrovně 1\n",
    "df_l1 = "
   ]
  },
  {
   "cell_type": "code",
   "execution_count": 36,
   "metadata": {},
   "outputs": [],
   "source": [
    "# opakování procesu určení států s velkými spáleništi\n",
    "velky_spal_limit = \n",
    "velky_spal_df = \n",
    "mnoz_velky_spal = "
   ]
  },
  {
   "cell_type": "code",
   "execution_count": 37,
   "metadata": {},
   "outputs": [],
   "source": [
    "# Státy, které netrpí přílišným nárůstem teploty\n",
    "zmena_t_limit = \n",
    "ne_velka_zmena_t_df =  # opačné znamínko \n",
    "mnoz_ne_velka_zmena_t = "
   ]
  },
  {
   "cell_type": "code",
   "execution_count": 38,
   "metadata": {},
   "outputs": [],
   "source": [
    "# Státy s ne příliš nízkými srážkami\n",
    "srazky_limit = \n",
    "ne_nizke_srazky_df = \n",
    "mnoz_ne_nizke_srazky = "
   ]
  },
  {
   "cell_type": "code",
   "execution_count": 39,
   "metadata": {},
   "outputs": [],
   "source": [
    "# průnik dvou množin\n",
    "prunik2 = "
   ]
  },
  {
   "cell_type": "code",
   "execution_count": 40,
   "metadata": {},
   "outputs": [
    {
     "data": {
      "text/html": [
       "<div>\n",
       "<style scoped>\n",
       "    .dataframe tbody tr th:only-of-type {\n",
       "        vertical-align: middle;\n",
       "    }\n",
       "\n",
       "    .dataframe tbody tr th {\n",
       "        vertical-align: top;\n",
       "    }\n",
       "\n",
       "    .dataframe thead th {\n",
       "        text-align: right;\n",
       "    }\n",
       "</style>\n",
       "<table border=\"1\" class=\"dataframe\">\n",
       "  <thead>\n",
       "    <tr style=\"text-align: right;\">\n",
       "      <th></th>\n",
       "      <th>Stat</th>\n",
       "      <th>Region</th>\n",
       "      <th>zmena_t</th>\n",
       "      <th>prum_srazky_mm_rok</th>\n",
       "      <th>plocha_lesa_ha</th>\n",
       "      <th>spal_plocha_ha</th>\n",
       "      <th>zlomek_spaleno</th>\n",
       "      <th>hdp_per_capita_dolary</th>\n",
       "      <th>hdp_uroven</th>\n",
       "    </tr>\n",
       "    <tr>\n",
       "      <th>iso</th>\n",
       "      <th></th>\n",
       "      <th></th>\n",
       "      <th></th>\n",
       "      <th></th>\n",
       "      <th></th>\n",
       "      <th></th>\n",
       "      <th></th>\n",
       "      <th></th>\n",
       "      <th></th>\n",
       "    </tr>\n",
       "  </thead>\n",
       "  <tbody>\n",
       "    <tr>\n",
       "      <th>MLI</th>\n",
       "      <td>Mali</td>\n",
       "      <td>Africa</td>\n",
       "      <td>1.08</td>\n",
       "      <td>282.0</td>\n",
       "      <td>9.800557e+08</td>\n",
       "      <td>2986561.72</td>\n",
       "      <td>0.003047</td>\n",
       "      <td>862.453019</td>\n",
       "      <td>1</td>\n",
       "    </tr>\n",
       "    <tr>\n",
       "      <th>TCD</th>\n",
       "      <td>Chad</td>\n",
       "      <td>Africa</td>\n",
       "      <td>1.10</td>\n",
       "      <td>322.0</td>\n",
       "      <td>9.050136e+08</td>\n",
       "      <td>1975335.80</td>\n",
       "      <td>0.002183</td>\n",
       "      <td>659.270045</td>\n",
       "      <td>1</td>\n",
       "    </tr>\n",
       "  </tbody>\n",
       "</table>\n",
       "</div>"
      ],
      "text/plain": [
       "     Stat  Region  zmena_t  prum_srazky_mm_rok  plocha_lesa_ha  \\\n",
       "iso                                                              \n",
       "MLI  Mali  Africa     1.08               282.0    9.800557e+08   \n",
       "TCD  Chad  Africa     1.10               322.0    9.050136e+08   \n",
       "\n",
       "     spal_plocha_ha  zlomek_spaleno  hdp_per_capita_dolary  hdp_uroven  \n",
       "iso                                                                     \n",
       "MLI      2986561.72        0.003047             862.453019           1  \n",
       "TCD      1975335.80        0.002183             659.270045           1  "
      ]
     },
     "execution_count": 40,
     "metadata": {},
     "output_type": "execute_result"
    }
   ],
   "source": [
    "# metoda .loc \n"
   ]
  },
  {
   "cell_type": "code",
   "execution_count": 41,
   "metadata": {},
   "outputs": [],
   "source": [
    "# konečně průnik všech tří množin\n",
    "prunik3 = "
   ]
  },
  {
   "cell_type": "code",
   "execution_count": 42,
   "metadata": {},
   "outputs": [
    {
     "data": {
      "text/html": [
       "<div>\n",
       "<style scoped>\n",
       "    .dataframe tbody tr th:only-of-type {\n",
       "        vertical-align: middle;\n",
       "    }\n",
       "\n",
       "    .dataframe tbody tr th {\n",
       "        vertical-align: top;\n",
       "    }\n",
       "\n",
       "    .dataframe thead th {\n",
       "        text-align: right;\n",
       "    }\n",
       "</style>\n",
       "<table border=\"1\" class=\"dataframe\">\n",
       "  <thead>\n",
       "    <tr style=\"text-align: right;\">\n",
       "      <th></th>\n",
       "      <th>Stat</th>\n",
       "      <th>Region</th>\n",
       "      <th>zmena_t</th>\n",
       "      <th>prum_srazky_mm_rok</th>\n",
       "      <th>plocha_lesa_ha</th>\n",
       "      <th>spal_plocha_ha</th>\n",
       "      <th>zlomek_spaleno</th>\n",
       "      <th>hdp_per_capita_dolary</th>\n",
       "      <th>hdp_uroven</th>\n",
       "    </tr>\n",
       "    <tr>\n",
       "      <th>iso</th>\n",
       "      <th></th>\n",
       "      <th></th>\n",
       "      <th></th>\n",
       "      <th></th>\n",
       "      <th></th>\n",
       "      <th></th>\n",
       "      <th></th>\n",
       "      <th></th>\n",
       "      <th></th>\n",
       "    </tr>\n",
       "  </thead>\n",
       "  <tbody>\n",
       "  </tbody>\n",
       "</table>\n",
       "</div>"
      ],
      "text/plain": [
       "Empty DataFrame\n",
       "Columns: [Stat, Region, zmena_t, prum_srazky_mm_rok, plocha_lesa_ha, spal_plocha_ha, zlomek_spaleno, hdp_per_capita_dolary, hdp_uroven]\n",
       "Index: []"
      ]
     },
     "execution_count": 42,
     "metadata": {},
     "output_type": "execute_result"
    }
   ],
   "source": [
    "# metoda .loc \n"
   ]
  },
  {
   "cell_type": "code",
   "execution_count": 43,
   "metadata": {},
   "outputs": [
    {
     "data": {
      "image/png": "[encoded data removed]",
      "text/plain": [
       "<Figure size 576x432 with 1 Axes>"
      ]
     },
     "metadata": {},
     "output_type": "display_data"
    }
   ],
   "source": [
    "\n",
    "plt.title('Požáry pro státy urovně 1', fontsize=16)\n",
    "plt.show()"
   ]
  },
  {
   "cell_type": "markdown",
   "metadata": {},
   "source": [
    "# Závěr pro úroveň 1:\n",
    "* Zdá se, že žádný stát nevystupuje z řady, kdy by zaznamenal příliš požárů při mírném klimatu\n",
    "* Požáry v Mali a Čadu se dají vysvětlit nízkými srážkami"
   ]
  },
  {
   "cell_type": "markdown",
   "metadata": {},
   "source": [
    "# Analýza požárů pro státy úrovně 2"
   ]
  },
  {
   "cell_type": "code",
   "execution_count": 44,
   "metadata": {},
   "outputs": [],
   "source": [
    "# vyberte státy úrovně 2\n",
    "df_l2 = "
   ]
  },
  {
   "cell_type": "code",
   "execution_count": 45,
   "metadata": {},
   "outputs": [],
   "source": [
    "# určení států s velkými spáleništi\n",
    "velky_spal_limit = \n",
    "velky_spal_df = \n",
    "mnoz_velky_spal = "
   ]
  },
  {
   "cell_type": "code",
   "execution_count": 46,
   "metadata": {},
   "outputs": [],
   "source": [
    "# Státy, které netrpí přílišným nárůstem teploty\n",
    "zmena_t_limit = \n",
    "ne_velka_zmena_t_df =  # opačné znamínko \n",
    "mnoz_ne_velka_zmena_t = "
   ]
  },
  {
   "cell_type": "code",
   "execution_count": 47,
   "metadata": {},
   "outputs": [],
   "source": [
    "# Státy s ne příliš nízkými srážkami\n",
    "srazky_limit = \n",
    "ne_nizke_srazky_df = \n",
    "mnoz_ne_nizke_srazky = "
   ]
  },
  {
   "cell_type": "code",
   "execution_count": 48,
   "metadata": {},
   "outputs": [],
   "source": [
    "prunik2 = "
   ]
  },
  {
   "cell_type": "code",
   "execution_count": 49,
   "metadata": {},
   "outputs": [
    {
     "data": {
      "text/html": [
       "<div>\n",
       "<style scoped>\n",
       "    .dataframe tbody tr th:only-of-type {\n",
       "        vertical-align: middle;\n",
       "    }\n",
       "\n",
       "    .dataframe tbody tr th {\n",
       "        vertical-align: top;\n",
       "    }\n",
       "\n",
       "    .dataframe thead th {\n",
       "        text-align: right;\n",
       "    }\n",
       "</style>\n",
       "<table border=\"1\" class=\"dataframe\">\n",
       "  <thead>\n",
       "    <tr style=\"text-align: right;\">\n",
       "      <th></th>\n",
       "      <th>Stat</th>\n",
       "      <th>Region</th>\n",
       "      <th>zmena_t</th>\n",
       "      <th>prum_srazky_mm_rok</th>\n",
       "      <th>plocha_lesa_ha</th>\n",
       "      <th>spal_plocha_ha</th>\n",
       "      <th>zlomek_spaleno</th>\n",
       "      <th>hdp_per_capita_dolary</th>\n",
       "      <th>hdp_uroven</th>\n",
       "    </tr>\n",
       "    <tr>\n",
       "      <th>iso</th>\n",
       "      <th></th>\n",
       "      <th></th>\n",
       "      <th></th>\n",
       "      <th></th>\n",
       "      <th></th>\n",
       "      <th></th>\n",
       "      <th></th>\n",
       "      <th></th>\n",
       "      <th></th>\n",
       "    </tr>\n",
       "  </thead>\n",
       "  <tbody>\n",
       "    <tr>\n",
       "      <th>KHM</th>\n",
       "      <td>Cambodia</td>\n",
       "      <td>Asia</td>\n",
       "      <td>1.06</td>\n",
       "      <td>1904.0</td>\n",
       "      <td>1.450877e+08</td>\n",
       "      <td>929791.47</td>\n",
       "      <td>0.006408</td>\n",
       "      <td>1543.669258</td>\n",
       "      <td>2</td>\n",
       "    </tr>\n",
       "    <tr>\n",
       "      <th>BGD</th>\n",
       "      <td>Bangladesh</td>\n",
       "      <td>Asia</td>\n",
       "      <td>0.92</td>\n",
       "      <td>2666.0</td>\n",
       "      <td>1.115075e+08</td>\n",
       "      <td>409357.40</td>\n",
       "      <td>0.003671</td>\n",
       "      <td>1961.613749</td>\n",
       "      <td>2</td>\n",
       "    </tr>\n",
       "    <tr>\n",
       "      <th>NIC</th>\n",
       "      <td>Nicaragua</td>\n",
       "      <td>Americas</td>\n",
       "      <td>1.09</td>\n",
       "      <td>2280.0</td>\n",
       "      <td>1.025758e+08</td>\n",
       "      <td>400918.61</td>\n",
       "      <td>0.003909</td>\n",
       "      <td>1905.261152</td>\n",
       "      <td>2</td>\n",
       "    </tr>\n",
       "    <tr>\n",
       "      <th>VNM</th>\n",
       "      <td>Viet Nam</td>\n",
       "      <td>Asia</td>\n",
       "      <td>1.10</td>\n",
       "      <td>1821.0</td>\n",
       "      <td>2.634208e+08</td>\n",
       "      <td>2785125.25</td>\n",
       "      <td>0.010573</td>\n",
       "      <td>2785.724161</td>\n",
       "      <td>2</td>\n",
       "    </tr>\n",
       "  </tbody>\n",
       "</table>\n",
       "</div>"
      ],
      "text/plain": [
       "           Stat    Region  zmena_t  prum_srazky_mm_rok  plocha_lesa_ha  \\\n",
       "iso                                                                      \n",
       "KHM    Cambodia      Asia     1.06              1904.0    1.450877e+08   \n",
       "BGD  Bangladesh      Asia     0.92              2666.0    1.115075e+08   \n",
       "NIC   Nicaragua  Americas     1.09              2280.0    1.025758e+08   \n",
       "VNM    Viet Nam      Asia     1.10              1821.0    2.634208e+08   \n",
       "\n",
       "     spal_plocha_ha  zlomek_spaleno  hdp_per_capita_dolary  hdp_uroven  \n",
       "iso                                                                     \n",
       "KHM       929791.47        0.006408            1543.669258           2  \n",
       "BGD       409357.40        0.003671            1961.613749           2  \n",
       "NIC       400918.61        0.003909            1905.261152           2  \n",
       "VNM      2785125.25        0.010573            2785.724161           2  "
      ]
     },
     "execution_count": 49,
     "metadata": {},
     "output_type": "execute_result"
    }
   ],
   "source": [
    "# metoda .loc \n"
   ]
  },
  {
   "cell_type": "code",
   "execution_count": 50,
   "metadata": {},
   "outputs": [],
   "source": [
    "prunik3 = "
   ]
  },
  {
   "cell_type": "code",
   "execution_count": 51,
   "metadata": {},
   "outputs": [
    {
     "data": {
      "text/html": [
       "<div>\n",
       "<style scoped>\n",
       "    .dataframe tbody tr th:only-of-type {\n",
       "        vertical-align: middle;\n",
       "    }\n",
       "\n",
       "    .dataframe tbody tr th {\n",
       "        vertical-align: top;\n",
       "    }\n",
       "\n",
       "    .dataframe thead th {\n",
       "        text-align: right;\n",
       "    }\n",
       "</style>\n",
       "<table border=\"1\" class=\"dataframe\">\n",
       "  <thead>\n",
       "    <tr style=\"text-align: right;\">\n",
       "      <th></th>\n",
       "      <th>Stat</th>\n",
       "      <th>Region</th>\n",
       "      <th>zmena_t</th>\n",
       "      <th>prum_srazky_mm_rok</th>\n",
       "      <th>plocha_lesa_ha</th>\n",
       "      <th>spal_plocha_ha</th>\n",
       "      <th>zlomek_spaleno</th>\n",
       "      <th>hdp_per_capita_dolary</th>\n",
       "      <th>hdp_uroven</th>\n",
       "    </tr>\n",
       "    <tr>\n",
       "      <th>iso</th>\n",
       "      <th></th>\n",
       "      <th></th>\n",
       "      <th></th>\n",
       "      <th></th>\n",
       "      <th></th>\n",
       "      <th></th>\n",
       "      <th></th>\n",
       "      <th></th>\n",
       "      <th></th>\n",
       "    </tr>\n",
       "  </thead>\n",
       "  <tbody>\n",
       "    <tr>\n",
       "      <th>KHM</th>\n",
       "      <td>Cambodia</td>\n",
       "      <td>Asia</td>\n",
       "      <td>1.06</td>\n",
       "      <td>1904.0</td>\n",
       "      <td>1.450877e+08</td>\n",
       "      <td>929791.47</td>\n",
       "      <td>0.006408</td>\n",
       "      <td>1543.669258</td>\n",
       "      <td>2</td>\n",
       "    </tr>\n",
       "    <tr>\n",
       "      <th>BGD</th>\n",
       "      <td>Bangladesh</td>\n",
       "      <td>Asia</td>\n",
       "      <td>0.92</td>\n",
       "      <td>2666.0</td>\n",
       "      <td>1.115075e+08</td>\n",
       "      <td>409357.40</td>\n",
       "      <td>0.003671</td>\n",
       "      <td>1961.613749</td>\n",
       "      <td>2</td>\n",
       "    </tr>\n",
       "    <tr>\n",
       "      <th>NIC</th>\n",
       "      <td>Nicaragua</td>\n",
       "      <td>Americas</td>\n",
       "      <td>1.09</td>\n",
       "      <td>2280.0</td>\n",
       "      <td>1.025758e+08</td>\n",
       "      <td>400918.61</td>\n",
       "      <td>0.003909</td>\n",
       "      <td>1905.261152</td>\n",
       "      <td>2</td>\n",
       "    </tr>\n",
       "    <tr>\n",
       "      <th>VNM</th>\n",
       "      <td>Viet Nam</td>\n",
       "      <td>Asia</td>\n",
       "      <td>1.10</td>\n",
       "      <td>1821.0</td>\n",
       "      <td>2.634208e+08</td>\n",
       "      <td>2785125.25</td>\n",
       "      <td>0.010573</td>\n",
       "      <td>2785.724161</td>\n",
       "      <td>2</td>\n",
       "    </tr>\n",
       "  </tbody>\n",
       "</table>\n",
       "</div>"
      ],
      "text/plain": [
       "           Stat    Region  zmena_t  prum_srazky_mm_rok  plocha_lesa_ha  \\\n",
       "iso                                                                      \n",
       "KHM    Cambodia      Asia     1.06              1904.0    1.450877e+08   \n",
       "BGD  Bangladesh      Asia     0.92              2666.0    1.115075e+08   \n",
       "NIC   Nicaragua  Americas     1.09              2280.0    1.025758e+08   \n",
       "VNM    Viet Nam      Asia     1.10              1821.0    2.634208e+08   \n",
       "\n",
       "     spal_plocha_ha  zlomek_spaleno  hdp_per_capita_dolary  hdp_uroven  \n",
       "iso                                                                     \n",
       "KHM       929791.47        0.006408            1543.669258           2  \n",
       "BGD       409357.40        0.003671            1961.613749           2  \n",
       "NIC       400918.61        0.003909            1905.261152           2  \n",
       "VNM      2785125.25        0.010573            2785.724161           2  "
      ]
     },
     "execution_count": 51,
     "metadata": {},
     "output_type": "execute_result"
    }
   ],
   "source": [
    "# metoda .loc \n"
   ]
  },
  {
   "cell_type": "code",
   "execution_count": 52,
   "metadata": {},
   "outputs": [
    {
     "data": {
      "image/png": "[encoded data removed]",
      "text/plain": [
       "<Figure size 576x432 with 1 Axes>"
      ]
     },
     "metadata": {},
     "output_type": "display_data"
    }
   ],
   "source": [
    "\n",
    "plt.title('Požáry pro státy urovně 2', fontsize=16)\n",
    "plt.show()"
   ]
  },
  {
   "cell_type": "markdown",
   "metadata": {},
   "source": [
    "# Závěr pro úroveň 2:\n",
    "* Nízké srážky neospravedlňují požáry v žádné zemi z prunik2 \n",
    "* OSN ambasador by mohl zadat svým právníkům podívat se na tyto státy blíže."
   ]
  },
  {
   "cell_type": "markdown",
   "metadata": {},
   "source": [
    "# Analýza požárů pro státy úrovně 3"
   ]
  },
  {
   "cell_type": "code",
   "execution_count": 53,
   "metadata": {},
   "outputs": [],
   "source": [
    "# vyberte státy úrovně 3\n",
    "df_l3 = "
   ]
  },
  {
   "cell_type": "code",
   "execution_count": 54,
   "metadata": {},
   "outputs": [],
   "source": [
    "# určení států s velkými spáleništi\n",
    "velky_spal_limit = \n",
    "velky_spal_df = \n",
    "mnoz_velky_spal = "
   ]
  },
  {
   "cell_type": "code",
   "execution_count": 55,
   "metadata": {},
   "outputs": [],
   "source": [
    "# Státy, které netrpí přílišným nárůstem teploty\n",
    "zmena_t_limit = \n",
    "ne_velka_zmena_t_df =  # opačné znamínko \n",
    "mnoz_ne_velka_zmena_t = "
   ]
  },
  {
   "cell_type": "code",
   "execution_count": 56,
   "metadata": {},
   "outputs": [],
   "source": [
    "# Státy s ne příliš nízkými srážkami\n",
    "srazky_limit = \n",
    "ne_nizke_srazky_df = \n",
    "mnoz_ne_nizke_srazky = "
   ]
  },
  {
   "cell_type": "code",
   "execution_count": 57,
   "metadata": {},
   "outputs": [],
   "source": [
    "prunik2 = "
   ]
  },
  {
   "cell_type": "code",
   "execution_count": 58,
   "metadata": {},
   "outputs": [
    {
     "data": {
      "text/html": [
       "<div>\n",
       "<style scoped>\n",
       "    .dataframe tbody tr th:only-of-type {\n",
       "        vertical-align: middle;\n",
       "    }\n",
       "\n",
       "    .dataframe tbody tr th {\n",
       "        vertical-align: top;\n",
       "    }\n",
       "\n",
       "    .dataframe thead th {\n",
       "        text-align: right;\n",
       "    }\n",
       "</style>\n",
       "<table border=\"1\" class=\"dataframe\">\n",
       "  <thead>\n",
       "    <tr style=\"text-align: right;\">\n",
       "      <th></th>\n",
       "      <th>Stat</th>\n",
       "      <th>Region</th>\n",
       "      <th>zmena_t</th>\n",
       "      <th>prum_srazky_mm_rok</th>\n",
       "      <th>plocha_lesa_ha</th>\n",
       "      <th>spal_plocha_ha</th>\n",
       "      <th>zlomek_spaleno</th>\n",
       "      <th>hdp_per_capita_dolary</th>\n",
       "      <th>hdp_uroven</th>\n",
       "    </tr>\n",
       "    <tr>\n",
       "      <th>iso</th>\n",
       "      <th></th>\n",
       "      <th></th>\n",
       "      <th></th>\n",
       "      <th></th>\n",
       "      <th></th>\n",
       "      <th></th>\n",
       "      <th></th>\n",
       "      <th></th>\n",
       "      <th></th>\n",
       "    </tr>\n",
       "  </thead>\n",
       "  <tbody>\n",
       "    <tr>\n",
       "      <th>THA</th>\n",
       "      <td>Thailand</td>\n",
       "      <td>Asia</td>\n",
       "      <td>1.18</td>\n",
       "      <td>1622.0</td>\n",
       "      <td>4.112436e+08</td>\n",
       "      <td>3756909.35</td>\n",
       "      <td>0.009135</td>\n",
       "      <td>7186.874092</td>\n",
       "      <td>3</td>\n",
       "    </tr>\n",
       "    <tr>\n",
       "      <th>GTM</th>\n",
       "      <td>Guatemala</td>\n",
       "      <td>Americas</td>\n",
       "      <td>1.05</td>\n",
       "      <td>1996.0</td>\n",
       "      <td>8.732079e+07</td>\n",
       "      <td>377429.44</td>\n",
       "      <td>0.004322</td>\n",
       "      <td>4603.339617</td>\n",
       "      <td>3</td>\n",
       "    </tr>\n",
       "    <tr>\n",
       "      <th>BLZ</th>\n",
       "      <td>Belize</td>\n",
       "      <td>Americas</td>\n",
       "      <td>1.08</td>\n",
       "      <td>1705.0</td>\n",
       "      <td>1.749727e+07</td>\n",
       "      <td>47339.90</td>\n",
       "      <td>0.002706</td>\n",
       "      <td>4115.177008</td>\n",
       "      <td>3</td>\n",
       "    </tr>\n",
       "    <tr>\n",
       "      <th>MEX</th>\n",
       "      <td>Mexico</td>\n",
       "      <td>Americas</td>\n",
       "      <td>1.12</td>\n",
       "      <td>758.0</td>\n",
       "      <td>1.561484e+09</td>\n",
       "      <td>1461080.92</td>\n",
       "      <td>0.000936</td>\n",
       "      <td>8329.271313</td>\n",
       "      <td>3</td>\n",
       "    </tr>\n",
       "    <tr>\n",
       "      <th>COL</th>\n",
       "      <td>Colombia</td>\n",
       "      <td>Americas</td>\n",
       "      <td>0.89</td>\n",
       "      <td>3240.0</td>\n",
       "      <td>9.094070e+08</td>\n",
       "      <td>2841056.56</td>\n",
       "      <td>0.003124</td>\n",
       "      <td>5334.556042</td>\n",
       "      <td>3</td>\n",
       "    </tr>\n",
       "    <tr>\n",
       "      <th>CUB</th>\n",
       "      <td>Cuba</td>\n",
       "      <td>Americas</td>\n",
       "      <td>1.12</td>\n",
       "      <td>1335.0</td>\n",
       "      <td>8.858498e+07</td>\n",
       "      <td>552423.82</td>\n",
       "      <td>0.006236</td>\n",
       "      <td>9477.852873</td>\n",
       "      <td>3</td>\n",
       "    </tr>\n",
       "    <tr>\n",
       "      <th>BTN</th>\n",
       "      <td>Bhutan</td>\n",
       "      <td>Asia</td>\n",
       "      <td>1.05</td>\n",
       "      <td>2200.0</td>\n",
       "      <td>3.101037e+07</td>\n",
       "      <td>32671.79</td>\n",
       "      <td>0.001054</td>\n",
       "      <td>3000.779327</td>\n",
       "      <td>3</td>\n",
       "    </tr>\n",
       "    <tr>\n",
       "      <th>SLV</th>\n",
       "      <td>El Salvador</td>\n",
       "      <td>Americas</td>\n",
       "      <td>1.03</td>\n",
       "      <td>1784.0</td>\n",
       "      <td>1.633818e+07</td>\n",
       "      <td>58169.04</td>\n",
       "      <td>0.003560</td>\n",
       "      <td>3798.636521</td>\n",
       "      <td>3</td>\n",
       "    </tr>\n",
       "    <tr>\n",
       "      <th>PRY</th>\n",
       "      <td>Paraguay</td>\n",
       "      <td>Americas</td>\n",
       "      <td>0.99</td>\n",
       "      <td>1130.0</td>\n",
       "      <td>3.196693e+08</td>\n",
       "      <td>937657.83</td>\n",
       "      <td>0.002933</td>\n",
       "      <td>5001.072760</td>\n",
       "      <td>3</td>\n",
       "    </tr>\n",
       "  </tbody>\n",
       "</table>\n",
       "</div>"
      ],
      "text/plain": [
       "            Stat    Region  zmena_t  prum_srazky_mm_rok  plocha_lesa_ha  \\\n",
       "iso                                                                       \n",
       "THA     Thailand      Asia     1.18              1622.0    4.112436e+08   \n",
       "GTM    Guatemala  Americas     1.05              1996.0    8.732079e+07   \n",
       "BLZ       Belize  Americas     1.08              1705.0    1.749727e+07   \n",
       "MEX       Mexico  Americas     1.12               758.0    1.561484e+09   \n",
       "COL     Colombia  Americas     0.89              3240.0    9.094070e+08   \n",
       "CUB         Cuba  Americas     1.12              1335.0    8.858498e+07   \n",
       "BTN       Bhutan      Asia     1.05              2200.0    3.101037e+07   \n",
       "SLV  El Salvador  Americas     1.03              1784.0    1.633818e+07   \n",
       "PRY     Paraguay  Americas     0.99              1130.0    3.196693e+08   \n",
       "\n",
       "     spal_plocha_ha  zlomek_spaleno  hdp_per_capita_dolary  hdp_uroven  \n",
       "iso                                                                     \n",
       "THA      3756909.35        0.009135            7186.874092           3  \n",
       "GTM       377429.44        0.004322            4603.339617           3  \n",
       "BLZ        47339.90        0.002706            4115.177008           3  \n",
       "MEX      1461080.92        0.000936            8329.271313           3  \n",
       "COL      2841056.56        0.003124            5334.556042           3  \n",
       "CUB       552423.82        0.006236            9477.852873           3  \n",
       "BTN        32671.79        0.001054            3000.779327           3  \n",
       "SLV        58169.04        0.003560            3798.636521           3  \n",
       "PRY       937657.83        0.002933            5001.072760           3  "
      ]
     },
     "execution_count": 58,
     "metadata": {},
     "output_type": "execute_result"
    }
   ],
   "source": [
    "# metoda .loc \n"
   ]
  },
  {
   "cell_type": "code",
   "execution_count": 59,
   "metadata": {},
   "outputs": [],
   "source": [
    "prunik3 = "
   ]
  },
  {
   "cell_type": "code",
   "execution_count": 60,
   "metadata": {},
   "outputs": [
    {
     "data": {
      "text/html": [
       "<div>\n",
       "<style scoped>\n",
       "    .dataframe tbody tr th:only-of-type {\n",
       "        vertical-align: middle;\n",
       "    }\n",
       "\n",
       "    .dataframe tbody tr th {\n",
       "        vertical-align: top;\n",
       "    }\n",
       "\n",
       "    .dataframe thead th {\n",
       "        text-align: right;\n",
       "    }\n",
       "</style>\n",
       "<table border=\"1\" class=\"dataframe\">\n",
       "  <thead>\n",
       "    <tr style=\"text-align: right;\">\n",
       "      <th></th>\n",
       "      <th>Stat</th>\n",
       "      <th>Region</th>\n",
       "      <th>zmena_t</th>\n",
       "      <th>prum_srazky_mm_rok</th>\n",
       "      <th>plocha_lesa_ha</th>\n",
       "      <th>spal_plocha_ha</th>\n",
       "      <th>zlomek_spaleno</th>\n",
       "      <th>hdp_per_capita_dolary</th>\n",
       "      <th>hdp_uroven</th>\n",
       "    </tr>\n",
       "    <tr>\n",
       "      <th>iso</th>\n",
       "      <th></th>\n",
       "      <th></th>\n",
       "      <th></th>\n",
       "      <th></th>\n",
       "      <th></th>\n",
       "      <th></th>\n",
       "      <th></th>\n",
       "      <th></th>\n",
       "      <th></th>\n",
       "    </tr>\n",
       "  </thead>\n",
       "  <tbody>\n",
       "    <tr>\n",
       "      <th>THA</th>\n",
       "      <td>Thailand</td>\n",
       "      <td>Asia</td>\n",
       "      <td>1.18</td>\n",
       "      <td>1622.0</td>\n",
       "      <td>4.112436e+08</td>\n",
       "      <td>3756909.35</td>\n",
       "      <td>0.009135</td>\n",
       "      <td>7186.874092</td>\n",
       "      <td>3</td>\n",
       "    </tr>\n",
       "    <tr>\n",
       "      <th>BLZ</th>\n",
       "      <td>Belize</td>\n",
       "      <td>Americas</td>\n",
       "      <td>1.08</td>\n",
       "      <td>1705.0</td>\n",
       "      <td>1.749727e+07</td>\n",
       "      <td>47339.90</td>\n",
       "      <td>0.002706</td>\n",
       "      <td>4115.177008</td>\n",
       "      <td>3</td>\n",
       "    </tr>\n",
       "    <tr>\n",
       "      <th>GTM</th>\n",
       "      <td>Guatemala</td>\n",
       "      <td>Americas</td>\n",
       "      <td>1.05</td>\n",
       "      <td>1996.0</td>\n",
       "      <td>8.732079e+07</td>\n",
       "      <td>377429.44</td>\n",
       "      <td>0.004322</td>\n",
       "      <td>4603.339617</td>\n",
       "      <td>3</td>\n",
       "    </tr>\n",
       "    <tr>\n",
       "      <th>COL</th>\n",
       "      <td>Colombia</td>\n",
       "      <td>Americas</td>\n",
       "      <td>0.89</td>\n",
       "      <td>3240.0</td>\n",
       "      <td>9.094070e+08</td>\n",
       "      <td>2841056.56</td>\n",
       "      <td>0.003124</td>\n",
       "      <td>5334.556042</td>\n",
       "      <td>3</td>\n",
       "    </tr>\n",
       "    <tr>\n",
       "      <th>CUB</th>\n",
       "      <td>Cuba</td>\n",
       "      <td>Americas</td>\n",
       "      <td>1.12</td>\n",
       "      <td>1335.0</td>\n",
       "      <td>8.858498e+07</td>\n",
       "      <td>552423.82</td>\n",
       "      <td>0.006236</td>\n",
       "      <td>9477.852873</td>\n",
       "      <td>3</td>\n",
       "    </tr>\n",
       "    <tr>\n",
       "      <th>BTN</th>\n",
       "      <td>Bhutan</td>\n",
       "      <td>Asia</td>\n",
       "      <td>1.05</td>\n",
       "      <td>2200.0</td>\n",
       "      <td>3.101037e+07</td>\n",
       "      <td>32671.79</td>\n",
       "      <td>0.001054</td>\n",
       "      <td>3000.779327</td>\n",
       "      <td>3</td>\n",
       "    </tr>\n",
       "    <tr>\n",
       "      <th>SLV</th>\n",
       "      <td>El Salvador</td>\n",
       "      <td>Americas</td>\n",
       "      <td>1.03</td>\n",
       "      <td>1784.0</td>\n",
       "      <td>1.633818e+07</td>\n",
       "      <td>58169.04</td>\n",
       "      <td>0.003560</td>\n",
       "      <td>3798.636521</td>\n",
       "      <td>3</td>\n",
       "    </tr>\n",
       "    <tr>\n",
       "      <th>PRY</th>\n",
       "      <td>Paraguay</td>\n",
       "      <td>Americas</td>\n",
       "      <td>0.99</td>\n",
       "      <td>1130.0</td>\n",
       "      <td>3.196693e+08</td>\n",
       "      <td>937657.83</td>\n",
       "      <td>0.002933</td>\n",
       "      <td>5001.072760</td>\n",
       "      <td>3</td>\n",
       "    </tr>\n",
       "  </tbody>\n",
       "</table>\n",
       "</div>"
      ],
      "text/plain": [
       "            Stat    Region  zmena_t  prum_srazky_mm_rok  plocha_lesa_ha  \\\n",
       "iso                                                                       \n",
       "THA     Thailand      Asia     1.18              1622.0    4.112436e+08   \n",
       "BLZ       Belize  Americas     1.08              1705.0    1.749727e+07   \n",
       "GTM    Guatemala  Americas     1.05              1996.0    8.732079e+07   \n",
       "COL     Colombia  Americas     0.89              3240.0    9.094070e+08   \n",
       "CUB         Cuba  Americas     1.12              1335.0    8.858498e+07   \n",
       "BTN       Bhutan      Asia     1.05              2200.0    3.101037e+07   \n",
       "SLV  El Salvador  Americas     1.03              1784.0    1.633818e+07   \n",
       "PRY     Paraguay  Americas     0.99              1130.0    3.196693e+08   \n",
       "\n",
       "     spal_plocha_ha  zlomek_spaleno  hdp_per_capita_dolary  hdp_uroven  \n",
       "iso                                                                     \n",
       "THA      3756909.35        0.009135            7186.874092           3  \n",
       "BLZ        47339.90        0.002706            4115.177008           3  \n",
       "GTM       377429.44        0.004322            4603.339617           3  \n",
       "COL      2841056.56        0.003124            5334.556042           3  \n",
       "CUB       552423.82        0.006236            9477.852873           3  \n",
       "BTN        32671.79        0.001054            3000.779327           3  \n",
       "SLV        58169.04        0.003560            3798.636521           3  \n",
       "PRY       937657.83        0.002933            5001.072760           3  "
      ]
     },
     "execution_count": 60,
     "metadata": {},
     "output_type": "execute_result"
    }
   ],
   "source": [
    "# metoda .loc \n"
   ]
  },
  {
   "cell_type": "code",
   "execution_count": 61,
   "metadata": {},
   "outputs": [
    {
     "data": {
      "image/png": "[encoded data removed]",
      "text/plain": [
       "<Figure size 576x432 with 1 Axes>"
      ]
     },
     "metadata": {},
     "output_type": "display_data"
    }
   ],
   "source": [
    "\n",
    "plt.title('Požáry pro státy urovně 3', fontsize=16)\n",
    "plt.show()"
   ]
  },
  {
   "cell_type": "markdown",
   "metadata": {},
   "source": [
    "# Závěr pro úroveň 3:\n",
    "* Nízké srážky vyřadily pouze Mexiko.\n",
    "* OSN ambasador by se mohl blíže zaměřit na těchto 7 států."
   ]
  },
  {
   "cell_type": "markdown",
   "metadata": {},
   "source": [
    "# Analýza požárů pro státy úrovně 4"
   ]
  },
  {
   "cell_type": "code",
   "execution_count": 62,
   "metadata": {},
   "outputs": [],
   "source": [
    "# vyberte státy úrovně 4\n",
    "df_l4 = "
   ]
  },
  {
   "cell_type": "code",
   "execution_count": 63,
   "metadata": {},
   "outputs": [],
   "source": [
    "# určení států s velkými spáleništi\n",
    "velky_spal_limit = \n",
    "velky_spal_df = \n",
    "mnoz_velky_spal = "
   ]
  },
  {
   "cell_type": "code",
   "execution_count": 64,
   "metadata": {},
   "outputs": [],
   "source": [
    "# Státy, které netrpí přílišným nárůstem teploty\n",
    "zmena_t_limit = \n",
    "ne_velka_zmena_t_df =  # opačné znamínko \n",
    "mnoz_ne_velka_zmena_t = "
   ]
  },
  {
   "cell_type": "code",
   "execution_count": 65,
   "metadata": {},
   "outputs": [],
   "source": [
    "# Státy s ne příliš nízkými srážkami\n",
    "srazky_limit = \n",
    "ne_nizke_srazky_df = \n",
    "mnoz_ne_nizke_srazky = "
   ]
  },
  {
   "cell_type": "code",
   "execution_count": 66,
   "metadata": {},
   "outputs": [],
   "source": [
    "prunik2 = "
   ]
  },
  {
   "cell_type": "code",
   "execution_count": 67,
   "metadata": {},
   "outputs": [
    {
     "data": {
      "text/html": [
       "<div>\n",
       "<style scoped>\n",
       "    .dataframe tbody tr th:only-of-type {\n",
       "        vertical-align: middle;\n",
       "    }\n",
       "\n",
       "    .dataframe tbody tr th {\n",
       "        vertical-align: top;\n",
       "    }\n",
       "\n",
       "    .dataframe thead th {\n",
       "        text-align: right;\n",
       "    }\n",
       "</style>\n",
       "<table border=\"1\" class=\"dataframe\">\n",
       "  <thead>\n",
       "    <tr style=\"text-align: right;\">\n",
       "      <th></th>\n",
       "      <th>Stat</th>\n",
       "      <th>Region</th>\n",
       "      <th>zmena_t</th>\n",
       "      <th>prum_srazky_mm_rok</th>\n",
       "      <th>plocha_lesa_ha</th>\n",
       "      <th>spal_plocha_ha</th>\n",
       "      <th>zlomek_spaleno</th>\n",
       "      <th>hdp_per_capita_dolary</th>\n",
       "      <th>hdp_uroven</th>\n",
       "    </tr>\n",
       "    <tr>\n",
       "      <th>iso</th>\n",
       "      <th></th>\n",
       "      <th></th>\n",
       "      <th></th>\n",
       "      <th></th>\n",
       "      <th></th>\n",
       "      <th></th>\n",
       "      <th></th>\n",
       "      <th></th>\n",
       "      <th></th>\n",
       "    </tr>\n",
       "  </thead>\n",
       "  <tbody>\n",
       "    <tr>\n",
       "      <th>JPN</th>\n",
       "      <td>Japan</td>\n",
       "      <td>Asia</td>\n",
       "      <td>0.89</td>\n",
       "      <td>1668.0</td>\n",
       "      <td>2.979226e+08</td>\n",
       "      <td>84111.65</td>\n",
       "      <td>0.000282</td>\n",
       "      <td>40193.252445</td>\n",
       "      <td>4</td>\n",
       "    </tr>\n",
       "    <tr>\n",
       "      <th>CHL</th>\n",
       "      <td>Chile</td>\n",
       "      <td>Americas</td>\n",
       "      <td>0.56</td>\n",
       "      <td>1522.0</td>\n",
       "      <td>6.058823e+08</td>\n",
       "      <td>247340.21</td>\n",
       "      <td>0.000408</td>\n",
       "      <td>13231.704207</td>\n",
       "      <td>4</td>\n",
       "    </tr>\n",
       "    <tr>\n",
       "      <th>AUS</th>\n",
       "      <td>Australia</td>\n",
       "      <td>Oceania</td>\n",
       "      <td>1.11</td>\n",
       "      <td>534.0</td>\n",
       "      <td>6.150331e+09</td>\n",
       "      <td>6922165.61</td>\n",
       "      <td>0.001125</td>\n",
       "      <td>51692.842748</td>\n",
       "      <td>4</td>\n",
       "    </tr>\n",
       "    <tr>\n",
       "      <th>PAN</th>\n",
       "      <td>Panama</td>\n",
       "      <td>Americas</td>\n",
       "      <td>0.88</td>\n",
       "      <td>2928.0</td>\n",
       "      <td>6.008336e+07</td>\n",
       "      <td>164219.79</td>\n",
       "      <td>0.002733</td>\n",
       "      <td>12509.835290</td>\n",
       "      <td>4</td>\n",
       "    </tr>\n",
       "    <tr>\n",
       "      <th>CRI</th>\n",
       "      <td>Costa Rica</td>\n",
       "      <td>Americas</td>\n",
       "      <td>0.93</td>\n",
       "      <td>2926.0</td>\n",
       "      <td>4.094133e+07</td>\n",
       "      <td>138181.27</td>\n",
       "      <td>0.003375</td>\n",
       "      <td>12140.854155</td>\n",
       "      <td>4</td>\n",
       "    </tr>\n",
       "    <tr>\n",
       "      <th>TTO</th>\n",
       "      <td>Trinidad and Tobago</td>\n",
       "      <td>Americas</td>\n",
       "      <td>0.74</td>\n",
       "      <td>2200.0</td>\n",
       "      <td>4.127197e+06</td>\n",
       "      <td>2488.69</td>\n",
       "      <td>0.000603</td>\n",
       "      <td>15425.635109</td>\n",
       "      <td>4</td>\n",
       "    </tr>\n",
       "  </tbody>\n",
       "</table>\n",
       "</div>"
      ],
      "text/plain": [
       "                    Stat    Region  zmena_t  prum_srazky_mm_rok  \\\n",
       "iso                                                               \n",
       "JPN                Japan      Asia     0.89              1668.0   \n",
       "CHL                Chile  Americas     0.56              1522.0   \n",
       "AUS            Australia   Oceania     1.11               534.0   \n",
       "PAN               Panama  Americas     0.88              2928.0   \n",
       "CRI           Costa Rica  Americas     0.93              2926.0   \n",
       "TTO  Trinidad and Tobago  Americas     0.74              2200.0   \n",
       "\n",
       "     plocha_lesa_ha  spal_plocha_ha  zlomek_spaleno  hdp_per_capita_dolary  \\\n",
       "iso                                                                          \n",
       "JPN    2.979226e+08        84111.65        0.000282           40193.252445   \n",
       "CHL    6.058823e+08       247340.21        0.000408           13231.704207   \n",
       "AUS    6.150331e+09      6922165.61        0.001125           51692.842748   \n",
       "PAN    6.008336e+07       164219.79        0.002733           12509.835290   \n",
       "CRI    4.094133e+07       138181.27        0.003375           12140.854155   \n",
       "TTO    4.127197e+06         2488.69        0.000603           15425.635109   \n",
       "\n",
       "     hdp_uroven  \n",
       "iso              \n",
       "JPN           4  \n",
       "CHL           4  \n",
       "AUS           4  \n",
       "PAN           4  \n",
       "CRI           4  \n",
       "TTO           4  "
      ]
     },
     "execution_count": 67,
     "metadata": {},
     "output_type": "execute_result"
    }
   ],
   "source": [
    "# metoda .loc \n"
   ]
  },
  {
   "cell_type": "code",
   "execution_count": 68,
   "metadata": {},
   "outputs": [],
   "source": [
    "prunik3 = "
   ]
  },
  {
   "cell_type": "code",
   "execution_count": 69,
   "metadata": {},
   "outputs": [
    {
     "data": {
      "text/html": [
       "<div>\n",
       "<style scoped>\n",
       "    .dataframe tbody tr th:only-of-type {\n",
       "        vertical-align: middle;\n",
       "    }\n",
       "\n",
       "    .dataframe tbody tr th {\n",
       "        vertical-align: top;\n",
       "    }\n",
       "\n",
       "    .dataframe thead th {\n",
       "        text-align: right;\n",
       "    }\n",
       "</style>\n",
       "<table border=\"1\" class=\"dataframe\">\n",
       "  <thead>\n",
       "    <tr style=\"text-align: right;\">\n",
       "      <th></th>\n",
       "      <th>Stat</th>\n",
       "      <th>Region</th>\n",
       "      <th>zmena_t</th>\n",
       "      <th>prum_srazky_mm_rok</th>\n",
       "      <th>plocha_lesa_ha</th>\n",
       "      <th>spal_plocha_ha</th>\n",
       "      <th>zlomek_spaleno</th>\n",
       "      <th>hdp_per_capita_dolary</th>\n",
       "      <th>hdp_uroven</th>\n",
       "    </tr>\n",
       "    <tr>\n",
       "      <th>iso</th>\n",
       "      <th></th>\n",
       "      <th></th>\n",
       "      <th></th>\n",
       "      <th></th>\n",
       "      <th></th>\n",
       "      <th></th>\n",
       "      <th></th>\n",
       "      <th></th>\n",
       "      <th></th>\n",
       "    </tr>\n",
       "  </thead>\n",
       "  <tbody>\n",
       "    <tr>\n",
       "      <th>CHL</th>\n",
       "      <td>Chile</td>\n",
       "      <td>Americas</td>\n",
       "      <td>0.56</td>\n",
       "      <td>1522.0</td>\n",
       "      <td>6.058823e+08</td>\n",
       "      <td>247340.21</td>\n",
       "      <td>0.000408</td>\n",
       "      <td>13231.704207</td>\n",
       "      <td>4</td>\n",
       "    </tr>\n",
       "    <tr>\n",
       "      <th>JPN</th>\n",
       "      <td>Japan</td>\n",
       "      <td>Asia</td>\n",
       "      <td>0.89</td>\n",
       "      <td>1668.0</td>\n",
       "      <td>2.979226e+08</td>\n",
       "      <td>84111.65</td>\n",
       "      <td>0.000282</td>\n",
       "      <td>40193.252445</td>\n",
       "      <td>4</td>\n",
       "    </tr>\n",
       "    <tr>\n",
       "      <th>PAN</th>\n",
       "      <td>Panama</td>\n",
       "      <td>Americas</td>\n",
       "      <td>0.88</td>\n",
       "      <td>2928.0</td>\n",
       "      <td>6.008336e+07</td>\n",
       "      <td>164219.79</td>\n",
       "      <td>0.002733</td>\n",
       "      <td>12509.835290</td>\n",
       "      <td>4</td>\n",
       "    </tr>\n",
       "    <tr>\n",
       "      <th>CRI</th>\n",
       "      <td>Costa Rica</td>\n",
       "      <td>Americas</td>\n",
       "      <td>0.93</td>\n",
       "      <td>2926.0</td>\n",
       "      <td>4.094133e+07</td>\n",
       "      <td>138181.27</td>\n",
       "      <td>0.003375</td>\n",
       "      <td>12140.854155</td>\n",
       "      <td>4</td>\n",
       "    </tr>\n",
       "    <tr>\n",
       "      <th>TTO</th>\n",
       "      <td>Trinidad and Tobago</td>\n",
       "      <td>Americas</td>\n",
       "      <td>0.74</td>\n",
       "      <td>2200.0</td>\n",
       "      <td>4.127197e+06</td>\n",
       "      <td>2488.69</td>\n",
       "      <td>0.000603</td>\n",
       "      <td>15425.635109</td>\n",
       "      <td>4</td>\n",
       "    </tr>\n",
       "  </tbody>\n",
       "</table>\n",
       "</div>"
      ],
      "text/plain": [
       "                    Stat    Region  zmena_t  prum_srazky_mm_rok  \\\n",
       "iso                                                               \n",
       "CHL                Chile  Americas     0.56              1522.0   \n",
       "JPN                Japan      Asia     0.89              1668.0   \n",
       "PAN               Panama  Americas     0.88              2928.0   \n",
       "CRI           Costa Rica  Americas     0.93              2926.0   \n",
       "TTO  Trinidad and Tobago  Americas     0.74              2200.0   \n",
       "\n",
       "     plocha_lesa_ha  spal_plocha_ha  zlomek_spaleno  hdp_per_capita_dolary  \\\n",
       "iso                                                                          \n",
       "CHL    6.058823e+08       247340.21        0.000408           13231.704207   \n",
       "JPN    2.979226e+08        84111.65        0.000282           40193.252445   \n",
       "PAN    6.008336e+07       164219.79        0.002733           12509.835290   \n",
       "CRI    4.094133e+07       138181.27        0.003375           12140.854155   \n",
       "TTO    4.127197e+06         2488.69        0.000603           15425.635109   \n",
       "\n",
       "     hdp_uroven  \n",
       "iso              \n",
       "CHL           4  \n",
       "JPN           4  \n",
       "PAN           4  \n",
       "CRI           4  \n",
       "TTO           4  "
      ]
     },
     "execution_count": 69,
     "metadata": {},
     "output_type": "execute_result"
    }
   ],
   "source": [
    "# metoda .loc \n"
   ]
  },
  {
   "cell_type": "code",
   "execution_count": 70,
   "metadata": {},
   "outputs": [
    {
     "data": {
      "image/png": "[encoded data removed]",
      "text/plain": [
       "<Figure size 576x432 with 1 Axes>"
      ]
     },
     "metadata": {},
     "output_type": "display_data"
    }
   ],
   "source": [
    "\n",
    "plt.title('Požáry pro státy urovně 4', fontsize=16)\n",
    "plt.show()"
   ]
  },
  {
   "cell_type": "markdown",
   "metadata": {},
   "source": [
    "# Závěr pro úroveň 4:\n",
    "* Střední Amerika se zdá může vylepšit svou situaci s lesními požáry.\n",
    "* Nebo se jedná o něco specifického pro daný region?\n",
    "* Netroufám si odpovědět, dejte mi vědět vaše nápady."
   ]
  },
  {
   "cell_type": "markdown",
   "metadata": {},
   "source": [
    "# Závěr:\n",
    "* Vyzkoušeli jste si v tomto cvičení mnoho, zejména užitečnost modulu pandas a DataFramů při práci s tabulkovými daty.\n",
    "* A to vše s daty z reálného světa, které jsme nakombinovaly z různých zdrojů.\n",
    "* Jako život sám, je tato úloha otevřená, nemá jasnou odpověď a mnohé se dá vylepšit. Pokud máte nápady, kam tuto metodu posunout, dotoho, můžete zachránit životy. \n",
    "\n",
    "---\n",
    "---\n",
    "\n",
    "## Otázky k zamyšlení:\n",
    "1. Kromě průniku tří množin vidíte na grafech mnoho dalších podmonožin. Ty se dají také určit pomocí kombinací metod `union()` a `intersection()`. Co logicky znamenají a mohou ambasadorovi být k něčemu užitečné?\n",
    "2. Jak už jsme zmínili, naše data jsou neúplná. Jak důležité pro spravedlivý rozvoj světa je zohledňovat v takovýchto analýzách všechny obyvatele světa? Děje se to?\n",
    "3. V programování definujeme funkce, kdykoli se nám nějaký kód často opakuje. Dokážeš určit, které části projektu by se dali strčit do funkcí?\n",
    "4. Použití Pythonovských množin a metod `union()` a `intersection()` není jedinou možností. Dokázal bys použít výhradně metod `pandas` k získání našich průniků? Návod v angličtině je [zde](https://pandas.pydata.org/pandas-docs/stable/user_guide/index.html).\n",
    "5. Zkuste použít metodu `describe()` na jeden z nšich DataFramů. Pokuste se porozumět co jednotlivé hodnoty znamenají a jestli některé nesouvisí s kvantily?\n",
    "\n",
    "# Dobrá práce!!!"
   ]
  },
  {
   "cell_type": "code",
   "execution_count": null,
   "metadata": {},
   "outputs": [],
   "source": []
  }
 ],
 "metadata": {
  "kernelspec": {
   "display_name": "pymarad",
   "language": "python",
   "name": "pymarad"
  },
  "language_info": {
   "codemirror_mode": {
    "name": "ipython",
    "version": 3
   },
   "file_extension": ".py",
   "mimetype": "text/x-python",
   "name": "python",
   "nbconvert_exporter": "python",
   "pygments_lexer": "ipython3",
   "version": "3.7.1"
  }
 },
 "nbformat": 4,
 "nbformat_minor": 4
}
