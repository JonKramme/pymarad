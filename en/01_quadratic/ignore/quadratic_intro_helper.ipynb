{
 "cells": [
  {
   "cell_type": "markdown",
   "metadata": {},
   "source": [
    "Hi pymaradians.\n",
    "\n",
    "Welcome to a notebook tackling basic properties of quadratic function, sith a help of python\n",
    "\n",
    "I have already opened an empty NB.\n",
    "\n",
    "if it is one of your first ones, do not worry that you wont understand everything\n",
    "\n",
    "Remeber that all what I do here plus extra tips is available via link in the description \n",
    "\n",
    "where everything is well commented\n",
    "\n",
    "and you can study/run/modify all the codes at your own pace.\n",
    "\n",
    "Lets do it\n",
    "\n",
    "First we always need to import modules we are going to use on top of the core python"
   ]
  },
  {
   "cell_type": "code",
   "execution_count": 1,
   "metadata": {},
   "outputs": [],
   "source": [
    "# We are going to use numerical python, numpy \n",
    "\n",
    "# and we are also going to plot graphs, using module matplotlib, and its subpart, pyplot\n",
    "\n",
    "# saying is means that we will be calling functions using this shortcut, here plt.\n",
    "import numpy as np\n",
    "import matplotlib.pyplot as plt\n",
    "\n",
    "# shift enter to run the cell, after which a number of execution is shown on the left."
   ]
  },
  {
   "cell_type": "markdown",
   "metadata": {},
   "source": [
    "Now lets define the x axis\n",
    "\n",
    "We want equally distributed points, which can be done with function linspace\n",
    "\n",
    "And parameters are start point, end point and third parameter is number of points, we do 101"
   ]
  },
  {
   "cell_type": "code",
   "execution_count": 2,
   "metadata": {},
   "outputs": [],
   "source": [
    "x = np.linspace(-5, 5, 101)"
   ]
  },
  {
   "cell_type": "markdown",
   "metadata": {},
   "source": [
    "following the prescription we canculate functional values fy\n",
    "\n",
    "fy equals a multiplied (in python with asterisx), an now we need a power of 2, for which python uses **\n",
    "\n",
    "and adding linear term and a constant c\n",
    "\n",
    "now we need parameters of quadr eq, a, b, c"
   ]
  },
  {
   "cell_type": "code",
   "execution_count": 4,
   "metadata": {},
   "outputs": [],
   "source": [
    "a = 2\n",
    "b = -5\n",
    "c = 1\n",
    "\n",
    "fy = a*x**2 + b*x + c"
   ]
  },
  {
   "cell_type": "markdown",
   "metadata": {},
   "source": [
    "with 101 x values, question is how our fy actually looks like\n",
    "\n",
    "We can check type of fy\n",
    "\n",
    "which returns array of numpy, therefore potentially more values."
   ]
  },
  {
   "cell_type": "code",
   "execution_count": 5,
   "metadata": {},
   "outputs": [
    {
     "data": {
      "text/plain": [
       "numpy.ndarray"
      ]
     },
     "execution_count": 5,
     "metadata": {},
     "output_type": "execute_result"
    }
   ],
   "source": [
    "type(fy)"
   ]
  },
  {
   "cell_type": "markdown",
   "metadata": {},
   "source": [
    "How many values there are, use function length len()"
   ]
  },
  {
   "cell_type": "code",
   "execution_count": 6,
   "metadata": {},
   "outputs": [
    {
     "data": {
      "text/plain": [
       "101"
      ]
     },
     "execution_count": 6,
     "metadata": {},
     "output_type": "execute_result"
    }
   ],
   "source": [
    "len(fy)"
   ]
  },
  {
   "cell_type": "markdown",
   "metadata": {},
   "source": [
    "And we see that they are really 101.\n",
    "\n",
    "To show few values of the array, we can use indexing (big topic by itself) \n",
    "\n",
    "but basic is that indexing uses []\n",
    "\n",
    "FOr the first 5 values we do "
   ]
  },
  {
   "cell_type": "code",
   "execution_count": 7,
   "metadata": {},
   "outputs": [
    {
     "data": {
      "text/plain": [
       "array([76.  , 73.52, 71.08, 68.68, 66.32])"
      ]
     },
     "execution_count": 7,
     "metadata": {},
     "output_type": "execute_result"
    }
   ],
   "source": [
    "fy[:5]"
   ]
  },
  {
   "cell_type": "markdown",
   "metadata": {},
   "source": [
    "Now we just need to plot our function\n",
    "\n",
    "from plt module, we use function plot, which takes parameters of x point, y points\n",
    "\n",
    "and additionally we increase the linewidth\n",
    "\n",
    "result is a parabola, good\n",
    "\n",
    "Lets improve the graph with x and y axes\n",
    "\n",
    "X axis is a horizontal line, finction hline, which goes through y=0\n",
    "\n",
    "Similarly, with y axis which is a vertical line vline"
   ]
  },
  {
   "cell_type": "code",
   "execution_count": 24,
   "metadata": {},
   "outputs": [
    {
     "data": {
      "text/plain": [
       "<matplotlib.lines.Line2D at 0x2e94c0ecdc8>"
      ]
     },
     "execution_count": 24,
     "metadata": {},
     "output_type": "execute_result"
    },
    {
     "data": {
      "image/png": "[encoded data removed]",
      "text/plain": [
       "<Figure size 360x216 with 1 Axes>"
      ]
     },
     "metadata": {
      "needs_background": "light"
     },
     "output_type": "display_data"
    }
   ],
   "source": [
    "fig, ax = plt.subplots(figsize=(5,3))\n",
    "plt.plot(x, fy, lw=3)\n",
    "\n",
    "\n",
    "plt.axhline(0, color='black', lw=0.5)\n",
    "plt.axvline(0, color='k', lw=0.5)"
   ]
  },
  {
   "cell_type": "markdown",
   "metadata": {},
   "source": [
    "Graph looks better, lets calculate apex of this parabola\n",
    "\n",
    "x coord will be x_apex and you might remember that it is calculated as\n",
    "\n",
    "Careful on the parenthesis, in order to divide by 2a.\n",
    "\n",
    "we calculate the functional value of fy_apex the same way as above\n",
    "\n",
    "only this time, the input x value is not all 101 points, but just the x_apex"
   ]
  },
  {
   "cell_type": "code",
   "execution_count": 9,
   "metadata": {},
   "outputs": [],
   "source": [
    "x_apex = -b/(2*a)\n",
    "\n",
    "fy_apex = a*x_apex**2 + b*x_apex + c"
   ]
  },
  {
   "cell_type": "markdown",
   "metadata": {},
   "source": [
    "To the original plot we add the apex\n",
    "\n",
    "we said plot takes x and y points as parameters, which is exactly what we have just calculated."
   ]
  },
  {
   "cell_type": "code",
   "execution_count": 25,
   "metadata": {},
   "outputs": [
    {
     "data": {
      "image/png": "[encoded data removed]",
      "text/plain": [
       "<Figure size 360x216 with 1 Axes>"
      ]
     },
     "metadata": {
      "needs_background": "light"
     },
     "output_type": "display_data"
    }
   ],
   "source": [
    "fig = plt.figure(figsize=(5,3))\n",
    "plt.plot(x, fy, lw=3)\n",
    "plt.plot(x_apex, fy_apex, 'ro', ms=10) # 'r' plots in red and 'o' means circular marker.\n",
    "\n",
    "plt.xlim([-1, 4])\n",
    "plt.ylim([-2.5,4])\n",
    "plt.show()"
   ]
  },
  {
   "cell_type": "markdown",
   "metadata": {},
   "source": [
    "Now intercepts with the x axis\n",
    "\n",
    "Which is the same as solving quadr. equation with the right side =0\n",
    "\n",
    "Not every quadr. function intercept x axis\n",
    "\n",
    "Depending on value of so called determinant, it can have 0, 1 or 2 intercepts."
   ]
  },
  {
   "cell_type": "code",
   "execution_count": 11,
   "metadata": {},
   "outputs": [],
   "source": [
    "D = b**2-4*a*c"
   ]
  },
  {
   "cell_type": "markdown",
   "metadata": {},
   "source": [
    "we display the value of the determinant with print function\n",
    "\n",
    "Since we want to print the value stored in the variable D, we input D without quotes"
   ]
  },
  {
   "cell_type": "code",
   "execution_count": 12,
   "metadata": {},
   "outputs": [
    {
     "name": "stdout",
     "output_type": "stream",
     "text": [
      "17\n"
     ]
    }
   ],
   "source": [
    "print(D)"
   ]
  },
  {
   "cell_type": "markdown",
   "metadata": {},
   "source": [
    "If we want to print D as a so called string, we use quotes"
   ]
  },
  {
   "cell_type": "code",
   "execution_count": 13,
   "metadata": {},
   "outputs": [
    {
     "name": "stdout",
     "output_type": "stream",
     "text": [
      "D\n"
     ]
    }
   ],
   "source": [
    "print('D')"
   ]
  },
  {
   "cell_type": "markdown",
   "metadata": {},
   "source": [
    "In the full commented version of this NB, you can find other ways to use print\n",
    "\n",
    "D is positive, so we expect two intercepts.\n",
    "\n",
    "Two solutions can be stored in an array, therefore we write for incept_x (first value\n",
    "\n",
    "and functional values again as above\n",
    "\n",
    "incept_y = "
   ]
  },
  {
   "cell_type": "code",
   "execution_count": 15,
   "metadata": {},
   "outputs": [],
   "source": [
    "incept_x = np.array([ (-b + np.sqrt(D))/(2*a),\n",
    "                      (-b - np.sqrt(D))/(2*a),\n",
    "                    ])\n",
    "incept_y = a*incept_x**2 + b*incept_x + c"
   ]
  },
  {
   "cell_type": "markdown",
   "metadata": {},
   "source": [
    "Before we plot it all, let's add last important point relevant for parabolas, and that is the focus\n",
    "\n",
    "Focus posesses the same x value as the apex, in other words lays on the axis of the parabola, but it is vertically shifted by 1/4a\n",
    "\n"
   ]
  },
  {
   "cell_type": "code",
   "execution_count": 16,
   "metadata": {},
   "outputs": [],
   "source": [
    "F = [-b/(2*a), (4*a*c-b**2+1)/(4*a)]"
   ]
  },
  {
   "cell_type": "code",
   "execution_count": 17,
   "metadata": {},
   "outputs": [
    {
     "data": {
      "text/plain": [
       "array([2.28077641, 0.21922359])"
      ]
     },
     "execution_count": 17,
     "metadata": {},
     "output_type": "execute_result"
    }
   ],
   "source": [
    "incept_x"
   ]
  },
  {
   "cell_type": "markdown",
   "metadata": {},
   "source": [
    "Finally we plot\n",
    "\n",
    "apex in red\n",
    "\n",
    "intercepts in greed\n",
    "\n",
    "let the focus be black\n",
    "\n",
    "Last thing, all the graphs so far did not have the same scale of the x and y axis, we fix that with a command\n",
    "\n",
    "ax.set_aspect(1)"
   ]
  },
  {
   "cell_type": "code",
   "execution_count": 26,
   "metadata": {},
   "outputs": [
    {
     "data": {
      "image/png": "[encoded data removed]",
      "text/plain": [
       "<Figure size 360x216 with 1 Axes>"
      ]
     },
     "metadata": {
      "needs_background": "light"
     },
     "output_type": "display_data"
    }
   ],
   "source": [
    "fig, ax = plt.subplots(figsize=(5,3))\n",
    "ax.set_aspect(1) # set the same aspect ratio for x and y axes\n",
    "plt.plot(x, fy, lw=3)  # parabola\n",
    "plt.plot(x_apex, fy_apex, 'ro', ms=10)  # apex\n",
    "plt.plot(incept_x, incept_y, 'go', ms=10)  # intercepts with x (solution of  quadr. equation with right side = 0)\n",
    "plt.plot(F[0], F[1], 'ko', ms=10)  # focus\n",
    "\n",
    "# add axes\n",
    "plt.axhline(0, color='k', lw=0.5)\n",
    "plt.axvline(0, color='k', lw=0.5)\n",
    "\n",
    "# limit graph range\n",
    "plt.xlim([-0.2,2.7])\n",
    "plt.ylim([-2.5,1])\n",
    "plt.show()"
   ]
  },
  {
   "cell_type": "markdown",
   "metadata": {},
   "source": [
    "At the end, we are going to check whether the intercept values are truly zero"
   ]
  },
  {
   "cell_type": "code",
   "execution_count": 23,
   "metadata": {},
   "outputs": [
    {
     "data": {
      "text/plain": [
       "array([1.77635684e-15, 0.00000000e+00])"
      ]
     },
     "execution_count": 23,
     "metadata": {},
     "output_type": "execute_result"
    }
   ],
   "source": [
    "incept_y"
   ]
  },
  {
   "cell_type": "markdown",
   "metadata": {},
   "source": [
    "One is exactly zero but the other is 10 -15, which is close no doubt\n",
    "\n",
    "With this I want to point out, that real numbers do not have infinite precision in computer representation, and 15 digits is typical. That is of course good enough here, but if we would like to send a rocket to mars, and we will do many calculations with small error, it can result in disaster\n",
    "\n",
    "That's it, check out the exercises to see where is quadratic equation useful.\n",
    "\n",
    "Cheers."
   ]
  },
  {
   "cell_type": "code",
   "execution_count": null,
   "metadata": {},
   "outputs": [],
   "source": []
  }
 ],
 "metadata": {
  "kernelspec": {
   "display_name": "Python 3",
   "language": "python",
   "name": "python3"
  },
  "language_info": {
   "codemirror_mode": {
    "name": "ipython",
    "version": 3
   },
   "file_extension": ".py",
   "mimetype": "text/x-python",
   "name": "python",
   "nbconvert_exporter": "python",
   "pygments_lexer": "ipython3",
   "version": "3.7.6"
  }
 },
 "nbformat": 4,
 "nbformat_minor": 4
}
