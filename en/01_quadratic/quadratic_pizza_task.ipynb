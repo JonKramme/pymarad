{
 "cells": [
  {
   "cell_type": "markdown",
   "metadata": {},
   "source": [
    "# Exercise of buying a pizza\n",
    "* topics: quadratic equation, function definition in python, `fsolve()`\n",
    "\n",
    "## Task\n",
    "* You go for pizza with your friend.\n",
    "* Menu is clear, smaller pizza costs 100, bigger one which has diameter larger by 10cm, costs 200.\n",
    "\n",
    "## Questions\n",
    "* At which diameter d, it pays off to buy 2 smaller pizzas rather than 1 bigger one.\n",
    "* How does the solution change if you do not care about a 1cm dry edge of the pizza?"
   ]
  },
  {
   "cell_type": "markdown",
   "metadata": {},
   "source": [
    "---\n",
    "---\n",
    "# In case this is your first Jupyter Notebook:\n",
    "* Every cell is executed with `Shift-Enter`, once your cursor is in it.\n",
    "* After successul run, a serial number of the execution will appear on the left from the cell\n",
    "* For cell execution and creation of a new cell below, use `Alt-Enter`.\n",
    "* Any text after a # symbol is a comment (to annotate your code) and it is ignored by Python\n",
    "* Caution: If you execute a cell which has a hint in the output, the hint will disappear, therefore it is better to use `Alt-Enter`.\n",
    "---\n",
    "---"
   ]
  },
  {
   "cell_type": "code",
   "execution_count": 1,
   "metadata": {},
   "outputs": [],
   "source": [
    "# import of classical modules as in the introduction\n",
    "import numpy as np\n",
    "import matplotlib.pyplot as plt"
   ]
  },
  {
   "cell_type": "code",
   "execution_count": 2,
   "metadata": {},
   "outputs": [],
   "source": [
    "# advanced feature (save to ignore), which enables to set parameters \n",
    "# for ALL the plots in the notebook at once\n",
    "import matplotlib as mpl\n",
    "mpl.rcParams['figure.figsize'] = [8,6] # graph size\n",
    "mpl.rcParams['lines.linewidth'] = 3  # line width\n",
    "mpl.rcParams['lines.markersize'] = 10  # size of point markers\n",
    "mpl.rcParams['xtick.labelsize'] = 12  # font size of x axis ticks\n",
    "mpl.rcParams['ytick.labelsize'] = 12 # font size of y axis ticks\n",
    "mpl.rcParams['axes.labelsize'] = 'larger'  # font size of the axes labels\n",
    "\n",
    "# uncomment the command below to find out all possible parameters of graph you can change/set.\n",
    "# mpl.rcParams.keys() "
   ]
  },
  {
   "cell_type": "code",
   "execution_count": 3,
   "metadata": {},
   "outputs": [
    {
     "name": "stdout",
     "output_type": "stream",
     "text": [
      "[ 0.   0.5  1.   1.5  2.   2.5  3.   3.5  4.   4.5  5.   5.5  6.   6.5\n",
      "  7.   7.5  8.   8.5  9.   9.5 10.  10.5 11.  11.5 12.  12.5 13.  13.5\n",
      " 14.  14.5 15.  15.5 16.  16.5 17.  17.5 18.  18.5 19.  19.5 20.  20.5\n",
      " 21.  21.5 22.  22.5 23.  23.5 24.  24.5 25.  25.5 26.  26.5 27.  27.5\n",
      " 28.  28.5 29.  29.5 30.  30.5 31.  31.5 32.  32.5 33.  33.5 34.  34.5\n",
      " 35.  35.5 36.  36.5 37.  37.5 38.  38.5 39.  39.5 40.  40.5 41.  41.5\n",
      " 42.  42.5 43.  43.5 44.  44.5 45.  45.5 46.  46.5 47.  47.5 48.  48.5\n",
      " 49.  49.5 50. ]\n"
     ]
    }
   ],
   "source": [
    "# Our variable (x axis) is the pizza diameter (d)\n",
    "# define an array of reasonable d values\n"
   ]
  },
  {
   "cell_type": "markdown",
   "metadata": {},
   "source": [
    "## Condition we are solving for is when area of 2 smaller pizzas is larger than area of 1 bigger pizza. \n",
    "\n",
    "$2S_{small}{\\gt}S_{big}$\n",
    "\n",
    "* Hopefully the pizzas are circular\n",
    "\n",
    "$ 2{\\cdot}\\pi\\left(\\dfrac{d}{2}\\right)^2 \\gt \\pi\\left(\\dfrac{d+10}{2}\\right)^2$\n",
    "\n",
    "After arranging everything on one side, we solve for when the expression is > 0\n",
    "* Note that $\\pi$ in Python is written as np.pi"
   ]
  },
  {
   "cell_type": "code",
   "execution_count": 4,
   "metadata": {},
   "outputs": [],
   "source": [
    "# Calculate functional values for range of d you picked\n",
    "f = "
   ]
  },
  {
   "cell_type": "code",
   "execution_count": 5,
   "metadata": {},
   "outputs": [
    {
     "data": {
      "image/png": "[encoded data removed]",
      "text/plain": [
       "<Figure size 576x432 with 1 Axes>"
      ]
     },
     "metadata": {
      "needs_background": "light"
     },
     "output_type": "display_data"
    }
   ],
   "source": [
    "# Plot the function, together with x axis as below\n",
    "\n",
    "plt.xlabel('Pizza diameter, d [cm]')\n",
    "plt.ylabel('Area difference (2 smaller - 1 bigger) [cm2]')\n",
    "plt.show()"
   ]
  },
  {
   "cell_type": "markdown",
   "metadata": {},
   "source": [
    "### From ~23cm of diameter, it always pays off to buy 2 smaller pizzas.\n",
    "---"
   ]
  },
  {
   "cell_type": "markdown",
   "metadata": {},
   "source": [
    "## Let's calculate the intercept exactly. We have at least two options:\n",
    "1. In the quadratic function intro, we have a method in case we know parameters `a,b,c`, therefore we would need to rearrange our expression on paper first.\n",
    "2. That is not practical for more complicated expressions, therefore Python has a function `fsolve()`\n",
    "* `fsolve()` solves equations numerically, using certain algorithm in a loop approaching progressively the correct solution."
   ]
  },
  {
   "cell_type": "code",
   "execution_count": 6,
   "metadata": {},
   "outputs": [],
   "source": [
    "# For using fsolve, we need to import it from scipy.optimize module\n",
    "from scipy.optimize import fsolve"
   ]
  },
  {
   "cell_type": "code",
   "execution_count": 7,
   "metadata": {},
   "outputs": [],
   "source": [
    "## Into fsolve, we need to pass a function of some variable/variables\n",
    "## We can do that in the following way:\n",
    "# we define (def) function which calculates area difference (what we plot on y axis) based on input d\n",
    "def area_diff(d):  # area_diff is only dependent on d\n",
    "    # fill in the expression for area difference\n",
    "    diff = \n",
    "    return diff"
   ]
  },
  {
   "cell_type": "code",
   "execution_count": 16,
   "metadata": {},
   "outputs": [
    {
     "data": {
      "text/plain": [
       "-157.07963267948966"
      ]
     },
     "execution_count": 16,
     "metadata": {},
     "output_type": "execute_result"
    }
   ],
   "source": [
    "# test the function for d=10\n"
   ]
  },
  {
   "cell_type": "markdown",
   "metadata": {},
   "source": [
    "This means that for diameter of 10cm, area of 2 smaller pizzas is smaller by $157\\,cm^2$ than 1 larger.\n",
    "\n",
    "---\n",
    "\n",
    "## Try different inputs of d on your own\n",
    " * By trial you can find out, when the difference will become positive.\n",
    " * And that is the moment when you want to buy 2 smaller pizzas instead of two smaller ones."
   ]
  },
  {
   "cell_type": "code",
   "execution_count": 8,
   "metadata": {},
   "outputs": [
    {
     "ename": "TypeError",
     "evalue": "fsolve() missing 1 required positional argument: 'x0'",
     "output_type": "error",
     "traceback": [
      "\u001b[1;31m---------------------------------------------------------------------------\u001b[0m",
      "\u001b[1;31mTypeError\u001b[0m                                 Traceback (most recent call last)",
      "\u001b[1;32m<ipython-input-8-ca902aae6796>\u001b[0m in \u001b[0;36m<module>\u001b[1;34m\u001b[0m\n\u001b[0;32m      1\u001b[0m \u001b[1;31m# Let's use FSOLVE by inputing our area_diff to find exact solution.\u001b[0m\u001b[1;33m\u001b[0m\u001b[1;33m\u001b[0m\u001b[1;33m\u001b[0m\u001b[0m\n\u001b[1;32m----> 2\u001b[1;33m \u001b[0mfsolve\u001b[0m\u001b[1;33m(\u001b[0m\u001b[0marea_diff\u001b[0m\u001b[1;33m)\u001b[0m\u001b[1;33m\u001b[0m\u001b[1;33m\u001b[0m\u001b[0m\n\u001b[0m",
      "\u001b[1;31mTypeError\u001b[0m: fsolve() missing 1 required positional argument: 'x0'"
     ]
    }
   ],
   "source": [
    "# Let's use FSOLVE by inputing our area_diff to find exact solution.\n",
    "fsolve(area_diff)"
   ]
  },
  {
   "cell_type": "code",
   "execution_count": 18,
   "metadata": {},
   "outputs": [
    {
     "data": {
      "text/plain": [
       "array([24.14213562])"
      ]
     },
     "execution_count": 18,
     "metadata": {},
     "output_type": "execute_result"
    }
   ],
   "source": [
    "## What does this error mean?\n",
    "# FSOLVE needs one required argument x0: which is our first estimate of a solution.\n",
    "# writing fsolve and pressing Shift-Tab, all arguments of the FSOLVE function should show up\n",
    "# try fsolve again and better\n"
   ]
  },
  {
   "cell_type": "markdown",
   "metadata": {},
   "source": [
    "# FSOLVE is mighty instrument\n",
    "* Works on any type of equation, not only quadratic\n",
    "* Solves system of equations too\n",
    "\n",
    "## Unfortunately we cannot blindly trust every return (try yourselves):\n",
    "* if your initial guess `x0` is close to the first intercept, `fsolve` will return the second root of the quadratic equation, which is illogical (negative pizza diameter) for our purposes.\n",
    "* If `x0` is close to the APEX of the parabola (`x0=10`), `fsolve()` will be confused whether to go right or left and ultimately is going to fail.\n",
    "* If you are reasonably close with your `x0`, you are safe.\n",
    "---"
   ]
  },
  {
   "cell_type": "markdown",
   "metadata": {},
   "source": [
    "## If you are hungry by now, good job and good apetite. If not, try to extend your solution by considering the dry edge of a pizza...\n",
    "\n",
    "* What if you do not care about the dry edge of the pizza, so that you want to discard it from your calculations?\n",
    "* How is it going to affect your decisions about 2 vs 1 pizzas?"
   ]
  },
  {
   "cell_type": "code",
   "execution_count": 9,
   "metadata": {},
   "outputs": [],
   "source": [
    "# The easiest way is to adapt our already written functions for area difference.\n",
    "# We do it by adding one free parameter which value stands from thickness of the edge\n",
    "def area_diff(d, edge=0): # edge=0, if we do not provide edge parameter to the function, Python will use predefined value of 0 set by a smart programmer.\n",
    "    # fill in the expression for area difference, now dependent on edge as well\n",
    "    diff = \n",
    "    return diff"
   ]
  },
  {
   "cell_type": "code",
   "execution_count": 24,
   "metadata": {},
   "outputs": [
    {
     "data": {
      "text/plain": [
       "array([26.14213562])"
      ]
     },
     "execution_count": 24,
     "metadata": {},
     "output_type": "execute_result"
    }
   ],
   "source": [
    "# Repeat fsolve(), we pass edge parameter as args=1\n"
   ]
  },
  {
   "cell_type": "code",
   "execution_count": 10,
   "metadata": {},
   "outputs": [
    {
     "data": {
      "image/png": "[encoded data removed]",
      "text/plain": [
       "<Figure size 576x432 with 1 Axes>"
      ]
     },
     "metadata": {
      "needs_background": "light"
     },
     "output_type": "display_data"
    }
   ],
   "source": [
    "# Plot both graphs, the original and the one with the edge discarded\n",
    "\n",
    "plt.axhline(0, color='k', lw=0.5)\n",
    "plt.axvline(0, color='k', lw=0.5)\n",
    "plt.xlabel('Pizza diameter, d [cm]')\n",
    "plt.ylabel('Area difference (2 smaller - 1 bigger) [cm2]')\n",
    "plt.legend()\n",
    "plt.show()"
   ]
  },
  {
   "cell_type": "markdown",
   "metadata": {},
   "source": [
    "## Food for thought:\n",
    "1. Is it correct that the curves for d < 10 is increasing? How do you explain that?\n",
    "2. Can you adjust the notebook for a case that you go for a pizza in three, to compare 3 vs 1?\n",
    "3. How do you proceed, if the price of two smaller pizzas is not exactly the same as one bigger?\n",
    "----"
   ]
  },
  {
   "cell_type": "markdown",
   "metadata": {},
   "source": [
    "# See you at the solution!!!"
   ]
  },
  {
   "cell_type": "code",
   "execution_count": null,
   "metadata": {},
   "outputs": [],
   "source": []
  }
 ],
 "metadata": {
  "kernelspec": {
   "display_name": "Python 3",
   "language": "python",
   "name": "python3"
  },
  "language_info": {
   "codemirror_mode": {
    "name": "ipython",
    "version": 3
   },
   "file_extension": ".py",
   "mimetype": "text/x-python",
   "name": "python",
   "nbconvert_exporter": "python",
   "pygments_lexer": "ipython3",
   "version": "3.7.6"
  }
 },
 "nbformat": 4,
 "nbformat_minor": 4
}
