{
 "cells": [
  {
   "cell_type": "markdown",
   "metadata": {},
   "source": [
    "## Burning forests exercise\n",
    "* Imagine you are the UN ambassador for climate change.\n",
    "* It is pretty hard position since you cannot really do anything about the climate change.\n",
    "* Which is claimed by scientist to be responsible for the more extreme weather patters.\n",
    "* One of your goals is to find low hanging fruits in combating climate change.\n",
    "* One immediate problem is the uprise intense fires all over the world.\n",
    "* So you got an idea. Some part of the fires are clearly caused by arsonist.\n",
    "* Instead of climate change, you could maybe identify countries which are 'soft' on arson related crimes\n",
    "* If you then push them to change it (which would be cheap), you could save lots of CO2 emission, lives and money."
   ]
  },
  {
   "cell_type": "markdown",
   "metadata": {},
   "source": [
    "## In this exercise you will try to identify countries which might be potentially soft on arson crime."
   ]
  },
  {
   "cell_type": "markdown",
   "metadata": {},
   "source": [
    "---\n",
    "---\n",
    "# In case this is your first Jupyter Notebook:\n",
    "* Every cell is executed after hitting Shift-Enter, once your cursor is in it.\n",
    "* After successul run, a serial number of the execution will appear on the left from the cell\n",
    "* For cell execution and creation of a new cell below, use Alt-Enter.\n",
    "* Any text after a # symbol is so-called comment (to annotate your code) and is ignored by Python\n",
    "* CAUTION: If you execute a cell which has a hint in the output, the hint will disappear, therefore it is better to use Alt-Enter.\n",
    "---\n",
    "---"
   ]
  },
  {
   "cell_type": "code",
   "execution_count": 1,
   "metadata": {},
   "outputs": [],
   "source": [
    "# imports of modules we need\n",
    "import pandas as pd  # probably the most used module for data science working with lots of data organized in tables\n",
    "import wbgapi as wb  # module which allows to download and import data from the World Bank using its API\n",
    "\n",
    "import matplotlib.pyplot as plt  # Standard plotting module\n",
    "from matplotlib_venn import venn2, venn3  # specific module for plotting venn diagrams"
   ]
  },
  {
   "cell_type": "markdown",
   "metadata": {},
   "source": [
    "## Sidenote:\n",
    "* In these types of tasks, collecting correct and reliable data is a time and effort demanding work.\n",
    "* We can never be sure that our data is 100% correct.\n",
    "* Besides, some data are missing (which we did not tackle properly here), how important do you think it is for our world to flourish to have all the data for all the countries available?\n",
    "### These considerations are extremely important, especially with a responsibility and weight of the position of UN ambassador.\n",
    "---"
   ]
  },
  {
   "cell_type": "markdown",
   "metadata": {},
   "source": [
    "## We combined data from various sources:\n",
    "* Scientifically analysed data from MODIS observations serve as resource for:\n",
    "    1. tree cover for every country, just a single number for simplicity (in hectares). \n",
    "    2. Land area burned between years 2012-2020 (I sum all years upto 1 number again, in hectares)"
   ]
  },
  {
   "cell_type": "markdown",
   "metadata": {},
   "source": [
    "# Notes on the data in your table.\n",
    "* Scientifically analysed data from MODIS observations serve as resource for:\n",
    "    1. MODIS stands for Moderate Resolution Imaging Spectroradiometer (on-board on NASA's Terra and Aqua satellites)\n",
    "    2. Available for example from Global Forest Watch ([GFW](https://www.globalforestwatch.org/dashboards/global/?burnedAreaCumulative=eyJzdGFydEluZGV4IjowLCJlbmRJbmRleCI6NTEsInN0YXJ0RGF0ZUFic29sdXRlIjoiMjAyMS0wMS0wNCIsImVuZERhdGVBYnNvbHV0ZSI6IjIwMjEtMTItMjcifQ%3D%3D&burnedAreaRanked=eyJoaWdobGlnaHRlZCI6ZmFsc2V9&category=fires&dashboardPrompts=eyJzaG93UHJvbXB0cyI6dHJ1ZSwicHJvbXB0c1ZpZXdlZCI6WyJ2aWV3TmF0aW9uYWxEYXNoYm9hcmRzIiwiZG93bmxvYWREYXNoYm9hcmRTdGF0cyIsInNoYXJlV2lkZ2V0Iiwid2lkZ2V0U2V0dGluZ3MiXSwic2V0dGluZ3MiOnsic2hvd1Byb21wdHMiOnRydWUsInByb21wdHNWaWV3ZWQiOlsidmlld05hdGlvbmFsRGFzaGJvYXJkcyIsImRvd25sb2FkRGFzaGJvYXJkU3RhdHMiLCJzaGFyZVdpZGdldCJdLCJzZXR0aW5ncyI6eyJzaG93UHJvbXB0cyI6dHJ1ZSwicHJvbXB0c1ZpZXdlZCI6WyJ2aWV3TmF0aW9uYWxEYXNoYm9hcmRzIiwiZG93bmxvYWREYXNoYm9hcmRTdGF0cyIsInNoYXJlV2lkZ2V0Il0sInNldHRpbmdzIjp7InNob3dQcm9tcHRzIjp0cnVlLCJwcm9tcHRzVmlld2VkIjpbInZpZXdOYXRpb25hbERhc2hib2FyZHMiLCJkb3dubG9hZERhc2hib2FyZFN0YXRzIl0sInNldHRpbmdzIjp7Im9wZW4iOmZhbHNlLCJzdGVwSW5kZXgiOjAsInN0ZXBzS2V5IjoiIn0sIm9wZW4iOnRydWUsInN0ZXBJbmRleCI6MCwic3RlcHNLZXkiOiJzaGFyZVdpZGdldCJ9LCJzdGVwc0tleSI6InNoYXJlV2lkZ2V0Iiwic3RlcEluZGV4IjowLCJvcGVuIjpmYWxzZSwiZm9yY2UiOnRydWV9LCJvcGVuIjp0cnVlLCJzdGVwSW5kZXgiOjAsInN0ZXBzS2V5Ijoid2lkZ2V0U2V0dGluZ3MifSwic3RlcHNLZXkiOiJ3aWRnZXRTZXR0aW5ncyIsImZvcmNlIjp0cnVlfQ%3D%3D&fireAlertStats=eyJjb21wYXJlWWVhciI6MjAxM30%3D&gfwfires=true&location=WyJnbG9iYWwiXQ%3D%3D&map=eyJjZW50ZXIiOnsibGF0IjotMTEuMjkwOTMyMzMxMzg1NzksImxuZyI6MTcuOTA4NjI4NDY0OTc4Njk4fSwiem9vbSI6NC42NDA1NTQxNzQ2MjMzNjQ1LCJkYXRhc2V0cyI6W119))\n",
    "    3. Column of 'forest_area_ha' for every country, just a single number (not changing over time) for simplicity (in hectares).\n",
    "    4. Column 'burned_area_ha' of forests burned between years 2012-2020 (I sum all years upto 1 number again, in hectares)\n",
    "* Temperature changes might contribute to the increase fires too, such data are colleted from Food and Agriculture Organization of the United Nations [FAO](http://www.fao.org/faostat/en/#data/ET)\n",
    "    1. There you can download temperature changes for each country in respect to a base level, which is given as average of temperatures between years 1951-1980.\n",
    "    2. Data are originally per month for all years.\n",
    "    3. We averaged them over months and years between 2012-2020 into column 't_change'\n",
    "* Lack of precipitations could justify large fires\n",
    "    1. Therefore we have column 'av_prec' in mm per year (again single constant for all years)\n",
    "    2. Available from [UNdata](http://data.un.org/Data.aspx?d=CLINO&f=ElementCode%3A06)\n",
    "* General development level of each countries will certainly matter\n",
    "    1. We measure it here by GDP per capita (for 2020) in dollars (column 'gdp_per_capita')\n",
    "    2. Data obtained from [World Bank](https://data.worldbank.org/indicator)\n",
    "* In order to compare similar contries we could pick continents one by one\n",
    "* Or alternatively use four level division developed by [Hans Rosling](https://www.gapminder.org/factfulness-book/) and [Gapminder](https://www.gapminder.org/), debanking the myth of poor south and rich north or simply US and THEM.\n",
    "    1. column 'level'\n",
    "    \n"
   ]
  },
  {
   "cell_type": "markdown",
   "metadata": {},
   "source": [
    "# Loading precompiled data table"
   ]
  },
  {
   "cell_type": "code",
   "execution_count": 2,
   "metadata": {},
   "outputs": [],
   "source": [
    "df = pd.read_csv('data_fires.csv')\n",
    "df.set_index('iso', inplace=True)"
   ]
  },
  {
   "cell_type": "code",
   "execution_count": 3,
   "metadata": {},
   "outputs": [
    {
     "data": {
      "text/html": [
       "<div>\n",
       "<style scoped>\n",
       "    .dataframe tbody tr th:only-of-type {\n",
       "        vertical-align: middle;\n",
       "    }\n",
       "\n",
       "    .dataframe tbody tr th {\n",
       "        vertical-align: top;\n",
       "    }\n",
       "\n",
       "    .dataframe thead th {\n",
       "        text-align: right;\n",
       "    }\n",
       "</style>\n",
       "<table border=\"1\" class=\"dataframe\">\n",
       "  <thead>\n",
       "    <tr style=\"text-align: right;\">\n",
       "      <th></th>\n",
       "      <th>Country</th>\n",
       "      <th>Region</th>\n",
       "      <th>t_change</th>\n",
       "      <th>av_prec_mm_per_year</th>\n",
       "      <th>forest_area_ha</th>\n",
       "      <th>burned_area_ha</th>\n",
       "    </tr>\n",
       "    <tr>\n",
       "      <th>iso</th>\n",
       "      <th></th>\n",
       "      <th></th>\n",
       "      <th></th>\n",
       "      <th></th>\n",
       "      <th></th>\n",
       "      <th></th>\n",
       "    </tr>\n",
       "  </thead>\n",
       "  <tbody>\n",
       "    <tr>\n",
       "      <th>AFG</th>\n",
       "      <td>Afghanistan</td>\n",
       "      <td>Asia</td>\n",
       "      <td>1.11</td>\n",
       "      <td>327.0</td>\n",
       "      <td>5.150857e+08</td>\n",
       "      <td>3737.91</td>\n",
       "    </tr>\n",
       "    <tr>\n",
       "      <th>AGO</th>\n",
       "      <td>Angola</td>\n",
       "      <td>Africa</td>\n",
       "      <td>1.15</td>\n",
       "      <td>1010.0</td>\n",
       "      <td>9.979384e+08</td>\n",
       "      <td>802703.37</td>\n",
       "    </tr>\n",
       "    <tr>\n",
       "      <th>ALB</th>\n",
       "      <td>Albania</td>\n",
       "      <td>Europe</td>\n",
       "      <td>1.65</td>\n",
       "      <td>1485.0</td>\n",
       "      <td>2.298830e+07</td>\n",
       "      <td>553.79</td>\n",
       "    </tr>\n",
       "    <tr>\n",
       "      <th>ARG</th>\n",
       "      <td>Argentina</td>\n",
       "      <td>Americas</td>\n",
       "      <td>0.75</td>\n",
       "      <td>591.0</td>\n",
       "      <td>2.224081e+09</td>\n",
       "      <td>1283496.22</td>\n",
       "    </tr>\n",
       "    <tr>\n",
       "      <th>ARM</th>\n",
       "      <td>Armenia</td>\n",
       "      <td>Asia</td>\n",
       "      <td>1.61</td>\n",
       "      <td>562.0</td>\n",
       "      <td>2.375207e+07</td>\n",
       "      <td>1776.87</td>\n",
       "    </tr>\n",
       "  </tbody>\n",
       "</table>\n",
       "</div>"
      ],
      "text/plain": [
       "         Country    Region  t_change  av_prec_mm_per_year  forest_area_ha  \\\n",
       "iso                                                                         \n",
       "AFG  Afghanistan      Asia      1.11                327.0    5.150857e+08   \n",
       "AGO       Angola    Africa      1.15               1010.0    9.979384e+08   \n",
       "ALB      Albania    Europe      1.65               1485.0    2.298830e+07   \n",
       "ARG    Argentina  Americas      0.75                591.0    2.224081e+09   \n",
       "ARM      Armenia      Asia      1.61                562.0    2.375207e+07   \n",
       "\n",
       "     burned_area_ha  \n",
       "iso                  \n",
       "AFG         3737.91  \n",
       "AGO       802703.37  \n",
       "ALB          553.79  \n",
       "ARG      1283496.22  \n",
       "ARM         1776.87  "
      ]
     },
     "execution_count": 3,
     "metadata": {},
     "output_type": "execute_result"
    }
   ],
   "source": [
    "df.head()"
   ]
  },
  {
   "cell_type": "markdown",
   "metadata": {},
   "source": [
    "## Find percentage of forest burnt"
   ]
  },
  {
   "cell_type": "code",
   "execution_count": 4,
   "metadata": {},
   "outputs": [],
   "source": [
    "df['ratio_burn'] = df['burned_area_ha']/df['forest_area_ha']"
   ]
  },
  {
   "cell_type": "code",
   "execution_count": 5,
   "metadata": {},
   "outputs": [
    {
     "data": {
      "text/html": [
       "<div>\n",
       "<style scoped>\n",
       "    .dataframe tbody tr th:only-of-type {\n",
       "        vertical-align: middle;\n",
       "    }\n",
       "\n",
       "    .dataframe tbody tr th {\n",
       "        vertical-align: top;\n",
       "    }\n",
       "\n",
       "    .dataframe thead th {\n",
       "        text-align: right;\n",
       "    }\n",
       "</style>\n",
       "<table border=\"1\" class=\"dataframe\">\n",
       "  <thead>\n",
       "    <tr style=\"text-align: right;\">\n",
       "      <th></th>\n",
       "      <th>Country</th>\n",
       "      <th>Region</th>\n",
       "      <th>t_change</th>\n",
       "      <th>av_prec_mm_per_year</th>\n",
       "      <th>forest_area_ha</th>\n",
       "      <th>burned_area_ha</th>\n",
       "      <th>ratio_burn</th>\n",
       "    </tr>\n",
       "    <tr>\n",
       "      <th>iso</th>\n",
       "      <th></th>\n",
       "      <th></th>\n",
       "      <th></th>\n",
       "      <th></th>\n",
       "      <th></th>\n",
       "      <th></th>\n",
       "      <th></th>\n",
       "    </tr>\n",
       "  </thead>\n",
       "  <tbody>\n",
       "    <tr>\n",
       "      <th>AFG</th>\n",
       "      <td>Afghanistan</td>\n",
       "      <td>Asia</td>\n",
       "      <td>1.11</td>\n",
       "      <td>327.0</td>\n",
       "      <td>5.150857e+08</td>\n",
       "      <td>3737.91</td>\n",
       "      <td>0.000007</td>\n",
       "    </tr>\n",
       "    <tr>\n",
       "      <th>AGO</th>\n",
       "      <td>Angola</td>\n",
       "      <td>Africa</td>\n",
       "      <td>1.15</td>\n",
       "      <td>1010.0</td>\n",
       "      <td>9.979384e+08</td>\n",
       "      <td>802703.37</td>\n",
       "      <td>0.000804</td>\n",
       "    </tr>\n",
       "    <tr>\n",
       "      <th>ALB</th>\n",
       "      <td>Albania</td>\n",
       "      <td>Europe</td>\n",
       "      <td>1.65</td>\n",
       "      <td>1485.0</td>\n",
       "      <td>2.298830e+07</td>\n",
       "      <td>553.79</td>\n",
       "      <td>0.000024</td>\n",
       "    </tr>\n",
       "    <tr>\n",
       "      <th>ARG</th>\n",
       "      <td>Argentina</td>\n",
       "      <td>Americas</td>\n",
       "      <td>0.75</td>\n",
       "      <td>591.0</td>\n",
       "      <td>2.224081e+09</td>\n",
       "      <td>1283496.22</td>\n",
       "      <td>0.000577</td>\n",
       "    </tr>\n",
       "    <tr>\n",
       "      <th>ARM</th>\n",
       "      <td>Armenia</td>\n",
       "      <td>Asia</td>\n",
       "      <td>1.61</td>\n",
       "      <td>562.0</td>\n",
       "      <td>2.375207e+07</td>\n",
       "      <td>1776.87</td>\n",
       "      <td>0.000075</td>\n",
       "    </tr>\n",
       "  </tbody>\n",
       "</table>\n",
       "</div>"
      ],
      "text/plain": [
       "         Country    Region  t_change  av_prec_mm_per_year  forest_area_ha  \\\n",
       "iso                                                                         \n",
       "AFG  Afghanistan      Asia      1.11                327.0    5.150857e+08   \n",
       "AGO       Angola    Africa      1.15               1010.0    9.979384e+08   \n",
       "ALB      Albania    Europe      1.65               1485.0    2.298830e+07   \n",
       "ARG    Argentina  Americas      0.75                591.0    2.224081e+09   \n",
       "ARM      Armenia      Asia      1.61                562.0    2.375207e+07   \n",
       "\n",
       "     burned_area_ha  ratio_burn  \n",
       "iso                              \n",
       "AFG         3737.91    0.000007  \n",
       "AGO       802703.37    0.000804  \n",
       "ALB          553.79    0.000024  \n",
       "ARG      1283496.22    0.000577  \n",
       "ARM         1776.87    0.000075  "
      ]
     },
     "execution_count": 5,
     "metadata": {},
     "output_type": "execute_result"
    }
   ],
   "source": [
    "df.head()"
   ]
  },
  {
   "cell_type": "markdown",
   "metadata": {},
   "source": [
    "# Try Europe first\n",
    "## Quantiles\n",
    "* Quantiles are values out of group of values, which split the group into ratio\n",
    "* Example: quantile(0.6) is a value, where 60% of values lie below, and 40% of values lie above"
   ]
  },
  {
   "cell_type": "code",
   "execution_count": 6,
   "metadata": {},
   "outputs": [],
   "source": [
    "# select european countries\n",
    "df_europe = df[df.Region=='Europe']"
   ]
  },
  {
   "cell_type": "code",
   "execution_count": 7,
   "metadata": {},
   "outputs": [],
   "source": [
    "# forest burned\n",
    "high_burn_limit = df_europe.ratio_burn.quantile(0.7)  # value separates 30% of countries with high forest burns\n",
    "high_burn_df = df_europe[df_europe.ratio_burn > high_burn_limit]  # select those 30&% using a condition > value\n",
    "set_high_burn = set(high_burn_df.index)  # make a set of countries out of the table"
   ]
  },
  {
   "cell_type": "code",
   "execution_count": 8,
   "metadata": {},
   "outputs": [],
   "source": [
    "# not high temperature change\n",
    "t_change_limit = df_europe.t_change.quantile(0.5)\n",
    "not_large_t_change_df = df_europe[df_europe.t_change < t_change_limit]\n",
    "set_not_large_t_change = set(not_large_t_change_df.index)"
   ]
  },
  {
   "cell_type": "code",
   "execution_count": 9,
   "metadata": {},
   "outputs": [],
   "source": [
    "# not low precipitation\n",
    "prec_limit = df_europe.av_prec_mm_per_year.quantile(0.5)\n",
    "not_low_prec_df = df_europe[df_europe.av_prec_mm_per_year > prec_limit]\n",
    "set_not_low_prec = set(not_low_prec_df.index)"
   ]
  },
  {
   "cell_type": "markdown",
   "metadata": {},
   "source": [
    "### NOTE: There is no strict rule which quantile to use, feel free to experiment"
   ]
  },
  {
   "cell_type": "code",
   "execution_count": 10,
   "metadata": {},
   "outputs": [],
   "source": [
    "# intersection betwee two sets\n",
    "# Countries which have high burns AND temperature rise is below average over the decades\n",
    "inter2 = set_high_burn.intersection(set_not_large_t_change)"
   ]
  },
  {
   "cell_type": "code",
   "execution_count": 11,
   "metadata": {},
   "outputs": [
    {
     "data": {
      "text/html": [
       "<div>\n",
       "<style scoped>\n",
       "    .dataframe tbody tr th:only-of-type {\n",
       "        vertical-align: middle;\n",
       "    }\n",
       "\n",
       "    .dataframe tbody tr th {\n",
       "        vertical-align: top;\n",
       "    }\n",
       "\n",
       "    .dataframe thead th {\n",
       "        text-align: right;\n",
       "    }\n",
       "</style>\n",
       "<table border=\"1\" class=\"dataframe\">\n",
       "  <thead>\n",
       "    <tr style=\"text-align: right;\">\n",
       "      <th></th>\n",
       "      <th>Country</th>\n",
       "      <th>Region</th>\n",
       "      <th>t_change</th>\n",
       "      <th>av_prec_mm_per_year</th>\n",
       "      <th>forest_area_ha</th>\n",
       "      <th>burned_area_ha</th>\n",
       "      <th>ratio_burn</th>\n",
       "    </tr>\n",
       "    <tr>\n",
       "      <th>iso</th>\n",
       "      <th></th>\n",
       "      <th></th>\n",
       "      <th></th>\n",
       "      <th></th>\n",
       "      <th></th>\n",
       "      <th></th>\n",
       "      <th></th>\n",
       "    </tr>\n",
       "  </thead>\n",
       "  <tbody>\n",
       "    <tr>\n",
       "      <th>ROU</th>\n",
       "      <td>Romania</td>\n",
       "      <td>Europe</td>\n",
       "      <td>1.87</td>\n",
       "      <td>637.0</td>\n",
       "      <td>1.906703e+08</td>\n",
       "      <td>166211.39</td>\n",
       "      <td>0.000872</td>\n",
       "    </tr>\n",
       "    <tr>\n",
       "      <th>PRT</th>\n",
       "      <td>Portugal</td>\n",
       "      <td>Europe</td>\n",
       "      <td>1.38</td>\n",
       "      <td>854.0</td>\n",
       "      <td>7.164405e+07</td>\n",
       "      <td>15899.65</td>\n",
       "      <td>0.000222</td>\n",
       "    </tr>\n",
       "    <tr>\n",
       "      <th>MNE</th>\n",
       "      <td>Montenegro</td>\n",
       "      <td>Europe</td>\n",
       "      <td>1.74</td>\n",
       "      <td>241.0</td>\n",
       "      <td>1.066819e+07</td>\n",
       "      <td>3809.97</td>\n",
       "      <td>0.000357</td>\n",
       "    </tr>\n",
       "    <tr>\n",
       "      <th>BIH</th>\n",
       "      <td>Bosnia and Herzegovina</td>\n",
       "      <td>Europe</td>\n",
       "      <td>1.86</td>\n",
       "      <td>1028.0</td>\n",
       "      <td>4.085507e+07</td>\n",
       "      <td>28669.33</td>\n",
       "      <td>0.000702</td>\n",
       "    </tr>\n",
       "  </tbody>\n",
       "</table>\n",
       "</div>"
      ],
      "text/plain": [
       "                    Country  Region  t_change  av_prec_mm_per_year  \\\n",
       "iso                                                                  \n",
       "ROU                 Romania  Europe      1.87                637.0   \n",
       "PRT                Portugal  Europe      1.38                854.0   \n",
       "MNE              Montenegro  Europe      1.74                241.0   \n",
       "BIH  Bosnia and Herzegovina  Europe      1.86               1028.0   \n",
       "\n",
       "     forest_area_ha  burned_area_ha  ratio_burn  \n",
       "iso                                              \n",
       "ROU    1.906703e+08       166211.39    0.000872  \n",
       "PRT    7.164405e+07        15899.65    0.000222  \n",
       "MNE    1.066819e+07         3809.97    0.000357  \n",
       "BIH    4.085507e+07        28669.33    0.000702  "
      ]
     },
     "execution_count": 11,
     "metadata": {},
     "output_type": "execute_result"
    }
   ],
   "source": [
    "# using .loc on our df, we can select countries of inter2 from the original df\n",
    "df.loc[inter2]"
   ]
  },
  {
   "cell_type": "markdown",
   "metadata": {},
   "source": [
    "## Temperature is only one factor\n",
    "* Extremely low precipitations might justify lots of burned forest\n",
    "* Let's add the condition that the precipitations cannot be too low\n",
    "* Now our logic says: high burns AND not large temperature increase AND not very low precipitations"
   ]
  },
  {
   "cell_type": "code",
   "execution_count": 12,
   "metadata": {},
   "outputs": [],
   "source": [
    "# intersection of three sets\n",
    "inter3 = set_high_burn.intersection(set_not_large_t_change).intersection(set_not_low_prec)"
   ]
  },
  {
   "cell_type": "code",
   "execution_count": 13,
   "metadata": {},
   "outputs": [
    {
     "data": {
      "text/html": [
       "<div>\n",
       "<style scoped>\n",
       "    .dataframe tbody tr th:only-of-type {\n",
       "        vertical-align: middle;\n",
       "    }\n",
       "\n",
       "    .dataframe tbody tr th {\n",
       "        vertical-align: top;\n",
       "    }\n",
       "\n",
       "    .dataframe thead th {\n",
       "        text-align: right;\n",
       "    }\n",
       "</style>\n",
       "<table border=\"1\" class=\"dataframe\">\n",
       "  <thead>\n",
       "    <tr style=\"text-align: right;\">\n",
       "      <th></th>\n",
       "      <th>Country</th>\n",
       "      <th>Region</th>\n",
       "      <th>t_change</th>\n",
       "      <th>av_prec_mm_per_year</th>\n",
       "      <th>forest_area_ha</th>\n",
       "      <th>burned_area_ha</th>\n",
       "      <th>ratio_burn</th>\n",
       "    </tr>\n",
       "    <tr>\n",
       "      <th>iso</th>\n",
       "      <th></th>\n",
       "      <th></th>\n",
       "      <th></th>\n",
       "      <th></th>\n",
       "      <th></th>\n",
       "      <th></th>\n",
       "      <th></th>\n",
       "    </tr>\n",
       "  </thead>\n",
       "  <tbody>\n",
       "    <tr>\n",
       "      <th>PRT</th>\n",
       "      <td>Portugal</td>\n",
       "      <td>Europe</td>\n",
       "      <td>1.38</td>\n",
       "      <td>854.0</td>\n",
       "      <td>71644045.43</td>\n",
       "      <td>15899.65</td>\n",
       "      <td>0.000222</td>\n",
       "    </tr>\n",
       "    <tr>\n",
       "      <th>BIH</th>\n",
       "      <td>Bosnia and Herzegovina</td>\n",
       "      <td>Europe</td>\n",
       "      <td>1.86</td>\n",
       "      <td>1028.0</td>\n",
       "      <td>40855066.35</td>\n",
       "      <td>28669.33</td>\n",
       "      <td>0.000702</td>\n",
       "    </tr>\n",
       "  </tbody>\n",
       "</table>\n",
       "</div>"
      ],
      "text/plain": [
       "                    Country  Region  t_change  av_prec_mm_per_year  \\\n",
       "iso                                                                  \n",
       "PRT                Portugal  Europe      1.38                854.0   \n",
       "BIH  Bosnia and Herzegovina  Europe      1.86               1028.0   \n",
       "\n",
       "     forest_area_ha  burned_area_ha  ratio_burn  \n",
       "iso                                              \n",
       "PRT     71644045.43        15899.65    0.000222  \n",
       "BIH     40855066.35        28669.33    0.000702  "
      ]
     },
     "execution_count": 13,
     "metadata": {},
     "output_type": "execute_result"
    }
   ],
   "source": [
    "# listing the countries from the original df\n",
    "df.loc[inter3]"
   ]
  },
  {
   "cell_type": "code",
   "execution_count": 14,
   "metadata": {},
   "outputs": [
    {
     "data": {
      "text/plain": [
       "iso\n",
       "HRV                   Croatia\n",
       "HUN                   Hungary\n",
       "PRT                  Portugal\n",
       "BLR                   Belarus\n",
       "MNE                Montenegro\n",
       "UKR                   Ukraine\n",
       "ROU                   Romania\n",
       "BIH    Bosnia and Herzegovina\n",
       "Name: Country, dtype: object"
      ]
     },
     "execution_count": 14,
     "metadata": {},
     "output_type": "execute_result"
    }
   ],
   "source": [
    "# list all high burning countries\n",
    "df.loc[set_high_burn].Country"
   ]
  },
  {
   "cell_type": "markdown",
   "metadata": {},
   "source": [
    "## Plotting venn diagram\n",
    "* using functions from matplotlib_venn module, we can visualize how our set share the elements (Countries)"
   ]
  },
  {
   "cell_type": "code",
   "execution_count": 15,
   "metadata": {},
   "outputs": [
    {
     "data": {
      "image/png": "[encoded data removed]",
      "text/plain": [
       "<Figure size 432x288 with 1 Axes>"
      ]
     },
     "metadata": {},
     "output_type": "display_data"
    }
   ],
   "source": [
    "plt.figure(figsize=(6,4))\n",
    "venn3([set_high_burn, set_not_large_t_change, set_not_low_prec],\n",
    "      set_labels=('High burn', 'Low Temp change', 'Not low prec'),\n",
    "      alpha=0.5)\n",
    "plt.title('European countries with excessive fires', fontsize=16)\n",
    "plt.show()"
   ]
  },
  {
   "cell_type": "markdown",
   "metadata": {},
   "source": [
    "* Our motivation was to identify the intersection of the three sets shown in dark purple here\n",
    "* There are several other subsets which you can find by using UNION/INTERSECTION methods.\n",
    "* What do they logically represent and are they of any use for the UN secretary?"
   ]
  },
  {
   "cell_type": "markdown",
   "metadata": {},
   "source": [
    "---\n",
    "---\n",
    "## Comparing all countries together feels wrong, because of huge differences between them.\n",
    "* There is no unique answer how to group countries, consider options based on:\n",
    "  * development level (GDP)\n",
    "  * Geography\n",
    "  * Climate\n",
    "  * And more\n",
    "* Here we will try to use the GDP per capita, to compare fires in similarly developed states.\n",
    "* Above, Europe can be considered fairly homogeneous, thanks to its small size and EU integration.\n",
    "---\n",
    "---"
   ]
  },
  {
   "cell_type": "markdown",
   "metadata": {},
   "source": [
    "## Let's organize countries according to the GDP per capita"
   ]
  },
  {
   "cell_type": "code",
   "execution_count": 16,
   "metadata": {},
   "outputs": [],
   "source": [
    "# using wb module, we can load lots of datasets directly into pandas dataframes (tables)\n",
    "gdp = wb.data.DataFrame('NY.GDP.PCAP.CD', time=2020)\n",
    "gdp.index.names = ['iso']  # rename the index\n",
    "df = df.merge(gdp, on='iso')  # merging our two tables according to 'iso' index"
   ]
  },
  {
   "cell_type": "code",
   "execution_count": 17,
   "metadata": {},
   "outputs": [],
   "source": [
    "# and rename gdp column\n",
    "df = df.rename(columns={'NY.GDP.PCAP.CD':'gdp_per_capita_dollars'})"
   ]
  },
  {
   "cell_type": "code",
   "execution_count": 18,
   "metadata": {},
   "outputs": [
    {
     "data": {
      "text/html": [
       "<div>\n",
       "<style scoped>\n",
       "    .dataframe tbody tr th:only-of-type {\n",
       "        vertical-align: middle;\n",
       "    }\n",
       "\n",
       "    .dataframe tbody tr th {\n",
       "        vertical-align: top;\n",
       "    }\n",
       "\n",
       "    .dataframe thead th {\n",
       "        text-align: right;\n",
       "    }\n",
       "</style>\n",
       "<table border=\"1\" class=\"dataframe\">\n",
       "  <thead>\n",
       "    <tr style=\"text-align: right;\">\n",
       "      <th></th>\n",
       "      <th>Country</th>\n",
       "      <th>Region</th>\n",
       "      <th>t_change</th>\n",
       "      <th>av_prec_mm_per_year</th>\n",
       "      <th>forest_area_ha</th>\n",
       "      <th>burned_area_ha</th>\n",
       "      <th>ratio_burn</th>\n",
       "      <th>gdp_per_capita_dollars</th>\n",
       "    </tr>\n",
       "    <tr>\n",
       "      <th>iso</th>\n",
       "      <th></th>\n",
       "      <th></th>\n",
       "      <th></th>\n",
       "      <th></th>\n",
       "      <th></th>\n",
       "      <th></th>\n",
       "      <th></th>\n",
       "      <th></th>\n",
       "    </tr>\n",
       "  </thead>\n",
       "  <tbody>\n",
       "    <tr>\n",
       "      <th>AFG</th>\n",
       "      <td>Afghanistan</td>\n",
       "      <td>Asia</td>\n",
       "      <td>1.11</td>\n",
       "      <td>327.0</td>\n",
       "      <td>5.150857e+08</td>\n",
       "      <td>3737.91</td>\n",
       "      <td>0.000007</td>\n",
       "      <td>508.808409</td>\n",
       "    </tr>\n",
       "    <tr>\n",
       "      <th>AGO</th>\n",
       "      <td>Angola</td>\n",
       "      <td>Africa</td>\n",
       "      <td>1.15</td>\n",
       "      <td>1010.0</td>\n",
       "      <td>9.979384e+08</td>\n",
       "      <td>802703.37</td>\n",
       "      <td>0.000804</td>\n",
       "      <td>1895.770869</td>\n",
       "    </tr>\n",
       "    <tr>\n",
       "      <th>ALB</th>\n",
       "      <td>Albania</td>\n",
       "      <td>Europe</td>\n",
       "      <td>1.65</td>\n",
       "      <td>1485.0</td>\n",
       "      <td>2.298830e+07</td>\n",
       "      <td>553.79</td>\n",
       "      <td>0.000024</td>\n",
       "      <td>5215.276752</td>\n",
       "    </tr>\n",
       "    <tr>\n",
       "      <th>ARG</th>\n",
       "      <td>Argentina</td>\n",
       "      <td>Americas</td>\n",
       "      <td>0.75</td>\n",
       "      <td>591.0</td>\n",
       "      <td>2.224081e+09</td>\n",
       "      <td>1283496.22</td>\n",
       "      <td>0.000577</td>\n",
       "      <td>8441.919439</td>\n",
       "    </tr>\n",
       "    <tr>\n",
       "      <th>ARM</th>\n",
       "      <td>Armenia</td>\n",
       "      <td>Asia</td>\n",
       "      <td>1.61</td>\n",
       "      <td>562.0</td>\n",
       "      <td>2.375207e+07</td>\n",
       "      <td>1776.87</td>\n",
       "      <td>0.000075</td>\n",
       "      <td>4267.452119</td>\n",
       "    </tr>\n",
       "  </tbody>\n",
       "</table>\n",
       "</div>"
      ],
      "text/plain": [
       "         Country    Region  t_change  av_prec_mm_per_year  forest_area_ha  \\\n",
       "iso                                                                         \n",
       "AFG  Afghanistan      Asia      1.11                327.0    5.150857e+08   \n",
       "AGO       Angola    Africa      1.15               1010.0    9.979384e+08   \n",
       "ALB      Albania    Europe      1.65               1485.0    2.298830e+07   \n",
       "ARG    Argentina  Americas      0.75                591.0    2.224081e+09   \n",
       "ARM      Armenia      Asia      1.61                562.0    2.375207e+07   \n",
       "\n",
       "     burned_area_ha  ratio_burn  gdp_per_capita_dollars  \n",
       "iso                                                      \n",
       "AFG         3737.91    0.000007              508.808409  \n",
       "AGO       802703.37    0.000804             1895.770869  \n",
       "ALB          553.79    0.000024             5215.276752  \n",
       "ARG      1283496.22    0.000577             8441.919439  \n",
       "ARM         1776.87    0.000075             4267.452119  "
      ]
     },
     "execution_count": 18,
     "metadata": {},
     "output_type": "execute_result"
    }
   ],
   "source": [
    "df.head()"
   ]
  },
  {
   "cell_type": "code",
   "execution_count": 19,
   "metadata": {},
   "outputs": [
    {
     "data": {
      "text/plain": [
       "817.035756926923"
      ]
     },
     "execution_count": 19,
     "metadata": {},
     "output_type": "execute_result"
    }
   ],
   "source": [
    "# example, what is the dollar per year money, people in the 10 percent of poorest countries live on in average?\n",
    "df['gdp_per_capita_dollars'].quantile(0.1)"
   ]
  },
  {
   "cell_type": "code",
   "execution_count": 20,
   "metadata": {},
   "outputs": [
    {
     "data": {
      "text/plain": [
       "2.238454128566912"
      ]
     },
     "execution_count": 20,
     "metadata": {},
     "output_type": "execute_result"
    }
   ],
   "source": [
    "# in dollars per day\n",
    "df['gdp_per_capita_dollars'].quantile(0.1)/365"
   ]
  },
  {
   "cell_type": "markdown",
   "metadata": {},
   "source": [
    "## Extreme poverty is defines as living with less than 2 dollars a day.\n",
    "* As mentioned in the initial notes, the world is not US and THEM any more, but can be more described by four levels of countries' wealth\n",
    "* levels go from the poverty line of 2$ a day, and then multiply by 4 to reach the next level\n",
    "* So we have 2, 8, 32 dollars per day levels\n",
    "* In which level are you?"
   ]
  },
  {
   "cell_type": "code",
   "execution_count": 21,
   "metadata": {},
   "outputs": [],
   "source": [
    "# We need to mark our countries according to these levels in our df\n",
    "# let's make all countries level 4 first\n",
    "df['gdp_level'] = 4"
   ]
  },
  {
   "cell_type": "code",
   "execution_count": 22,
   "metadata": {},
   "outputs": [],
   "source": [
    "# Now if the gdp per capita is lower than of the level 1,2 or 3, we change the value of gdp_level\n",
    "# gdp is per year, so we have to multiply the level per day by 365\n",
    "df.loc[df['gdp_per_capita_dollars'] < 365*32, 'gdp_level'] = 3\n",
    "df.loc[df['gdp_per_capita_dollars'] < 365*8, 'gdp_level'] = 2\n",
    "df.loc[df['gdp_per_capita_dollars'] < 365*2.5, 'gdp_level'] = 1"
   ]
  },
  {
   "cell_type": "code",
   "execution_count": 23,
   "metadata": {},
   "outputs": [
    {
     "data": {
      "text/html": [
       "<div>\n",
       "<style scoped>\n",
       "    .dataframe tbody tr th:only-of-type {\n",
       "        vertical-align: middle;\n",
       "    }\n",
       "\n",
       "    .dataframe tbody tr th {\n",
       "        vertical-align: top;\n",
       "    }\n",
       "\n",
       "    .dataframe thead th {\n",
       "        text-align: right;\n",
       "    }\n",
       "</style>\n",
       "<table border=\"1\" class=\"dataframe\">\n",
       "  <thead>\n",
       "    <tr style=\"text-align: right;\">\n",
       "      <th></th>\n",
       "      <th>Country</th>\n",
       "      <th>Region</th>\n",
       "      <th>t_change</th>\n",
       "      <th>av_prec_mm_per_year</th>\n",
       "      <th>forest_area_ha</th>\n",
       "      <th>burned_area_ha</th>\n",
       "      <th>ratio_burn</th>\n",
       "      <th>gdp_per_capita_dollars</th>\n",
       "      <th>gdp_level</th>\n",
       "    </tr>\n",
       "    <tr>\n",
       "      <th>iso</th>\n",
       "      <th></th>\n",
       "      <th></th>\n",
       "      <th></th>\n",
       "      <th></th>\n",
       "      <th></th>\n",
       "      <th></th>\n",
       "      <th></th>\n",
       "      <th></th>\n",
       "      <th></th>\n",
       "    </tr>\n",
       "  </thead>\n",
       "  <tbody>\n",
       "    <tr>\n",
       "      <th>AFG</th>\n",
       "      <td>Afghanistan</td>\n",
       "      <td>Asia</td>\n",
       "      <td>1.11</td>\n",
       "      <td>327.0</td>\n",
       "      <td>5.150857e+08</td>\n",
       "      <td>3737.91</td>\n",
       "      <td>0.000007</td>\n",
       "      <td>508.808409</td>\n",
       "      <td>1</td>\n",
       "    </tr>\n",
       "    <tr>\n",
       "      <th>AGO</th>\n",
       "      <td>Angola</td>\n",
       "      <td>Africa</td>\n",
       "      <td>1.15</td>\n",
       "      <td>1010.0</td>\n",
       "      <td>9.979384e+08</td>\n",
       "      <td>802703.37</td>\n",
       "      <td>0.000804</td>\n",
       "      <td>1895.770869</td>\n",
       "      <td>2</td>\n",
       "    </tr>\n",
       "    <tr>\n",
       "      <th>ALB</th>\n",
       "      <td>Albania</td>\n",
       "      <td>Europe</td>\n",
       "      <td>1.65</td>\n",
       "      <td>1485.0</td>\n",
       "      <td>2.298830e+07</td>\n",
       "      <td>553.79</td>\n",
       "      <td>0.000024</td>\n",
       "      <td>5215.276752</td>\n",
       "      <td>3</td>\n",
       "    </tr>\n",
       "    <tr>\n",
       "      <th>ARG</th>\n",
       "      <td>Argentina</td>\n",
       "      <td>Americas</td>\n",
       "      <td>0.75</td>\n",
       "      <td>591.0</td>\n",
       "      <td>2.224081e+09</td>\n",
       "      <td>1283496.22</td>\n",
       "      <td>0.000577</td>\n",
       "      <td>8441.919439</td>\n",
       "      <td>3</td>\n",
       "    </tr>\n",
       "    <tr>\n",
       "      <th>ARM</th>\n",
       "      <td>Armenia</td>\n",
       "      <td>Asia</td>\n",
       "      <td>1.61</td>\n",
       "      <td>562.0</td>\n",
       "      <td>2.375207e+07</td>\n",
       "      <td>1776.87</td>\n",
       "      <td>0.000075</td>\n",
       "      <td>4267.452119</td>\n",
       "      <td>3</td>\n",
       "    </tr>\n",
       "  </tbody>\n",
       "</table>\n",
       "</div>"
      ],
      "text/plain": [
       "         Country    Region  t_change  av_prec_mm_per_year  forest_area_ha  \\\n",
       "iso                                                                         \n",
       "AFG  Afghanistan      Asia      1.11                327.0    5.150857e+08   \n",
       "AGO       Angola    Africa      1.15               1010.0    9.979384e+08   \n",
       "ALB      Albania    Europe      1.65               1485.0    2.298830e+07   \n",
       "ARG    Argentina  Americas      0.75                591.0    2.224081e+09   \n",
       "ARM      Armenia      Asia      1.61                562.0    2.375207e+07   \n",
       "\n",
       "     burned_area_ha  ratio_burn  gdp_per_capita_dollars  gdp_level  \n",
       "iso                                                                 \n",
       "AFG         3737.91    0.000007              508.808409          1  \n",
       "AGO       802703.37    0.000804             1895.770869          2  \n",
       "ALB          553.79    0.000024             5215.276752          3  \n",
       "ARG      1283496.22    0.000577             8441.919439          3  \n",
       "ARM         1776.87    0.000075             4267.452119          3  "
      ]
     },
     "execution_count": 23,
     "metadata": {},
     "output_type": "execute_result"
    }
   ],
   "source": [
    "df.head()"
   ]
  },
  {
   "cell_type": "code",
   "execution_count": 24,
   "metadata": {},
   "outputs": [
    {
     "data": {
      "text/plain": [
       "119"
      ]
     },
     "execution_count": 24,
     "metadata": {},
     "output_type": "execute_result"
    }
   ],
   "source": [
    "# how many countries (rows) do we have in df\n",
    "len(df)"
   ]
  },
  {
   "cell_type": "code",
   "execution_count": 25,
   "metadata": {},
   "outputs": [],
   "source": [
    "# leaving out rows with any missing data\n",
    "# Proper approach is to try to find additional sources for the missing data\n",
    "df.dropna(inplace=True)"
   ]
  },
  {
   "cell_type": "code",
   "execution_count": 26,
   "metadata": {},
   "outputs": [
    {
     "data": {
      "text/plain": [
       "111"
      ]
     },
     "execution_count": 26,
     "metadata": {},
     "output_type": "execute_result"
    }
   ],
   "source": [
    "# Out of 195 countries, we are omitting many people of this world.\n",
    "len(df)"
   ]
  },
  {
   "cell_type": "code",
   "execution_count": 27,
   "metadata": {},
   "outputs": [
    {
     "data": {
      "text/plain": [
       "3    40\n",
       "4    29\n",
       "2    27\n",
       "1    15\n",
       "Name: gdp_level, dtype: int64"
      ]
     },
     "execution_count": 27,
     "metadata": {},
     "output_type": "execute_result"
    }
   ],
   "source": [
    "# How many countries we have at each GDP level?\n",
    "# apply value_counts() method on column gdp_level\n",
    "df.gdp_level.value_counts()"
   ]
  },
  {
   "cell_type": "markdown",
   "metadata": {},
   "source": [
    "# Level 1 countries analysis\n",
    "* here we repeat the same steps as we did for Europe\n",
    "* Now it includes whole world, grouped by GDP"
   ]
  },
  {
   "cell_type": "code",
   "execution_count": 28,
   "metadata": {},
   "outputs": [],
   "source": [
    "df_l1 = df[df['gdp_level']==1]"
   ]
  },
  {
   "cell_type": "code",
   "execution_count": 29,
   "metadata": {},
   "outputs": [],
   "source": [
    "# lots of forest burned\n",
    "high_burn_limit = df_l1.ratio_burn.quantile(0.7)\n",
    "high_burn_df = df_l1[df_l1.ratio_burn > high_burn_limit]\n",
    "set_high_burn = set(high_burn_df.index)"
   ]
  },
  {
   "cell_type": "code",
   "execution_count": 30,
   "metadata": {},
   "outputs": [],
   "source": [
    "# not high temperature change\n",
    "t_change_limit = df_l1.t_change.quantile(0.5)\n",
    "not_large_t_change_df = df_l1[df_l1.t_change < t_change_limit]\n",
    "set_not_large_t_change = set(not_large_t_change_df.index)"
   ]
  },
  {
   "cell_type": "code",
   "execution_count": 31,
   "metadata": {},
   "outputs": [],
   "source": [
    "# not low precipitation\n",
    "prec_limit = df_l1.av_prec_mm_per_year.quantile(0.5)\n",
    "not_low_prec_df = df_l1[df_l1.av_prec_mm_per_year > prec_limit]\n",
    "set_not_low_prec = set(not_low_prec_df.index)"
   ]
  },
  {
   "cell_type": "code",
   "execution_count": 32,
   "metadata": {},
   "outputs": [],
   "source": [
    "inter2 = set_high_burn.intersection(set_not_large_t_change)"
   ]
  },
  {
   "cell_type": "code",
   "execution_count": 33,
   "metadata": {},
   "outputs": [
    {
     "data": {
      "text/html": [
       "<div>\n",
       "<style scoped>\n",
       "    .dataframe tbody tr th:only-of-type {\n",
       "        vertical-align: middle;\n",
       "    }\n",
       "\n",
       "    .dataframe tbody tr th {\n",
       "        vertical-align: top;\n",
       "    }\n",
       "\n",
       "    .dataframe thead th {\n",
       "        text-align: right;\n",
       "    }\n",
       "</style>\n",
       "<table border=\"1\" class=\"dataframe\">\n",
       "  <thead>\n",
       "    <tr style=\"text-align: right;\">\n",
       "      <th></th>\n",
       "      <th>Country</th>\n",
       "      <th>Region</th>\n",
       "      <th>t_change</th>\n",
       "      <th>av_prec_mm_per_year</th>\n",
       "      <th>forest_area_ha</th>\n",
       "      <th>burned_area_ha</th>\n",
       "      <th>ratio_burn</th>\n",
       "      <th>gdp_per_capita_dollars</th>\n",
       "      <th>gdp_level</th>\n",
       "    </tr>\n",
       "    <tr>\n",
       "      <th>iso</th>\n",
       "      <th></th>\n",
       "      <th></th>\n",
       "      <th></th>\n",
       "      <th></th>\n",
       "      <th></th>\n",
       "      <th></th>\n",
       "      <th></th>\n",
       "      <th></th>\n",
       "      <th></th>\n",
       "    </tr>\n",
       "  </thead>\n",
       "  <tbody>\n",
       "    <tr>\n",
       "      <th>TCD</th>\n",
       "      <td>Chad</td>\n",
       "      <td>Africa</td>\n",
       "      <td>1.10</td>\n",
       "      <td>322.0</td>\n",
       "      <td>9.050136e+08</td>\n",
       "      <td>1975335.80</td>\n",
       "      <td>0.002183</td>\n",
       "      <td>614.465190</td>\n",
       "      <td>1</td>\n",
       "    </tr>\n",
       "    <tr>\n",
       "      <th>MLI</th>\n",
       "      <td>Mali</td>\n",
       "      <td>Africa</td>\n",
       "      <td>1.08</td>\n",
       "      <td>282.0</td>\n",
       "      <td>9.800557e+08</td>\n",
       "      <td>2986561.72</td>\n",
       "      <td>0.003047</td>\n",
       "      <td>858.915805</td>\n",
       "      <td>1</td>\n",
       "    </tr>\n",
       "  </tbody>\n",
       "</table>\n",
       "</div>"
      ],
      "text/plain": [
       "    Country  Region  t_change  av_prec_mm_per_year  forest_area_ha  \\\n",
       "iso                                                                  \n",
       "TCD    Chad  Africa      1.10                322.0    9.050136e+08   \n",
       "MLI    Mali  Africa      1.08                282.0    9.800557e+08   \n",
       "\n",
       "     burned_area_ha  ratio_burn  gdp_per_capita_dollars  gdp_level  \n",
       "iso                                                                 \n",
       "TCD      1975335.80    0.002183              614.465190          1  \n",
       "MLI      2986561.72    0.003047              858.915805          1  "
      ]
     },
     "execution_count": 33,
     "metadata": {},
     "output_type": "execute_result"
    }
   ],
   "source": [
    "df.loc[inter2]"
   ]
  },
  {
   "cell_type": "code",
   "execution_count": 34,
   "metadata": {},
   "outputs": [],
   "source": [
    "inter3 = set_high_burn.intersection(set_not_large_t_change).intersection(set_not_low_prec)"
   ]
  },
  {
   "cell_type": "code",
   "execution_count": 35,
   "metadata": {},
   "outputs": [
    {
     "data": {
      "text/html": [
       "<div>\n",
       "<style scoped>\n",
       "    .dataframe tbody tr th:only-of-type {\n",
       "        vertical-align: middle;\n",
       "    }\n",
       "\n",
       "    .dataframe tbody tr th {\n",
       "        vertical-align: top;\n",
       "    }\n",
       "\n",
       "    .dataframe thead th {\n",
       "        text-align: right;\n",
       "    }\n",
       "</style>\n",
       "<table border=\"1\" class=\"dataframe\">\n",
       "  <thead>\n",
       "    <tr style=\"text-align: right;\">\n",
       "      <th></th>\n",
       "      <th>Country</th>\n",
       "      <th>Region</th>\n",
       "      <th>t_change</th>\n",
       "      <th>av_prec_mm_per_year</th>\n",
       "      <th>forest_area_ha</th>\n",
       "      <th>burned_area_ha</th>\n",
       "      <th>ratio_burn</th>\n",
       "      <th>gdp_per_capita_dollars</th>\n",
       "      <th>gdp_level</th>\n",
       "    </tr>\n",
       "    <tr>\n",
       "      <th>iso</th>\n",
       "      <th></th>\n",
       "      <th></th>\n",
       "      <th></th>\n",
       "      <th></th>\n",
       "      <th></th>\n",
       "      <th></th>\n",
       "      <th></th>\n",
       "      <th></th>\n",
       "      <th></th>\n",
       "    </tr>\n",
       "  </thead>\n",
       "  <tbody>\n",
       "  </tbody>\n",
       "</table>\n",
       "</div>"
      ],
      "text/plain": [
       "Empty DataFrame\n",
       "Columns: [Country, Region, t_change, av_prec_mm_per_year, forest_area_ha, burned_area_ha, ratio_burn, gdp_per_capita_dollars, gdp_level]\n",
       "Index: []"
      ]
     },
     "execution_count": 35,
     "metadata": {},
     "output_type": "execute_result"
    }
   ],
   "source": [
    "df.loc[inter3]"
   ]
  },
  {
   "cell_type": "code",
   "execution_count": 36,
   "metadata": {},
   "outputs": [
    {
     "data": {
      "image/png": "[encoded data removed]",
      "text/plain": [
       "<Figure size 432x288 with 1 Axes>"
      ]
     },
     "metadata": {},
     "output_type": "display_data"
    }
   ],
   "source": [
    "plt.figure(figsize=(6,4))\n",
    "venn3([set_high_burn, set_not_large_t_change, set_not_low_prec],\n",
    "      set_labels=('High burn', 'Low Temp change', 'Not low prec'),\n",
    "      alpha=0.5)\n",
    "plt.title('Level 1 countries with excessive fires', fontsize=16)\n",
    "plt.show()"
   ]
  },
  {
   "cell_type": "markdown",
   "metadata": {},
   "source": [
    "# Conclusion for level 1:\n",
    "* It seems that no country stands out as for getting too many fires at favourable climate\n",
    "* Fire extend for Mali and Chad seems to be justified by low precipitations"
   ]
  },
  {
   "cell_type": "markdown",
   "metadata": {},
   "source": [
    "# Level 2 countries analysis"
   ]
  },
  {
   "cell_type": "code",
   "execution_count": 37,
   "metadata": {},
   "outputs": [],
   "source": [
    "df_l2 = df[df['gdp_level']==2]"
   ]
  },
  {
   "cell_type": "code",
   "execution_count": 38,
   "metadata": {},
   "outputs": [],
   "source": [
    "# forest burned\n",
    "high_burn_limit = df_l2.ratio_burn.quantile(0.7)\n",
    "high_burn_df = df_l2[df_l2.ratio_burn > high_burn_limit]\n",
    "set_high_burn = set(high_burn_df.index)"
   ]
  },
  {
   "cell_type": "code",
   "execution_count": 39,
   "metadata": {},
   "outputs": [],
   "source": [
    "# not high temperature change\n",
    "t_change_limit = df_l2.t_change.quantile(0.5)\n",
    "not_large_t_change_df = df_l2[df_l2.t_change < t_change_limit]\n",
    "set_not_large_t_change = set(not_large_t_change_df.index)"
   ]
  },
  {
   "cell_type": "code",
   "execution_count": 40,
   "metadata": {},
   "outputs": [],
   "source": [
    "# not low precipitation\n",
    "prec_limit = df_l2.av_prec_mm_per_year.quantile(0.5)\n",
    "not_low_prec_df = df_l2[df_l2.av_prec_mm_per_year > prec_limit]\n",
    "set_not_low_prec = set(not_low_prec_df.index)"
   ]
  },
  {
   "cell_type": "code",
   "execution_count": 41,
   "metadata": {},
   "outputs": [],
   "source": [
    "inter2 = set_high_burn.intersection(set_not_large_t_change)"
   ]
  },
  {
   "cell_type": "code",
   "execution_count": 42,
   "metadata": {},
   "outputs": [
    {
     "data": {
      "text/html": [
       "<div>\n",
       "<style scoped>\n",
       "    .dataframe tbody tr th:only-of-type {\n",
       "        vertical-align: middle;\n",
       "    }\n",
       "\n",
       "    .dataframe tbody tr th {\n",
       "        vertical-align: top;\n",
       "    }\n",
       "\n",
       "    .dataframe thead th {\n",
       "        text-align: right;\n",
       "    }\n",
       "</style>\n",
       "<table border=\"1\" class=\"dataframe\">\n",
       "  <thead>\n",
       "    <tr style=\"text-align: right;\">\n",
       "      <th></th>\n",
       "      <th>Country</th>\n",
       "      <th>Region</th>\n",
       "      <th>t_change</th>\n",
       "      <th>av_prec_mm_per_year</th>\n",
       "      <th>forest_area_ha</th>\n",
       "      <th>burned_area_ha</th>\n",
       "      <th>ratio_burn</th>\n",
       "      <th>gdp_per_capita_dollars</th>\n",
       "      <th>gdp_level</th>\n",
       "    </tr>\n",
       "    <tr>\n",
       "      <th>iso</th>\n",
       "      <th></th>\n",
       "      <th></th>\n",
       "      <th></th>\n",
       "      <th></th>\n",
       "      <th></th>\n",
       "      <th></th>\n",
       "      <th></th>\n",
       "      <th></th>\n",
       "      <th></th>\n",
       "    </tr>\n",
       "  </thead>\n",
       "  <tbody>\n",
       "    <tr>\n",
       "      <th>KHM</th>\n",
       "      <td>Cambodia</td>\n",
       "      <td>Asia</td>\n",
       "      <td>1.06</td>\n",
       "      <td>1904.0</td>\n",
       "      <td>1.450877e+08</td>\n",
       "      <td>929791.47</td>\n",
       "      <td>0.006408</td>\n",
       "      <td>1512.727753</td>\n",
       "      <td>2</td>\n",
       "    </tr>\n",
       "    <tr>\n",
       "      <th>NIC</th>\n",
       "      <td>Nicaragua</td>\n",
       "      <td>Americas</td>\n",
       "      <td>1.09</td>\n",
       "      <td>2280.0</td>\n",
       "      <td>1.025758e+08</td>\n",
       "      <td>400918.61</td>\n",
       "      <td>0.003909</td>\n",
       "      <td>1905.256756</td>\n",
       "      <td>2</td>\n",
       "    </tr>\n",
       "    <tr>\n",
       "      <th>VNM</th>\n",
       "      <td>Viet Nam</td>\n",
       "      <td>Asia</td>\n",
       "      <td>1.10</td>\n",
       "      <td>1821.0</td>\n",
       "      <td>2.634208e+08</td>\n",
       "      <td>2785125.25</td>\n",
       "      <td>0.010573</td>\n",
       "      <td>2785.724157</td>\n",
       "      <td>2</td>\n",
       "    </tr>\n",
       "  </tbody>\n",
       "</table>\n",
       "</div>"
      ],
      "text/plain": [
       "       Country    Region  t_change  av_prec_mm_per_year  forest_area_ha  \\\n",
       "iso                                                                       \n",
       "KHM   Cambodia      Asia      1.06               1904.0    1.450877e+08   \n",
       "NIC  Nicaragua  Americas      1.09               2280.0    1.025758e+08   \n",
       "VNM   Viet Nam      Asia      1.10               1821.0    2.634208e+08   \n",
       "\n",
       "     burned_area_ha  ratio_burn  gdp_per_capita_dollars  gdp_level  \n",
       "iso                                                                 \n",
       "KHM       929791.47    0.006408             1512.727753          2  \n",
       "NIC       400918.61    0.003909             1905.256756          2  \n",
       "VNM      2785125.25    0.010573             2785.724157          2  "
      ]
     },
     "execution_count": 42,
     "metadata": {},
     "output_type": "execute_result"
    }
   ],
   "source": [
    "df.loc[inter2]"
   ]
  },
  {
   "cell_type": "code",
   "execution_count": 43,
   "metadata": {},
   "outputs": [],
   "source": [
    "inter3 = set_high_burn.intersection(set_not_large_t_change).intersection(set_not_low_prec)"
   ]
  },
  {
   "cell_type": "code",
   "execution_count": 44,
   "metadata": {},
   "outputs": [
    {
     "data": {
      "text/html": [
       "<div>\n",
       "<style scoped>\n",
       "    .dataframe tbody tr th:only-of-type {\n",
       "        vertical-align: middle;\n",
       "    }\n",
       "\n",
       "    .dataframe tbody tr th {\n",
       "        vertical-align: top;\n",
       "    }\n",
       "\n",
       "    .dataframe thead th {\n",
       "        text-align: right;\n",
       "    }\n",
       "</style>\n",
       "<table border=\"1\" class=\"dataframe\">\n",
       "  <thead>\n",
       "    <tr style=\"text-align: right;\">\n",
       "      <th></th>\n",
       "      <th>Country</th>\n",
       "      <th>Region</th>\n",
       "      <th>t_change</th>\n",
       "      <th>av_prec_mm_per_year</th>\n",
       "      <th>forest_area_ha</th>\n",
       "      <th>burned_area_ha</th>\n",
       "      <th>ratio_burn</th>\n",
       "      <th>gdp_per_capita_dollars</th>\n",
       "      <th>gdp_level</th>\n",
       "    </tr>\n",
       "    <tr>\n",
       "      <th>iso</th>\n",
       "      <th></th>\n",
       "      <th></th>\n",
       "      <th></th>\n",
       "      <th></th>\n",
       "      <th></th>\n",
       "      <th></th>\n",
       "      <th></th>\n",
       "      <th></th>\n",
       "      <th></th>\n",
       "    </tr>\n",
       "  </thead>\n",
       "  <tbody>\n",
       "    <tr>\n",
       "      <th>VNM</th>\n",
       "      <td>Viet Nam</td>\n",
       "      <td>Asia</td>\n",
       "      <td>1.10</td>\n",
       "      <td>1821.0</td>\n",
       "      <td>2.634208e+08</td>\n",
       "      <td>2785125.25</td>\n",
       "      <td>0.010573</td>\n",
       "      <td>2785.724157</td>\n",
       "      <td>2</td>\n",
       "    </tr>\n",
       "    <tr>\n",
       "      <th>NIC</th>\n",
       "      <td>Nicaragua</td>\n",
       "      <td>Americas</td>\n",
       "      <td>1.09</td>\n",
       "      <td>2280.0</td>\n",
       "      <td>1.025758e+08</td>\n",
       "      <td>400918.61</td>\n",
       "      <td>0.003909</td>\n",
       "      <td>1905.256756</td>\n",
       "      <td>2</td>\n",
       "    </tr>\n",
       "    <tr>\n",
       "      <th>KHM</th>\n",
       "      <td>Cambodia</td>\n",
       "      <td>Asia</td>\n",
       "      <td>1.06</td>\n",
       "      <td>1904.0</td>\n",
       "      <td>1.450877e+08</td>\n",
       "      <td>929791.47</td>\n",
       "      <td>0.006408</td>\n",
       "      <td>1512.727753</td>\n",
       "      <td>2</td>\n",
       "    </tr>\n",
       "  </tbody>\n",
       "</table>\n",
       "</div>"
      ],
      "text/plain": [
       "       Country    Region  t_change  av_prec_mm_per_year  forest_area_ha  \\\n",
       "iso                                                                       \n",
       "VNM   Viet Nam      Asia      1.10               1821.0    2.634208e+08   \n",
       "NIC  Nicaragua  Americas      1.09               2280.0    1.025758e+08   \n",
       "KHM   Cambodia      Asia      1.06               1904.0    1.450877e+08   \n",
       "\n",
       "     burned_area_ha  ratio_burn  gdp_per_capita_dollars  gdp_level  \n",
       "iso                                                                 \n",
       "VNM      2785125.25    0.010573             2785.724157          2  \n",
       "NIC       400918.61    0.003909             1905.256756          2  \n",
       "KHM       929791.47    0.006408             1512.727753          2  "
      ]
     },
     "execution_count": 44,
     "metadata": {},
     "output_type": "execute_result"
    }
   ],
   "source": [
    "df.loc[inter3]"
   ]
  },
  {
   "cell_type": "code",
   "execution_count": 45,
   "metadata": {},
   "outputs": [
    {
     "data": {
      "image/png": "[encoded data removed]",
      "text/plain": [
       "<Figure size 432x288 with 1 Axes>"
      ]
     },
     "metadata": {},
     "output_type": "display_data"
    }
   ],
   "source": [
    "plt.figure(figsize=(6,4))\n",
    "venn3([set_high_burn, set_not_large_t_change, set_not_low_prec],\n",
    "      set_labels=('High burn', 'Low Temp change', 'Not low prec'),\n",
    "      alpha=0.5)\n",
    "plt.title('Level 2 countries with excessive fires', fontsize=16)\n",
    "plt.show()"
   ]
  },
  {
   "cell_type": "markdown",
   "metadata": {},
   "source": [
    "# Conclusion for level 2:\n",
    "* Lack of precipitation is not a reason for the strong fires.\n",
    "* UN general law department might want to have a deeper look here for some easy gains."
   ]
  },
  {
   "cell_type": "markdown",
   "metadata": {},
   "source": [
    "# Level 3 countries analysis"
   ]
  },
  {
   "cell_type": "code",
   "execution_count": 46,
   "metadata": {},
   "outputs": [],
   "source": [
    "df_l3 = df[df['gdp_level']==3]"
   ]
  },
  {
   "cell_type": "code",
   "execution_count": 47,
   "metadata": {},
   "outputs": [],
   "source": [
    "# forest burned\n",
    "high_burn_limit = df_l3.ratio_burn.quantile(0.7)\n",
    "high_burn_df = df_l3[df_l3.ratio_burn > high_burn_limit]\n",
    "set_high_burn = set(high_burn_df.index)"
   ]
  },
  {
   "cell_type": "code",
   "execution_count": 48,
   "metadata": {},
   "outputs": [],
   "source": [
    "# not high temperature change\n",
    "t_change_limit = df_l3.t_change.quantile(0.5)\n",
    "not_large_t_change_df = df_l3[df_l3.t_change < t_change_limit]\n",
    "set_not_large_t_change = set(not_large_t_change_df.index)"
   ]
  },
  {
   "cell_type": "code",
   "execution_count": 49,
   "metadata": {},
   "outputs": [],
   "source": [
    "# not low precipitation\n",
    "prec_limit = df_l3.av_prec_mm_per_year.quantile(0.5)\n",
    "not_low_prec_df = df_l3[df_l3.av_prec_mm_per_year > prec_limit]\n",
    "set_not_low_prec = set(not_low_prec_df.index)"
   ]
  },
  {
   "cell_type": "code",
   "execution_count": 50,
   "metadata": {},
   "outputs": [],
   "source": [
    "inter2 = set_high_burn.intersection(set_not_large_t_change)"
   ]
  },
  {
   "cell_type": "code",
   "execution_count": 51,
   "metadata": {},
   "outputs": [
    {
     "data": {
      "text/html": [
       "<div>\n",
       "<style scoped>\n",
       "    .dataframe tbody tr th:only-of-type {\n",
       "        vertical-align: middle;\n",
       "    }\n",
       "\n",
       "    .dataframe tbody tr th {\n",
       "        vertical-align: top;\n",
       "    }\n",
       "\n",
       "    .dataframe thead th {\n",
       "        text-align: right;\n",
       "    }\n",
       "</style>\n",
       "<table border=\"1\" class=\"dataframe\">\n",
       "  <thead>\n",
       "    <tr style=\"text-align: right;\">\n",
       "      <th></th>\n",
       "      <th>Country</th>\n",
       "      <th>Region</th>\n",
       "      <th>t_change</th>\n",
       "      <th>av_prec_mm_per_year</th>\n",
       "      <th>forest_area_ha</th>\n",
       "      <th>burned_area_ha</th>\n",
       "      <th>ratio_burn</th>\n",
       "      <th>gdp_per_capita_dollars</th>\n",
       "      <th>gdp_level</th>\n",
       "    </tr>\n",
       "    <tr>\n",
       "      <th>iso</th>\n",
       "      <th></th>\n",
       "      <th></th>\n",
       "      <th></th>\n",
       "      <th></th>\n",
       "      <th></th>\n",
       "      <th></th>\n",
       "      <th></th>\n",
       "      <th></th>\n",
       "      <th></th>\n",
       "    </tr>\n",
       "  </thead>\n",
       "  <tbody>\n",
       "    <tr>\n",
       "      <th>BLZ</th>\n",
       "      <td>Belize</td>\n",
       "      <td>Americas</td>\n",
       "      <td>1.08</td>\n",
       "      <td>1705.0</td>\n",
       "      <td>1.749727e+07</td>\n",
       "      <td>47339.90</td>\n",
       "      <td>0.002706</td>\n",
       "      <td>4435.621154</td>\n",
       "      <td>3</td>\n",
       "    </tr>\n",
       "    <tr>\n",
       "      <th>MEX</th>\n",
       "      <td>Mexico</td>\n",
       "      <td>Americas</td>\n",
       "      <td>1.12</td>\n",
       "      <td>758.0</td>\n",
       "      <td>1.561484e+09</td>\n",
       "      <td>1461080.92</td>\n",
       "      <td>0.000936</td>\n",
       "      <td>8346.702379</td>\n",
       "      <td>3</td>\n",
       "    </tr>\n",
       "    <tr>\n",
       "      <th>BTN</th>\n",
       "      <td>Bhutan</td>\n",
       "      <td>Asia</td>\n",
       "      <td>1.05</td>\n",
       "      <td>2200.0</td>\n",
       "      <td>3.101037e+07</td>\n",
       "      <td>32671.79</td>\n",
       "      <td>0.001054</td>\n",
       "      <td>3122.376062</td>\n",
       "      <td>3</td>\n",
       "    </tr>\n",
       "    <tr>\n",
       "      <th>GTM</th>\n",
       "      <td>Guatemala</td>\n",
       "      <td>Americas</td>\n",
       "      <td>1.05</td>\n",
       "      <td>1996.0</td>\n",
       "      <td>8.732079e+07</td>\n",
       "      <td>377429.44</td>\n",
       "      <td>0.004322</td>\n",
       "      <td>4603.339617</td>\n",
       "      <td>3</td>\n",
       "    </tr>\n",
       "    <tr>\n",
       "      <th>SLV</th>\n",
       "      <td>El Salvador</td>\n",
       "      <td>Americas</td>\n",
       "      <td>1.03</td>\n",
       "      <td>1784.0</td>\n",
       "      <td>1.633818e+07</td>\n",
       "      <td>58169.04</td>\n",
       "      <td>0.003560</td>\n",
       "      <td>3798.636521</td>\n",
       "      <td>3</td>\n",
       "    </tr>\n",
       "    <tr>\n",
       "      <th>THA</th>\n",
       "      <td>Thailand</td>\n",
       "      <td>Asia</td>\n",
       "      <td>1.18</td>\n",
       "      <td>1622.0</td>\n",
       "      <td>4.112436e+08</td>\n",
       "      <td>3756909.35</td>\n",
       "      <td>0.009135</td>\n",
       "      <td>7189.041835</td>\n",
       "      <td>3</td>\n",
       "    </tr>\n",
       "    <tr>\n",
       "      <th>PRY</th>\n",
       "      <td>Paraguay</td>\n",
       "      <td>Americas</td>\n",
       "      <td>0.99</td>\n",
       "      <td>1130.0</td>\n",
       "      <td>3.196693e+08</td>\n",
       "      <td>937657.83</td>\n",
       "      <td>0.002933</td>\n",
       "      <td>4949.749700</td>\n",
       "      <td>3</td>\n",
       "    </tr>\n",
       "    <tr>\n",
       "      <th>COL</th>\n",
       "      <td>Colombia</td>\n",
       "      <td>Americas</td>\n",
       "      <td>0.89</td>\n",
       "      <td>3240.0</td>\n",
       "      <td>9.094070e+08</td>\n",
       "      <td>2841056.56</td>\n",
       "      <td>0.003124</td>\n",
       "      <td>5332.773524</td>\n",
       "      <td>3</td>\n",
       "    </tr>\n",
       "  </tbody>\n",
       "</table>\n",
       "</div>"
      ],
      "text/plain": [
       "         Country    Region  t_change  av_prec_mm_per_year  forest_area_ha  \\\n",
       "iso                                                                         \n",
       "BLZ       Belize  Americas      1.08               1705.0    1.749727e+07   \n",
       "MEX       Mexico  Americas      1.12                758.0    1.561484e+09   \n",
       "BTN       Bhutan      Asia      1.05               2200.0    3.101037e+07   \n",
       "GTM    Guatemala  Americas      1.05               1996.0    8.732079e+07   \n",
       "SLV  El Salvador  Americas      1.03               1784.0    1.633818e+07   \n",
       "THA     Thailand      Asia      1.18               1622.0    4.112436e+08   \n",
       "PRY     Paraguay  Americas      0.99               1130.0    3.196693e+08   \n",
       "COL     Colombia  Americas      0.89               3240.0    9.094070e+08   \n",
       "\n",
       "     burned_area_ha  ratio_burn  gdp_per_capita_dollars  gdp_level  \n",
       "iso                                                                 \n",
       "BLZ        47339.90    0.002706             4435.621154          3  \n",
       "MEX      1461080.92    0.000936             8346.702379          3  \n",
       "BTN        32671.79    0.001054             3122.376062          3  \n",
       "GTM       377429.44    0.004322             4603.339617          3  \n",
       "SLV        58169.04    0.003560             3798.636521          3  \n",
       "THA      3756909.35    0.009135             7189.041835          3  \n",
       "PRY       937657.83    0.002933             4949.749700          3  \n",
       "COL      2841056.56    0.003124             5332.773524          3  "
      ]
     },
     "execution_count": 51,
     "metadata": {},
     "output_type": "execute_result"
    }
   ],
   "source": [
    "df.loc[inter2]"
   ]
  },
  {
   "cell_type": "code",
   "execution_count": 52,
   "metadata": {},
   "outputs": [],
   "source": [
    "inter3 = set_high_burn.intersection(set_not_large_t_change).intersection(set_not_low_prec)"
   ]
  },
  {
   "cell_type": "code",
   "execution_count": 53,
   "metadata": {},
   "outputs": [
    {
     "data": {
      "text/html": [
       "<div>\n",
       "<style scoped>\n",
       "    .dataframe tbody tr th:only-of-type {\n",
       "        vertical-align: middle;\n",
       "    }\n",
       "\n",
       "    .dataframe tbody tr th {\n",
       "        vertical-align: top;\n",
       "    }\n",
       "\n",
       "    .dataframe thead th {\n",
       "        text-align: right;\n",
       "    }\n",
       "</style>\n",
       "<table border=\"1\" class=\"dataframe\">\n",
       "  <thead>\n",
       "    <tr style=\"text-align: right;\">\n",
       "      <th></th>\n",
       "      <th>Country</th>\n",
       "      <th>Region</th>\n",
       "      <th>t_change</th>\n",
       "      <th>av_prec_mm_per_year</th>\n",
       "      <th>forest_area_ha</th>\n",
       "      <th>burned_area_ha</th>\n",
       "      <th>ratio_burn</th>\n",
       "      <th>gdp_per_capita_dollars</th>\n",
       "      <th>gdp_level</th>\n",
       "    </tr>\n",
       "    <tr>\n",
       "      <th>iso</th>\n",
       "      <th></th>\n",
       "      <th></th>\n",
       "      <th></th>\n",
       "      <th></th>\n",
       "      <th></th>\n",
       "      <th></th>\n",
       "      <th></th>\n",
       "      <th></th>\n",
       "      <th></th>\n",
       "    </tr>\n",
       "  </thead>\n",
       "  <tbody>\n",
       "    <tr>\n",
       "      <th>BLZ</th>\n",
       "      <td>Belize</td>\n",
       "      <td>Americas</td>\n",
       "      <td>1.08</td>\n",
       "      <td>1705.0</td>\n",
       "      <td>1.749727e+07</td>\n",
       "      <td>47339.90</td>\n",
       "      <td>0.002706</td>\n",
       "      <td>4435.621154</td>\n",
       "      <td>3</td>\n",
       "    </tr>\n",
       "    <tr>\n",
       "      <th>BTN</th>\n",
       "      <td>Bhutan</td>\n",
       "      <td>Asia</td>\n",
       "      <td>1.05</td>\n",
       "      <td>2200.0</td>\n",
       "      <td>3.101037e+07</td>\n",
       "      <td>32671.79</td>\n",
       "      <td>0.001054</td>\n",
       "      <td>3122.376062</td>\n",
       "      <td>3</td>\n",
       "    </tr>\n",
       "    <tr>\n",
       "      <th>GTM</th>\n",
       "      <td>Guatemala</td>\n",
       "      <td>Americas</td>\n",
       "      <td>1.05</td>\n",
       "      <td>1996.0</td>\n",
       "      <td>8.732079e+07</td>\n",
       "      <td>377429.44</td>\n",
       "      <td>0.004322</td>\n",
       "      <td>4603.339617</td>\n",
       "      <td>3</td>\n",
       "    </tr>\n",
       "    <tr>\n",
       "      <th>SLV</th>\n",
       "      <td>El Salvador</td>\n",
       "      <td>Americas</td>\n",
       "      <td>1.03</td>\n",
       "      <td>1784.0</td>\n",
       "      <td>1.633818e+07</td>\n",
       "      <td>58169.04</td>\n",
       "      <td>0.003560</td>\n",
       "      <td>3798.636521</td>\n",
       "      <td>3</td>\n",
       "    </tr>\n",
       "    <tr>\n",
       "      <th>THA</th>\n",
       "      <td>Thailand</td>\n",
       "      <td>Asia</td>\n",
       "      <td>1.18</td>\n",
       "      <td>1622.0</td>\n",
       "      <td>4.112436e+08</td>\n",
       "      <td>3756909.35</td>\n",
       "      <td>0.009135</td>\n",
       "      <td>7189.041835</td>\n",
       "      <td>3</td>\n",
       "    </tr>\n",
       "    <tr>\n",
       "      <th>PRY</th>\n",
       "      <td>Paraguay</td>\n",
       "      <td>Americas</td>\n",
       "      <td>0.99</td>\n",
       "      <td>1130.0</td>\n",
       "      <td>3.196693e+08</td>\n",
       "      <td>937657.83</td>\n",
       "      <td>0.002933</td>\n",
       "      <td>4949.749700</td>\n",
       "      <td>3</td>\n",
       "    </tr>\n",
       "    <tr>\n",
       "      <th>COL</th>\n",
       "      <td>Colombia</td>\n",
       "      <td>Americas</td>\n",
       "      <td>0.89</td>\n",
       "      <td>3240.0</td>\n",
       "      <td>9.094070e+08</td>\n",
       "      <td>2841056.56</td>\n",
       "      <td>0.003124</td>\n",
       "      <td>5332.773524</td>\n",
       "      <td>3</td>\n",
       "    </tr>\n",
       "  </tbody>\n",
       "</table>\n",
       "</div>"
      ],
      "text/plain": [
       "         Country    Region  t_change  av_prec_mm_per_year  forest_area_ha  \\\n",
       "iso                                                                         \n",
       "BLZ       Belize  Americas      1.08               1705.0    1.749727e+07   \n",
       "BTN       Bhutan      Asia      1.05               2200.0    3.101037e+07   \n",
       "GTM    Guatemala  Americas      1.05               1996.0    8.732079e+07   \n",
       "SLV  El Salvador  Americas      1.03               1784.0    1.633818e+07   \n",
       "THA     Thailand      Asia      1.18               1622.0    4.112436e+08   \n",
       "PRY     Paraguay  Americas      0.99               1130.0    3.196693e+08   \n",
       "COL     Colombia  Americas      0.89               3240.0    9.094070e+08   \n",
       "\n",
       "     burned_area_ha  ratio_burn  gdp_per_capita_dollars  gdp_level  \n",
       "iso                                                                 \n",
       "BLZ        47339.90    0.002706             4435.621154          3  \n",
       "BTN        32671.79    0.001054             3122.376062          3  \n",
       "GTM       377429.44    0.004322             4603.339617          3  \n",
       "SLV        58169.04    0.003560             3798.636521          3  \n",
       "THA      3756909.35    0.009135             7189.041835          3  \n",
       "PRY       937657.83    0.002933             4949.749700          3  \n",
       "COL      2841056.56    0.003124             5332.773524          3  "
      ]
     },
     "execution_count": 53,
     "metadata": {},
     "output_type": "execute_result"
    }
   ],
   "source": [
    "df.loc[inter3]"
   ]
  },
  {
   "cell_type": "code",
   "execution_count": 54,
   "metadata": {},
   "outputs": [
    {
     "data": {
      "image/png": "[encoded data removed]",
      "text/plain": [
       "<Figure size 432x288 with 1 Axes>"
      ]
     },
     "metadata": {},
     "output_type": "display_data"
    }
   ],
   "source": [
    "plt.figure(figsize=(6,4))\n",
    "venn3([set_high_burn, set_not_large_t_change, set_not_low_prec],\n",
    "      set_labels=('High burn', 'Low Temp change', 'Not low prec'),\n",
    "      alpha=0.5)\n",
    "plt.title('Level 3 countries with excessive fires', fontsize=16)\n",
    "plt.show()"
   ]
  },
  {
   "cell_type": "markdown",
   "metadata": {},
   "source": [
    "# Conclusion for level 3:\n",
    "* Lack of precipitation removed only Mexico from the list.\n",
    "* UN general law department might want to have a deeper look into these 7 countries."
   ]
  },
  {
   "cell_type": "markdown",
   "metadata": {},
   "source": [
    "# Level 4 countries analysis"
   ]
  },
  {
   "cell_type": "code",
   "execution_count": 55,
   "metadata": {},
   "outputs": [],
   "source": [
    "df_l4 = df[df['gdp_level']==4]"
   ]
  },
  {
   "cell_type": "code",
   "execution_count": 56,
   "metadata": {},
   "outputs": [],
   "source": [
    "# forest burned\n",
    "high_burn_limit = df_l4.ratio_burn.quantile(0.7)\n",
    "high_burn_df = df_l4[df_l4.ratio_burn > high_burn_limit]\n",
    "set_high_burn = set(high_burn_df.index)"
   ]
  },
  {
   "cell_type": "code",
   "execution_count": 57,
   "metadata": {},
   "outputs": [],
   "source": [
    "# not high temperature change\n",
    "t_change_limit = df_l4.t_change.quantile(0.5)\n",
    "not_large_t_change_df = df_l4[df_l4.t_change < t_change_limit]\n",
    "set_not_large_t_change = set(not_large_t_change_df.index)"
   ]
  },
  {
   "cell_type": "code",
   "execution_count": 58,
   "metadata": {},
   "outputs": [],
   "source": [
    "# not low precipitation\n",
    "prec_limit = df_l4.av_prec_mm_per_year.quantile(0.5)\n",
    "not_low_prec_df = df_l4[df_l4.av_prec_mm_per_year > prec_limit]\n",
    "set_not_low_prec = set(not_low_prec_df.index)"
   ]
  },
  {
   "cell_type": "code",
   "execution_count": 59,
   "metadata": {},
   "outputs": [],
   "source": [
    "inter2 = set_high_burn.intersection(set_not_large_t_change)"
   ]
  },
  {
   "cell_type": "code",
   "execution_count": 60,
   "metadata": {},
   "outputs": [
    {
     "data": {
      "text/html": [
       "<div>\n",
       "<style scoped>\n",
       "    .dataframe tbody tr th:only-of-type {\n",
       "        vertical-align: middle;\n",
       "    }\n",
       "\n",
       "    .dataframe tbody tr th {\n",
       "        vertical-align: top;\n",
       "    }\n",
       "\n",
       "    .dataframe thead th {\n",
       "        text-align: right;\n",
       "    }\n",
       "</style>\n",
       "<table border=\"1\" class=\"dataframe\">\n",
       "  <thead>\n",
       "    <tr style=\"text-align: right;\">\n",
       "      <th></th>\n",
       "      <th>Country</th>\n",
       "      <th>Region</th>\n",
       "      <th>t_change</th>\n",
       "      <th>av_prec_mm_per_year</th>\n",
       "      <th>forest_area_ha</th>\n",
       "      <th>burned_area_ha</th>\n",
       "      <th>ratio_burn</th>\n",
       "      <th>gdp_per_capita_dollars</th>\n",
       "      <th>gdp_level</th>\n",
       "    </tr>\n",
       "    <tr>\n",
       "      <th>iso</th>\n",
       "      <th></th>\n",
       "      <th></th>\n",
       "      <th></th>\n",
       "      <th></th>\n",
       "      <th></th>\n",
       "      <th></th>\n",
       "      <th></th>\n",
       "      <th></th>\n",
       "      <th></th>\n",
       "    </tr>\n",
       "  </thead>\n",
       "  <tbody>\n",
       "    <tr>\n",
       "      <th>AUS</th>\n",
       "      <td>Australia</td>\n",
       "      <td>Oceania</td>\n",
       "      <td>1.11</td>\n",
       "      <td>534.0</td>\n",
       "      <td>6.150331e+09</td>\n",
       "      <td>6922165.61</td>\n",
       "      <td>0.001125</td>\n",
       "      <td>51812.154037</td>\n",
       "      <td>4</td>\n",
       "    </tr>\n",
       "    <tr>\n",
       "      <th>TTO</th>\n",
       "      <td>Trinidad and Tobago</td>\n",
       "      <td>Americas</td>\n",
       "      <td>0.74</td>\n",
       "      <td>2200.0</td>\n",
       "      <td>4.127197e+06</td>\n",
       "      <td>2488.69</td>\n",
       "      <td>0.000603</td>\n",
       "      <td>15384.039461</td>\n",
       "      <td>4</td>\n",
       "    </tr>\n",
       "    <tr>\n",
       "      <th>CHL</th>\n",
       "      <td>Chile</td>\n",
       "      <td>Americas</td>\n",
       "      <td>0.56</td>\n",
       "      <td>1522.0</td>\n",
       "      <td>6.058823e+08</td>\n",
       "      <td>247340.21</td>\n",
       "      <td>0.000408</td>\n",
       "      <td>13231.704207</td>\n",
       "      <td>4</td>\n",
       "    </tr>\n",
       "    <tr>\n",
       "      <th>CRI</th>\n",
       "      <td>Costa Rica</td>\n",
       "      <td>Americas</td>\n",
       "      <td>0.93</td>\n",
       "      <td>2926.0</td>\n",
       "      <td>4.094133e+07</td>\n",
       "      <td>138181.27</td>\n",
       "      <td>0.003375</td>\n",
       "      <td>12076.814514</td>\n",
       "      <td>4</td>\n",
       "    </tr>\n",
       "    <tr>\n",
       "      <th>PAN</th>\n",
       "      <td>Panama</td>\n",
       "      <td>Americas</td>\n",
       "      <td>0.88</td>\n",
       "      <td>2928.0</td>\n",
       "      <td>6.008336e+07</td>\n",
       "      <td>164219.79</td>\n",
       "      <td>0.002733</td>\n",
       "      <td>12269.048996</td>\n",
       "      <td>4</td>\n",
       "    </tr>\n",
       "  </tbody>\n",
       "</table>\n",
       "</div>"
      ],
      "text/plain": [
       "                 Country    Region  t_change  av_prec_mm_per_year  \\\n",
       "iso                                                                 \n",
       "AUS            Australia   Oceania      1.11                534.0   \n",
       "TTO  Trinidad and Tobago  Americas      0.74               2200.0   \n",
       "CHL                Chile  Americas      0.56               1522.0   \n",
       "CRI           Costa Rica  Americas      0.93               2926.0   \n",
       "PAN               Panama  Americas      0.88               2928.0   \n",
       "\n",
       "     forest_area_ha  burned_area_ha  ratio_burn  gdp_per_capita_dollars  \\\n",
       "iso                                                                       \n",
       "AUS    6.150331e+09      6922165.61    0.001125            51812.154037   \n",
       "TTO    4.127197e+06         2488.69    0.000603            15384.039461   \n",
       "CHL    6.058823e+08       247340.21    0.000408            13231.704207   \n",
       "CRI    4.094133e+07       138181.27    0.003375            12076.814514   \n",
       "PAN    6.008336e+07       164219.79    0.002733            12269.048996   \n",
       "\n",
       "     gdp_level  \n",
       "iso             \n",
       "AUS          4  \n",
       "TTO          4  \n",
       "CHL          4  \n",
       "CRI          4  \n",
       "PAN          4  "
      ]
     },
     "execution_count": 60,
     "metadata": {},
     "output_type": "execute_result"
    }
   ],
   "source": [
    "df.loc[inter2]"
   ]
  },
  {
   "cell_type": "code",
   "execution_count": 61,
   "metadata": {},
   "outputs": [],
   "source": [
    "inter3 = set_high_burn.intersection(set_not_large_t_change).intersection(set_not_low_prec)"
   ]
  },
  {
   "cell_type": "code",
   "execution_count": 62,
   "metadata": {},
   "outputs": [
    {
     "data": {
      "text/html": [
       "<div>\n",
       "<style scoped>\n",
       "    .dataframe tbody tr th:only-of-type {\n",
       "        vertical-align: middle;\n",
       "    }\n",
       "\n",
       "    .dataframe tbody tr th {\n",
       "        vertical-align: top;\n",
       "    }\n",
       "\n",
       "    .dataframe thead th {\n",
       "        text-align: right;\n",
       "    }\n",
       "</style>\n",
       "<table border=\"1\" class=\"dataframe\">\n",
       "  <thead>\n",
       "    <tr style=\"text-align: right;\">\n",
       "      <th></th>\n",
       "      <th>Country</th>\n",
       "      <th>Region</th>\n",
       "      <th>t_change</th>\n",
       "      <th>av_prec_mm_per_year</th>\n",
       "      <th>forest_area_ha</th>\n",
       "      <th>burned_area_ha</th>\n",
       "      <th>ratio_burn</th>\n",
       "      <th>gdp_per_capita_dollars</th>\n",
       "      <th>gdp_level</th>\n",
       "    </tr>\n",
       "    <tr>\n",
       "      <th>iso</th>\n",
       "      <th></th>\n",
       "      <th></th>\n",
       "      <th></th>\n",
       "      <th></th>\n",
       "      <th></th>\n",
       "      <th></th>\n",
       "      <th></th>\n",
       "      <th></th>\n",
       "      <th></th>\n",
       "    </tr>\n",
       "  </thead>\n",
       "  <tbody>\n",
       "    <tr>\n",
       "      <th>PAN</th>\n",
       "      <td>Panama</td>\n",
       "      <td>Americas</td>\n",
       "      <td>0.88</td>\n",
       "      <td>2928.0</td>\n",
       "      <td>6.008336e+07</td>\n",
       "      <td>164219.79</td>\n",
       "      <td>0.002733</td>\n",
       "      <td>12269.048996</td>\n",
       "      <td>4</td>\n",
       "    </tr>\n",
       "    <tr>\n",
       "      <th>CRI</th>\n",
       "      <td>Costa Rica</td>\n",
       "      <td>Americas</td>\n",
       "      <td>0.93</td>\n",
       "      <td>2926.0</td>\n",
       "      <td>4.094133e+07</td>\n",
       "      <td>138181.27</td>\n",
       "      <td>0.003375</td>\n",
       "      <td>12076.814514</td>\n",
       "      <td>4</td>\n",
       "    </tr>\n",
       "    <tr>\n",
       "      <th>TTO</th>\n",
       "      <td>Trinidad and Tobago</td>\n",
       "      <td>Americas</td>\n",
       "      <td>0.74</td>\n",
       "      <td>2200.0</td>\n",
       "      <td>4.127197e+06</td>\n",
       "      <td>2488.69</td>\n",
       "      <td>0.000603</td>\n",
       "      <td>15384.039461</td>\n",
       "      <td>4</td>\n",
       "    </tr>\n",
       "    <tr>\n",
       "      <th>CHL</th>\n",
       "      <td>Chile</td>\n",
       "      <td>Americas</td>\n",
       "      <td>0.56</td>\n",
       "      <td>1522.0</td>\n",
       "      <td>6.058823e+08</td>\n",
       "      <td>247340.21</td>\n",
       "      <td>0.000408</td>\n",
       "      <td>13231.704207</td>\n",
       "      <td>4</td>\n",
       "    </tr>\n",
       "  </tbody>\n",
       "</table>\n",
       "</div>"
      ],
      "text/plain": [
       "                 Country    Region  t_change  av_prec_mm_per_year  \\\n",
       "iso                                                                 \n",
       "PAN               Panama  Americas      0.88               2928.0   \n",
       "CRI           Costa Rica  Americas      0.93               2926.0   \n",
       "TTO  Trinidad and Tobago  Americas      0.74               2200.0   \n",
       "CHL                Chile  Americas      0.56               1522.0   \n",
       "\n",
       "     forest_area_ha  burned_area_ha  ratio_burn  gdp_per_capita_dollars  \\\n",
       "iso                                                                       \n",
       "PAN    6.008336e+07       164219.79    0.002733            12269.048996   \n",
       "CRI    4.094133e+07       138181.27    0.003375            12076.814514   \n",
       "TTO    4.127197e+06         2488.69    0.000603            15384.039461   \n",
       "CHL    6.058823e+08       247340.21    0.000408            13231.704207   \n",
       "\n",
       "     gdp_level  \n",
       "iso             \n",
       "PAN          4  \n",
       "CRI          4  \n",
       "TTO          4  \n",
       "CHL          4  "
      ]
     },
     "execution_count": 62,
     "metadata": {},
     "output_type": "execute_result"
    }
   ],
   "source": [
    "df.loc[inter3]"
   ]
  },
  {
   "cell_type": "code",
   "execution_count": 63,
   "metadata": {},
   "outputs": [
    {
     "data": {
      "image/png": "[encoded data removed]",
      "text/plain": [
       "<Figure size 432x288 with 1 Axes>"
      ]
     },
     "metadata": {},
     "output_type": "display_data"
    }
   ],
   "source": [
    "plt.figure(figsize=(6,4))\n",
    "venn3([set_high_burn, set_not_large_t_change, set_not_low_prec],\n",
    "      set_labels=('High burn', 'Low Temp change', 'Not low prec'),\n",
    "      alpha=0.5)\n",
    "plt.title('Level 4 countries with excessive fires', fontsize=16)\n",
    "plt.show()"
   ]
  },
  {
   "cell_type": "markdown",
   "metadata": {},
   "source": [
    "# Conclusion for level 4:\n",
    "* Central America seems to have potential to reduce forest fires.\n",
    "* Or maybe there is something more specific going on there?\n",
    "* I do not know enough about central America, so let me know your thoughts."
   ]
  },
  {
   "cell_type": "markdown",
   "metadata": {},
   "source": [
    "# Conclusions:\n",
    "* You have learnt a lot in this exercise, especially about the power of working with tables using pandas module\n",
    "* And doing it with real world data, compiled from various sources.\n",
    "* As life itself, it is an open end problem, if you have ides how to improve what we have done, it could actually save lives.\n",
    "---\n",
    "# GOOD job everyone!!!"
   ]
  },
  {
   "cell_type": "code",
   "execution_count": null,
   "metadata": {},
   "outputs": [],
   "source": []
  }
 ],
 "metadata": {
  "kernelspec": {
   "display_name": "web_scrape_fin",
   "language": "python",
   "name": "web_scrape_fin"
  },
  "language_info": {
   "codemirror_mode": {
    "name": "ipython",
    "version": 3
   },
   "file_extension": ".py",
   "mimetype": "text/x-python",
   "name": "python",
   "nbconvert_exporter": "python",
   "pygments_lexer": "ipython3",
   "version": "3.7.1"
  }
 },
 "nbformat": 4,
 "nbformat_minor": 4
}
