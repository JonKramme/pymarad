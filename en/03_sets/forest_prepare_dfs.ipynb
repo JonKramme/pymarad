{
 "cells": [
  {
   "cell_type": "code",
   "execution_count": 3,
   "metadata": {},
   "outputs": [],
   "source": [
    "# imports of modules we need\n",
    "import pandas as pd\n",
    "import datapackage\n",
    "import wbgapi as wb"
   ]
  },
  {
   "cell_type": "markdown",
   "metadata": {},
   "source": [
    "# Define functions which manipulate statistics data tables from various sources"
   ]
  },
  {
   "cell_type": "code",
   "execution_count": 4,
   "metadata": {},
   "outputs": [],
   "source": [
    "def iso_codes():\n",
    "    '''Download iso codes and continent for all countries.'''\n",
    "    # iso codes and country names\n",
    "    data_url = 'https://datahub.io/core/country-codes/datapackage.json'\n",
    "    package = datapackage.Package(data_url)\n",
    "    resources = package.resources\n",
    "    for resource in resources:\n",
    "        if resource.tabular:\n",
    "            codes = pd.read_csv(resource.descriptor['path'])\n",
    "    iso_dict = dict(zip(codes['ISO3166-1-Alpha-3'],\n",
    "                        codes['UNTERM English Short']))\n",
    "    iso_df = pd.DataFrame.from_dict(iso_dict,\n",
    "                                    orient='index',\n",
    "                                    columns=['Country'])\n",
    "    iso_df.index.names=['iso']\n",
    "    # continent info\n",
    "    continent_dict = dict(zip(codes['ISO3166-1-Alpha-3'],\n",
    "                              codes['Region Name']))\n",
    "    continent_df = pd.DataFrame.from_dict(continent_dict,\n",
    "                                          orient='index',\n",
    "                                          columns=['Region'])\n",
    "    return iso_df, continent_df\n",
    "\n",
    "def forests():\n",
    "    ''' \n",
    "    Load Global Forest Watch data on burned areas and \n",
    "    total forest areas per country.\n",
    "    '''\n",
    "    # burned area, per weeks, so sum up to get yearly data\n",
    "    df = pd.read_csv('../../resource/GFW_Global_regions_with_the_most_burned_area/modis_burned_area__ha.csv')\n",
    "    iso = df.iso.unique()  # iso codes\n",
    "    df = df.groupby('iso').sum()  # sum over country (rows of table with the same country iso code)\n",
    "    df.drop(columns=['alert__year', 'alert__week'], inplace=True)  # drop unnecessary columns\n",
    "    df.rename(columns={'burned_area__ha': 'burned_area_ha'}, inplace=True)\n",
    "    \n",
    "    # adding total forest area per country\n",
    "    forest_area = pd.read_csv('../../resource/GFW_Global_regions_with_the_most_burned_area/treecover_extent_in__by_region__ha.csv')\n",
    "    \n",
    "    df['forest_area_ha'] = 0\n",
    "    for i in iso:\n",
    "        df.loc[i, 'forest_area_ha'] = float(forest_area[forest_area['iso']==i].area__ha)\n",
    "    return df\n",
    "\n",
    "def t_change():\n",
    "    '''\n",
    "    Temperature change in respect to years 1951-1980\n",
    "    Averaging years 2012-2020 to get single number per country'''\n",
    "    t_change = pd.read_csv('../../resource/t_change/Environment_Temperature_change_E_All_Data.csv',\n",
    "                           encoding='ISO-8859-1')\n",
    "    dt = t_change.groupby(by=['Area', 'Element']).mean()\n",
    "    dt = dt.drop(columns=['Area Code', 'Months Code', 'Element Code'])\n",
    "    dt = dt[['Y2012', 'Y2013', 'Y2014', 'Y2015', 'Y2016', 'Y2017', 'Y2018', 'Y2019', 'Y2020']]\n",
    "    dt = dt.reset_index()\n",
    "    dt = dt.set_index('Area')\n",
    "    dt = dt[dt['Element']== 'Temperature change'].mean(axis=1)\n",
    "    dt_df = dt.to_frame(name='t_change')\n",
    "    dt_df.index.names=['Country']\n",
    "    return dt_df\n",
    "\n",
    "def precipitation():\n",
    "    '''\n",
    "    Precipitation data in mm/year for each country\n",
    "    '''\n",
    "    prec = pd.read_csv('../../resource/average-precipitation-per-year.csv')\n",
    "    prec = prec.groupby('Code').mean()\n",
    "    prec = prec.drop(columns=['Year'])\n",
    "    prec.columns = ['av_prec_mm_per_year']\n",
    "    return prec\n",
    "\n",
    "\n",
    "def combine_dfs(dfs, on='iso'):\n",
    "    '''\n",
    "    Join pandas Dataframes for countries, which are\n",
    "    indexed by countries iso codes.\n",
    "    '''\n",
    "    total = dfs[0].join(dfs[1], on=on)\n",
    "    for i in range(2,len(dfs)):\n",
    "        total = total.join(dfs[i], on=on)\n",
    "    return total\n",
    "\n"
   ]
  },
  {
   "cell_type": "markdown",
   "metadata": {},
   "source": [
    "# Generating tables (pandas DataFrames) "
   ]
  },
  {
   "cell_type": "code",
   "execution_count": 5,
   "metadata": {},
   "outputs": [],
   "source": [
    "iso_df, continent_df = iso_codes()"
   ]
  },
  {
   "cell_type": "code",
   "execution_count": 6,
   "metadata": {},
   "outputs": [],
   "source": [
    "forest = forests()\n",
    "dt = t_change()\n",
    "dt = iso_df.join(dt, on='Country')\n",
    "dt = dt.drop(columns=['Country'])\n",
    "prec = precipitation()"
   ]
  },
  {
   "cell_type": "markdown",
   "metadata": {},
   "source": [
    "# Combining all DataFrames into a single one"
   ]
  },
  {
   "cell_type": "code",
   "execution_count": 7,
   "metadata": {},
   "outputs": [],
   "source": [
    "df = combine_dfs((forest, iso_df, continent_df, dt, prec), on='iso')"
   ]
  },
  {
   "cell_type": "code",
   "execution_count": 8,
   "metadata": {},
   "outputs": [
    {
     "data": {
      "text/html": [
       "<div>\n",
       "<style scoped>\n",
       "    .dataframe tbody tr th:only-of-type {\n",
       "        vertical-align: middle;\n",
       "    }\n",
       "\n",
       "    .dataframe tbody tr th {\n",
       "        vertical-align: top;\n",
       "    }\n",
       "\n",
       "    .dataframe thead th {\n",
       "        text-align: right;\n",
       "    }\n",
       "</style>\n",
       "<table border=\"1\" class=\"dataframe\">\n",
       "  <thead>\n",
       "    <tr style=\"text-align: right;\">\n",
       "      <th></th>\n",
       "      <th>burned_area_ha</th>\n",
       "      <th>forest_area_ha</th>\n",
       "      <th>Country</th>\n",
       "      <th>Region</th>\n",
       "      <th>t_change</th>\n",
       "      <th>av_prec_mm_per_year</th>\n",
       "    </tr>\n",
       "    <tr>\n",
       "      <th>iso</th>\n",
       "      <th></th>\n",
       "      <th></th>\n",
       "      <th></th>\n",
       "      <th></th>\n",
       "      <th></th>\n",
       "      <th></th>\n",
       "    </tr>\n",
       "  </thead>\n",
       "  <tbody>\n",
       "    <tr>\n",
       "      <th>AFG</th>\n",
       "      <td>3.737909e+03</td>\n",
       "      <td>5.150857e+08</td>\n",
       "      <td>Afghanistan</td>\n",
       "      <td>Asia</td>\n",
       "      <td>1.107725</td>\n",
       "      <td>327.0</td>\n",
       "    </tr>\n",
       "    <tr>\n",
       "      <th>AGO</th>\n",
       "      <td>8.027034e+05</td>\n",
       "      <td>9.979384e+08</td>\n",
       "      <td>Angola</td>\n",
       "      <td>Africa</td>\n",
       "      <td>1.151922</td>\n",
       "      <td>1010.0</td>\n",
       "    </tr>\n",
       "    <tr>\n",
       "      <th>ALB</th>\n",
       "      <td>5.537902e+02</td>\n",
       "      <td>2.298830e+07</td>\n",
       "      <td>Albania</td>\n",
       "      <td>Europe</td>\n",
       "      <td>1.646248</td>\n",
       "      <td>1485.0</td>\n",
       "    </tr>\n",
       "    <tr>\n",
       "      <th>ARE</th>\n",
       "      <td>3.873991e+02</td>\n",
       "      <td>5.696358e+07</td>\n",
       "      <td>United Arab Emirates (the)</td>\n",
       "      <td>Asia</td>\n",
       "      <td>NaN</td>\n",
       "      <td>78.0</td>\n",
       "    </tr>\n",
       "    <tr>\n",
       "      <th>ARG</th>\n",
       "      <td>1.283496e+06</td>\n",
       "      <td>2.224081e+09</td>\n",
       "      <td>Argentina</td>\n",
       "      <td>Americas</td>\n",
       "      <td>0.754660</td>\n",
       "      <td>591.0</td>\n",
       "    </tr>\n",
       "  </tbody>\n",
       "</table>\n",
       "</div>"
      ],
      "text/plain": [
       "     burned_area_ha  forest_area_ha                     Country    Region  \\\n",
       "iso                                                                         \n",
       "AFG    3.737909e+03    5.150857e+08                 Afghanistan      Asia   \n",
       "AGO    8.027034e+05    9.979384e+08                      Angola    Africa   \n",
       "ALB    5.537902e+02    2.298830e+07                     Albania    Europe   \n",
       "ARE    3.873991e+02    5.696358e+07  United Arab Emirates (the)      Asia   \n",
       "ARG    1.283496e+06    2.224081e+09                   Argentina  Americas   \n",
       "\n",
       "     t_change  av_prec_mm_per_year  \n",
       "iso                                 \n",
       "AFG  1.107725                327.0  \n",
       "AGO  1.151922               1010.0  \n",
       "ALB  1.646248               1485.0  \n",
       "ARE       NaN                 78.0  \n",
       "ARG  0.754660                591.0  "
      ]
     },
     "execution_count": 8,
     "metadata": {},
     "output_type": "execute_result"
    }
   ],
   "source": [
    "df.head()"
   ]
  },
  {
   "cell_type": "code",
   "execution_count": 9,
   "metadata": {},
   "outputs": [
    {
     "data": {
      "text/plain": [
       "148"
      ]
     },
     "execution_count": 9,
     "metadata": {},
     "output_type": "execute_result"
    }
   ],
   "source": [
    "# We are missing some data inputs already\n",
    "len(df)"
   ]
  },
  {
   "cell_type": "code",
   "execution_count": 10,
   "metadata": {},
   "outputs": [],
   "source": [
    "# Dropping any countries where any data is missing (marked as NaN)\n",
    "df = df.dropna()"
   ]
  },
  {
   "cell_type": "code",
   "execution_count": 11,
   "metadata": {},
   "outputs": [
    {
     "data": {
      "text/plain": [
       "120"
      ]
     },
     "execution_count": 11,
     "metadata": {},
     "output_type": "execute_result"
    }
   ],
   "source": [
    "# left only with 60% of world's countries.\n",
    "len(df)"
   ]
  },
  {
   "cell_type": "markdown",
   "metadata": {},
   "source": [
    "# Cosmetic changes and saving"
   ]
  },
  {
   "cell_type": "code",
   "execution_count": 12,
   "metadata": {},
   "outputs": [],
   "source": [
    "# data rounding\n",
    "df = df.round(2)"
   ]
  },
  {
   "cell_type": "code",
   "execution_count": 13,
   "metadata": {},
   "outputs": [],
   "source": [
    "# reorganize column order\n",
    "df = df[['Country', 'Region', 't_change', 'av_prec_mm_per_year', 'forest_area_ha', 'burned_area_ha']]"
   ]
  },
  {
   "cell_type": "code",
   "execution_count": 14,
   "metadata": {},
   "outputs": [],
   "source": [
    "# save table in .csv format\n",
    "df.to_csv('data_fires.csv')"
   ]
  },
  {
   "cell_type": "code",
   "execution_count": 15,
   "metadata": {},
   "outputs": [
    {
     "data": {
      "text/html": [
       "<div>\n",
       "<style scoped>\n",
       "    .dataframe tbody tr th:only-of-type {\n",
       "        vertical-align: middle;\n",
       "    }\n",
       "\n",
       "    .dataframe tbody tr th {\n",
       "        vertical-align: top;\n",
       "    }\n",
       "\n",
       "    .dataframe thead th {\n",
       "        text-align: right;\n",
       "    }\n",
       "</style>\n",
       "<table border=\"1\" class=\"dataframe\">\n",
       "  <thead>\n",
       "    <tr style=\"text-align: right;\">\n",
       "      <th></th>\n",
       "      <th>Country</th>\n",
       "      <th>Region</th>\n",
       "      <th>t_change</th>\n",
       "      <th>av_prec_mm_per_year</th>\n",
       "      <th>forest_area_ha</th>\n",
       "      <th>burned_area_ha</th>\n",
       "    </tr>\n",
       "    <tr>\n",
       "      <th>iso</th>\n",
       "      <th></th>\n",
       "      <th></th>\n",
       "      <th></th>\n",
       "      <th></th>\n",
       "      <th></th>\n",
       "      <th></th>\n",
       "    </tr>\n",
       "  </thead>\n",
       "  <tbody>\n",
       "    <tr>\n",
       "      <th>AFG</th>\n",
       "      <td>Afghanistan</td>\n",
       "      <td>Asia</td>\n",
       "      <td>1.11</td>\n",
       "      <td>327.0</td>\n",
       "      <td>5.150857e+08</td>\n",
       "      <td>3737.91</td>\n",
       "    </tr>\n",
       "    <tr>\n",
       "      <th>AGO</th>\n",
       "      <td>Angola</td>\n",
       "      <td>Africa</td>\n",
       "      <td>1.15</td>\n",
       "      <td>1010.0</td>\n",
       "      <td>9.979384e+08</td>\n",
       "      <td>802703.37</td>\n",
       "    </tr>\n",
       "    <tr>\n",
       "      <th>ALB</th>\n",
       "      <td>Albania</td>\n",
       "      <td>Europe</td>\n",
       "      <td>1.65</td>\n",
       "      <td>1485.0</td>\n",
       "      <td>2.298830e+07</td>\n",
       "      <td>553.79</td>\n",
       "    </tr>\n",
       "    <tr>\n",
       "      <th>ARG</th>\n",
       "      <td>Argentina</td>\n",
       "      <td>Americas</td>\n",
       "      <td>0.75</td>\n",
       "      <td>591.0</td>\n",
       "      <td>2.224081e+09</td>\n",
       "      <td>1283496.22</td>\n",
       "    </tr>\n",
       "    <tr>\n",
       "      <th>ARM</th>\n",
       "      <td>Armenia</td>\n",
       "      <td>Asia</td>\n",
       "      <td>1.61</td>\n",
       "      <td>562.0</td>\n",
       "      <td>2.375207e+07</td>\n",
       "      <td>1776.87</td>\n",
       "    </tr>\n",
       "  </tbody>\n",
       "</table>\n",
       "</div>"
      ],
      "text/plain": [
       "         Country    Region  t_change  av_prec_mm_per_year  forest_area_ha  \\\n",
       "iso                                                                         \n",
       "AFG  Afghanistan      Asia      1.11                327.0    5.150857e+08   \n",
       "AGO       Angola    Africa      1.15               1010.0    9.979384e+08   \n",
       "ALB      Albania    Europe      1.65               1485.0    2.298830e+07   \n",
       "ARG    Argentina  Americas      0.75                591.0    2.224081e+09   \n",
       "ARM      Armenia      Asia      1.61                562.0    2.375207e+07   \n",
       "\n",
       "     burned_area_ha  \n",
       "iso                  \n",
       "AFG         3737.91  \n",
       "AGO       802703.37  \n",
       "ALB          553.79  \n",
       "ARG      1283496.22  \n",
       "ARM         1776.87  "
      ]
     },
     "execution_count": 15,
     "metadata": {},
     "output_type": "execute_result"
    }
   ],
   "source": [
    "# preview of the first 5 rows\n",
    "df.head()"
   ]
  },
  {
   "cell_type": "code",
   "execution_count": null,
   "metadata": {},
   "outputs": [],
   "source": []
  }
 ],
 "metadata": {
  "kernelspec": {
   "display_name": "web_scrape_fin",
   "language": "python",
   "name": "web_scrape_fin"
  },
  "language_info": {
   "codemirror_mode": {
    "name": "ipython",
    "version": 3
   },
   "file_extension": ".py",
   "mimetype": "text/x-python",
   "name": "python",
   "nbconvert_exporter": "python",
   "pygments_lexer": "ipython3",
   "version": "3.7.1"
  }
 },
 "nbformat": 4,
 "nbformat_minor": 4
}
