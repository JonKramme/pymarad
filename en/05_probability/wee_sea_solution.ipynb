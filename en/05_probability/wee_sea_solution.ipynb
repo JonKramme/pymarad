{
 "cells": [
  {
   "cell_type": "markdown",
   "metadata": {},
   "source": [
    "# Did you pee in the sea?\n",
    "* Topics: Chemistry, water molecules of the world, binomial probability, Avogadro constant, isotopes, unit conversion, for loops in Python, `scipy.stats` module\n",
    "\n",
    "## Task\n",
    "* Even if you have never involved yourself in this polluting and abominable activity, I swear that thousands if not millions are doing it right now.\n",
    "* The chemistry experiment goes like this.\n",
    "  1. You pee in the glass (300 ml) and pour it in the ocean\n",
    "  2. Then you wait until your pee perfectly mixes in all the oceans of the world (This would take impossibly long, so we just assume the perfect mixing).\n",
    "  3. And then you draw the same glass of water from the sea.\n",
    "\n",
    "\n",
    "## Questions\n",
    "* What is the average number of molecules of your pee in that glass of water?\n",
    "* What is the probability of having more than 2300 molecules of your pee in the glass?\n",
    "* If you take one of the strongest poisons we know of, $\\mathrm{^{210}Po}$, how many atoms in the glass will kill you?"
   ]
  },
  {
   "cell_type": "markdown",
   "metadata": {},
   "source": [
    "---\n",
    "---\n",
    "# In case this is your first Jupyter Notebook:\n",
    "* Every cell is executed with `Shift-Enter`, once your cursor is in it.\n",
    "* After successul run, a serial number of the execution will appear on the left from the cell\n",
    "* For cell execution and creation of a new cell below, use `Alt-Enter`.\n",
    "* Any text after a # symbol is a comment (to annotate your code) and it is ignored by Python\n",
    "* Caution: If you execute a cell which has a hint in the output, the hint will disappear, therefore it is better to use `Alt-Enter`.\n",
    "---\n",
    "---"
   ]
  },
  {
   "cell_type": "code",
   "execution_count": 1,
   "metadata": {},
   "outputs": [],
   "source": [
    "import scipy.stats as stats       # most you will ever need regarding statistics\n",
    "import scipy.constants as const   # all physical and mathematical constants\n",
    "\n",
    "import numpy as np\n",
    "import matplotlib.pyplot as plt\n",
    "\n",
    "# import matplotlib as mpl\n",
    "plt.rcParams['figure.figsize'] = [8,6] # graph size\n",
    "plt.rcParams['lines.linewidth'] = 3  # line width\n",
    "plt.rcParams['lines.markersize'] = 10  # size of point markers\n",
    "plt.rcParams['xtick.labelsize'] = 12  # font size of x axis ticks\n",
    "plt.rcParams['ytick.labelsize'] = 12 # font size of y axis ticks\n",
    "plt.rcParams['axes.labelsize'] = 'larger'  # font size of the axes labels\n",
    "\n",
    "# uncomment the command below to find out all possible parameters of graph you can change/set.\n",
    "# plt.rcParams.keys()"
   ]
  },
  {
   "cell_type": "markdown",
   "metadata": {},
   "source": [
    "## Let's first see how much water is there in the World's oceans?\n",
    "Thanks to [wikipedia page](https://en.wikipedia.org/wiki/Ocean), it is not hard to find:\n",
    "\n",
    "* approximately 1.335 billion cubic kilometers\n",
    "* cubic km is a cube with a side of 1km and we have 1 335 000 000 of them"
   ]
  },
  {
   "cell_type": "code",
   "execution_count": 2,
   "metadata": {},
   "outputs": [],
   "source": [
    "## what is the conversion factor to convert cubic km to liters\n",
    "## hint 1 liter is 1 cubic dm\n",
    "km3_to_liters = 10000**3\n",
    "\n",
    "# now calculate how many litres all the ocean contain (use your km3_to_liters factor)\n",
    "water_total = 1.335e9 * km3_to_liters  # in liters"
   ]
  },
  {
   "cell_type": "markdown",
   "metadata": {},
   "source": [
    "### But we are asking about number of molecules, so we need to find out how many water molecules are in 1 liter?\n",
    "\n",
    "That comes at the price of knowledge what a unit mol is. Definition is quite arbitrary actually (and has changed throughout the history):\n",
    "  * 1 mole is the number of atoms in 12 g of carbon $\\mathrm{^{12}_{6}C}$. It is called **Avogadro's constant**, and you can guess that it must be a big number since atoms are pretty small. We will see soon. \n",
    "  * And 12 is also *standard atomic weight* of carbon. \n",
    "  * It is not exactly 12, because of different isotopes of $\\mathrm{_{6}C}$ appearing in pure carbon samples. And because of some other recent, but for us insignicicant [technical changes](https://en.wikipedia.org/wiki/2019_redefinition_of_the_SI_base_units#Mole).\n",
    "  * The important for us is the following. We can take *standard atomic weight* for 2 hydrogen and 1 oxygen atoms in our $\\mathrm{H_{2}O}$ molecule and get very precisely weight of 1 mole of $\\mathrm{H_{2}O}$:\n",
    "    \n",
    "$\\mathrm{m_{water}=18.02\\,g\\cdot{mol^{-1}}}$,\n",
    "  together with density of water approximately $\\mathrm{1000\\,g/l}$, you can calculate how many moles are in 1 liter of water.\n",
    "  \n",
    "### Sidenotes\n",
    "  1. The 6 in $\\mathrm{^{12}_{6}C}$ is often omitted because calling an element carbon implies it has 6 protons. $\\mathrm{^{12}C}$ signifies that this atom has also 6 neutrons (6 protons + 6 neutron = 12 nucleons). Changing the number of neutrons and keeping the element the same (== the same number of protons) gives you so called isotopes of particular element.\n",
    "  2. There are 15 isotopes of carbon, $\\mathrm{^{8}C}$ - $\\mathrm{^{22}C}$, meaning carbons with 2 upto 16 neutrons. Only 2 are stable and 3 are naturally detectable. The rest is possible to prepare artificially, but show rapid radioactive decay.\n",
    "  3. The above means that there is one carbon isotope, which appears in nature but is not stable, it is $\\mathrm{^{14}C}$. Since its radioactive decay 'can take' thousands of years, it is used in so called [radiocarbon dating](https://en.wikipedia.org/wiki/Radiocarbon_dating). Technique which allows to precisely determine the age of archeological artifacts from organic matter such as bones, paper scrolls etc."
   ]
  },
  {
   "cell_type": "markdown",
   "metadata": {},
   "source": [
    "### Based on the above, calculate how many moles are in 1 liter of water"
   ]
  },
  {
   "cell_type": "code",
   "execution_count": 3,
   "metadata": {},
   "outputs": [],
   "source": [
    "# mols of H2O in 1 liter, hint:use the m_water\n",
    "moles_per_liter = 1000/18.02"
   ]
  },
  {
   "cell_type": "code",
   "execution_count": 4,
   "metadata": {},
   "outputs": [
    {
     "data": {
      "text/plain": [
       "6.02214076e+23"
      ]
     },
     "execution_count": 4,
     "metadata": {},
     "output_type": "execute_result"
    }
   ],
   "source": [
    "# Avogadro constant, as well as most of other constants are accessable from scipy.constants module.\n",
    "# which I imported as const, and that is how you need to refer to it\n",
    "const.Avogadro"
   ]
  },
  {
   "cell_type": "markdown",
   "metadata": {},
   "source": [
    "notation `e+23` is called scientific, and means adding number of zeros after the symbol `e` to the number before the `e`\n",
    "\n",
    "### As I said above, 1 mole contains Avogadro's constant ($\\mathrm{N_A}$) of particles\n",
    "  * So how many water molecules are there in the oceans?\n",
    "  * Multiply liters in ocean with moles per liter -> moles in ocean -> times $\\mathrm{N_A}$ -> number of molecules."
   ]
  },
  {
   "cell_type": "code",
   "execution_count": 5,
   "metadata": {},
   "outputs": [],
   "source": [
    "# total amount of molecules in oceans\n",
    "molecules_water = water_total * moles_per_liter * const.Avogadro"
   ]
  },
  {
   "cell_type": "markdown",
   "metadata": {},
   "source": [
    "### Now we do the same for a glass of lukewarm pee"
   ]
  },
  {
   "cell_type": "code",
   "execution_count": 6,
   "metadata": {},
   "outputs": [],
   "source": [
    "# in molecules right away\n",
    "molecules_glass = 0.3 * moles_per_liter * const.Avogadro"
   ]
  },
  {
   "cell_type": "code",
   "execution_count": 7,
   "metadata": {},
   "outputs": [
    {
     "data": {
      "text/plain": [
       "1.002576153163152e+25"
      ]
     },
     "execution_count": 7,
     "metadata": {},
     "output_type": "execute_result"
    }
   ],
   "source": [
    "# print the number\n",
    "molecules_glass"
   ]
  },
  {
   "cell_type": "code",
   "execution_count": 8,
   "metadata": {},
   "outputs": [
    {
     "name": "stdout",
     "output_type": "stream",
     "text": [
      " Total molecules of water in the oceans: 4.461463881576027e+46\n",
      " Total molecules in a glass of your pee: 1.002576153163152e+25\n"
     ]
    }
   ],
   "source": [
    "## Create the following output\n",
    "print(f' Total molecules of water in the oceans: {molecules_water}')\n",
    "print(f' Total molecules in a glass of your pee: {molecules_glass}')"
   ]
  },
  {
   "cell_type": "markdown",
   "metadata": {},
   "source": [
    "That is quite a number of molecules, 4e+46 means that the 4 is followed by 46 zeros.\n",
    "\n",
    "## Time to answer the first question, how many pee molecules are we going to draw back into our glass from the perfectly mixed oceans?"
   ]
  },
  {
   "cell_type": "code",
   "execution_count": 9,
   "metadata": {},
   "outputs": [
    {
     "name": "stdout",
     "output_type": "stream",
     "text": [
      "2253\n"
     ]
    }
   ],
   "source": [
    "# average is simply ratio of pee vs ocean * times the number of molecules in the glass (that part we already calculated)\n",
    "pee_av = molecules_glass/molecules_water * (0.3 * moles_per_liter * const.Avogadro)\n",
    "print(round(pee_av))"
   ]
  },
  {
   "cell_type": "markdown",
   "metadata": {},
   "source": [
    "### This is huge number until you realize how many normal water molecules are in your glass per one of the pee."
   ]
  },
  {
   "cell_type": "code",
   "execution_count": 10,
   "metadata": {},
   "outputs": [
    {
     "data": {
      "text/plain": [
       "4450000000000001048576"
      ]
     },
     "execution_count": 10,
     "metadata": {},
     "output_type": "execute_result"
    }
   ],
   "source": [
    "# 1 pee molecule per how many normal water ones?\n",
    "round(molecules_glass/pee_av)"
   ]
  },
  {
   "cell_type": "markdown",
   "metadata": {},
   "source": [
    "In deed your pee got pretty diluted. The whole confusion for our heads is, that the molecules are so bloody small, therefore there are so many in one glass.\n",
    "\n",
    "## Now comes the part of playing with probabilities.\n",
    "  * We want to find out what is the probability of having > 2300 pee molecules in the glass.\n",
    "  * For that purpose, we are going to use **Binomial distribution**, from `scipy.stats.binom()`.\n",
    "  * It is used for experiments drawing `n` samples out of total population of `N` possibilities. \n",
    "  * Additionally, we need only two possible results, success (drawing pee molecule) or failure (drawing ocean molecule). \n",
    "  * Strictly speaking Binomial statistic works only if we would **REPLACE** the molecules we draw.\n",
    "  * Without replacement, the correct statistic is called **Hypergeometric distribution**, from `scipy.stats.hypergeom()`.\n",
    "  * But in case of big N `N>>n` (Many more ocean molecules than those of pee, which is certainly true here), simple Binomial statistic will work perfectly.\n",
    "\n",
    "  \n",
    "### I will show how different they work on a quick example here\n",
    "  * Let's have a bag of 20 molecules, 5 poisonous and 15 safe ones.\n",
    "  * If we draw the poisonous one, we lost the game.\n",
    "  * We are going to draw 5 times, what is our chance of survival?\n",
    "  \n",
    "1. First if we always replace the molecule we draw, we will always have a bag of 20 (5+15)\n",
    "2. Each round, our chance of drawing safe molecule is 15/20.\n",
    "3. Since we do 5 rounds, we calculate:"
   ]
  },
  {
   "cell_type": "code",
   "execution_count": 11,
   "metadata": {},
   "outputs": [
    {
     "name": "stdout",
     "output_type": "stream",
     "text": [
      "0.2373046875\n"
     ]
    }
   ],
   "source": [
    "prob_binom = (15/20)*(15/20)*(15/20)*(15/20)*(15/20)  ## or shorter way: (15/20)**5\n",
    "print(prob_binom)"
   ]
  },
  {
   "cell_type": "markdown",
   "metadata": {},
   "source": [
    "## Binomial distribution\n",
    "### $Pr(k,n,p) = \\binom{n}{k}p^k(1-p)^{n-k}$, \n",
    "\n",
    "where $\\binom{n}{k}$ is a binomial coefficient\n",
    "\n",
    "### $\\binom{n}{k}=\\dfrac{n!}{k!(n-k)!}$\n",
    "\n",
    "`k` is how many success draws I want\n",
    "\n",
    "`n` is total number of draws\n",
    "\n",
    "`p` is the probability of success draw (here prob to draw a safe molecule)"
   ]
  },
  {
   "cell_type": "code",
   "execution_count": 12,
   "metadata": {},
   "outputs": [
    {
     "data": {
      "text/plain": [
       "0.2373046875"
      ]
     },
     "execution_count": 12,
     "metadata": {},
     "output_type": "execute_result"
    }
   ],
   "source": [
    "# The same thing can Python do right away using pmf method of the binom distribution\n",
    "# pmf stands for `probability mass function`\n",
    "stats.binom.pmf(k=5, n=5, p=15/20)"
   ]
  },
  {
   "cell_type": "markdown",
   "metadata": {},
   "source": [
    "We have almost 24% chance of survival.\n",
    "\n",
    "## It is clear we are replacing molecules, because our probability is always 15/20\n",
    "  * If we DO NOT replace (or return to the bag), then after drawing first safe molecule, there would be only 19 molecules left left in the bag, 5 poisonous and 14 safe\n",
    "  * Therefore in the next round, our success probability drops to only 14/19"
   ]
  },
  {
   "cell_type": "code",
   "execution_count": 13,
   "metadata": {},
   "outputs": [
    {
     "data": {
      "image/png": "[encoded data removed]",
      "text/plain": [
       "<Figure size 576x432 with 1 Axes>"
      ]
     },
     "metadata": {
      "needs_background": "light"
     },
     "output_type": "display_data"
    }
   ],
   "source": [
    "# Now calculate probabilities for all possible outcomes\n",
    "hits = [0, 1, 2, 3, 4, 5, 6]  # how many safe molecules I draw in 5 rounds\n",
    "\n",
    "# plotting distribution\n",
    "plt.plot(hits, stats.binom.pmf(hits, 5, 15/20), 'o-', ms=10)  # Note that I am calculating 7 probabilities at once\n",
    "plt.xlabel('Number of safe molecules out of 5 rounds of game')\n",
    "plt.ylabel('Probability')\n",
    "plt.show()"
   ]
  },
  {
   "cell_type": "markdown",
   "metadata": {},
   "source": [
    "I added number 6 just to confirm that the probability goes to zero. It has to, since we do only 5 draws.\n",
    "\n",
    "Also note, that the most probable result is drawing 4 safe molecules (40% chance)"
   ]
  },
  {
   "cell_type": "code",
   "execution_count": 14,
   "metadata": {},
   "outputs": [
    {
     "data": {
      "text/plain": [
       "array([0.00097656, 0.01464844, 0.08789062, 0.26367187, 0.39550781,\n",
       "       0.23730469, 0.        ])"
      ]
     },
     "execution_count": 14,
     "metadata": {},
     "output_type": "execute_result"
    }
   ],
   "source": [
    "# print the values to actually see them\n",
    "stats.binom.pmf(hits, 5, 15/20)"
   ]
  },
  {
   "cell_type": "markdown",
   "metadata": {},
   "source": [
    "### Every proper probability distribution needs to have sum of all the probabilities equal to 1\n",
    " * Note: For continuous probability distribution, the sum would be called integral, in case you hear it somewhere\n",
    " * Our outcomes are discrete, 0,1,2 etc. nothing inbetween."
   ]
  },
  {
   "cell_type": "code",
   "execution_count": 15,
   "metadata": {},
   "outputs": [
    {
     "data": {
      "text/plain": [
       "0.9999999999999998"
      ]
     },
     "execution_count": 15,
     "metadata": {},
     "output_type": "execute_result"
    }
   ],
   "source": [
    "# try to check that yourself (sum of all the values from the graph using sum() method).\n",
    "sum(stats.binom.pmf(hits, 5, 15/20))"
   ]
  },
  {
   "cell_type": "markdown",
   "metadata": {},
   "source": [
    "Almost perfect 1, now second example with not replacing molecules.\n",
    "\n",
    "## Hypergeometric distribution ([wiki page](https://en.wikipedia.org/wiki/Hypergeometric_distribution))"
   ]
  },
  {
   "cell_type": "code",
   "execution_count": 16,
   "metadata": {},
   "outputs": [
    {
     "name": "stdout",
     "output_type": "stream",
     "text": [
      "0.19369195046439627\n"
     ]
    }
   ],
   "source": [
    "# chance of survival in 5 draws\n",
    "prob_hyper = (15/20)*(14/19)*(13/18)*(12/17)*(11/16)\n",
    "print(prob_hyper)"
   ]
  },
  {
   "cell_type": "code",
   "execution_count": 17,
   "metadata": {},
   "outputs": [
    {
     "data": {
      "text/plain": [
       "0.19369195046439577"
      ]
     },
     "execution_count": 17,
     "metadata": {},
     "output_type": "execute_result"
    }
   ],
   "source": [
    "# pmf() method does the above right away, but we can confirm our thinking is correct\n",
    "stats.hypergeom.pmf(k=5, M=20, n=15, N=5)"
   ]
  },
  {
   "cell_type": "code",
   "execution_count": 18,
   "metadata": {},
   "outputs": [
    {
     "data": {
      "image/png": "[encoded data removed]",
      "text/plain": [
       "<Figure size 576x432 with 1 Axes>"
      ]
     },
     "metadata": {
      "needs_background": "light"
     },
     "output_type": "display_data"
    }
   ],
   "source": [
    "# plot both binom and hypergeom pmfs in one plot\n",
    "plt.plot(hits, stats.binom.pmf(hits, 5, 15/20), 'o-', ms=10, label='Binom')\n",
    "plt.plot(hits, stats.hypergeom.pmf(hits, M=20, n=15, N=5), 'o-', ms=10, label='Hypergeom')\n",
    "plt.xlabel('Number of safe molecules out of 5 rounds of game')\n",
    "plt.ylabel('Probability')\n",
    "plt.legend()\n",
    "plt.show()"
   ]
  },
  {
   "cell_type": "code",
   "execution_count": 19,
   "metadata": {},
   "outputs": [
    {
     "data": {
      "text/plain": [
       "0.999999999999998"
      ]
     },
     "execution_count": 19,
     "metadata": {},
     "output_type": "execute_result"
    }
   ],
   "source": [
    "## Check again the sum of all probabilities\n",
    "sum(stats.hypergeom.pmf(k=hits, M=20, n=15, N=5))"
   ]
  },
  {
   "cell_type": "markdown",
   "metadata": {},
   "source": [
    "## These distributions look quite different\n",
    " * IN this case we would not like to use Binomial instead of correct Hypergeometric\n",
    " * I said that for a large enough bag of molecules (Big `M` compare to my poisonous ones, `N`), I can use binomial though\n",
    " * The question is how can we as non-experts figure out, what `M` value is big enough?\n",
    " * Answer is testing it with your python skills!!!\n",
    " * The idea is simple, we are going to progressively increase `M`, and at the same time monitor how different `binom()` and `hypergeom()` distributions are."
   ]
  },
  {
   "cell_type": "code",
   "execution_count": 20,
   "metadata": {},
   "outputs": [],
   "source": [
    "## difference between distributions based on changing only total number of molecules in the bag\n",
    "# empty list, where we are going to add values of the differences.\n",
    "diff = []\n",
    "\n",
    "# Perfect opportunity to show you how a \"for loop\" works, \n",
    "    # think of repeating certain operations while changing one (or more) parameter\n",
    "# The one parameter is total number of molecules (n_mol)\n",
    "# I take it from range 20 to 2000\n",
    "# and for every integer from this range I calculate:\n",
    "# difference between the binom and hypergeom\n",
    "# takean absolute values, because differences can be pos/neg and cancel out\n",
    "# and I sum all those differences for every possible hits value (x axis from the plot above)\n",
    "# And this sum is a single number describing how different the two distributions are.\n",
    "# The smaller the difference is, the closer match the distributions are.\n",
    "# And last operation is to append my calculated value to the list (method append())\n",
    "# So my list contains difference for each size of a bag (from 20 to 2000 molecules),\n",
    "    # always containg 5 poisonous\n",
    "\n",
    "for n_mol in range(20,2000):\n",
    "    diff.append(sum(abs(stats.binom.pmf(hits, 5, (n_mol-5)/n_mol) - \\\n",
    "                        stats.hypergeom.pmf(hits, M=n_mol, n=n_mol-5, N=5))))"
   ]
  },
  {
   "cell_type": "code",
   "execution_count": 21,
   "metadata": {},
   "outputs": [
    {
     "data": {
      "image/png": "[encoded data removed]",
      "text/plain": [
       "<Figure size 576x432 with 1 Axes>"
      ]
     },
     "metadata": {
      "needs_background": "light"
     },
     "output_type": "display_data"
    }
   ],
   "source": [
    "# plot the difference in dependece on total amount of molecules.\n",
    "plt.plot(range(20,2000), diff, label='diff')\n",
    "plt.yscale('log')\n",
    "plt.xlabel('Total M molecules')\n",
    "plt.ylabel('Difference between binom and hypergeom')\n",
    "plt.legend()\n",
    "plt.show()"
   ]
  },
  {
   "cell_type": "markdown",
   "metadata": {},
   "source": [
    "You can pick yourself when is it good enough to use `binomial` instead of `hypergeom`, around M=500 seems pretty safe, which means M 100x times higher than our 5 poisonous molecules (N).\n",
    "\n",
    "* Note 1: Y axis is logarithmic, for M=500, we increased M 25x from 20, and we decreased the difference in distributions (y axis) around 300x\n",
    "* Note 2: For different number of poisonous molecules, the plot would be different!!\n",
    "\n",
    "## It's clear we are fine with using `stats.binom()` for our PEE vs SEA molecules.\n",
    "  * End of the sidetrack comapring `binom()` vs. `hypergeom()` and back to the **second question**.\n",
    "  * What is the probability of having more than 2300 molecules of your pee in the glass?"
   ]
  },
  {
   "cell_type": "code",
   "execution_count": 27,
   "metadata": {},
   "outputs": [
    {
     "data": {
      "image/png": "[encoded data removed]",
      "text/plain": [
       "<Figure size 576x432 with 1 Axes>"
      ]
     },
     "metadata": {
      "needs_background": "light"
     },
     "output_type": "display_data"
    }
   ],
   "source": [
    "# create an array of 501 points between 2000 and 2500\n",
    "x = np.linspace(2000, 2500, 501)  # careful, we need all the integer values.\n",
    "\n",
    "# for each x calculate binom probability (binom.pmf()) and plot it\n",
    "\n",
    "n, p = molecules_glass, molecules_glass/molecules_water\n",
    "\n",
    "# this might be tricky, if the distribution results in zeros only (using the n,p above), your python \n",
    "# cannot cope well with the huge n and miniscule p\n",
    "# In general, it is not a good idea to make operations with such vastly different scales\n",
    "# It is possible to get rid of the many orders of magnitude by defining n and p as follows:\n",
    "n, p = molecules_glass*1e-20, molecules_glass/molecules_water*1e20\n",
    "\n",
    "# and plot distribution\n",
    "plt.plot(x, stats.binom.pmf(x, n, p))\n",
    "plt.xlabel('Number of pee molecules in the glass.')\n",
    "plt.ylabel('Probability')\n",
    "plt.show()"
   ]
  },
  {
   "cell_type": "code",
   "execution_count": 25,
   "metadata": {},
   "outputs": [
    {
     "data": {
      "image/png": "[encoded data removed]",
      "text/plain": [
       "<Figure size 576x432 with 1 Axes>"
      ]
     },
     "metadata": {
      "needs_background": "light"
     },
     "output_type": "display_data"
    }
   ],
   "source": [
    "# Now we visualize part of the distribution for results 2300 molecules and more.\n",
    "# np.argmin() will find index containing value 2301, from this index I want to fill the rest of the array\n",
    "plt.plot(x, stats.binom.pmf(x, n, p))\n",
    "plt.fill_between(x[np.argmin(abs(2301-x)):],\n",
    "                 stats.binom.pmf(x[np.argmin(abs(2301-x)):], n, p),\n",
    "                 color='red')\n",
    "plt.xlabel('Number of pee molecules in the glass.')\n",
    "plt.ylabel('Probability')\n",
    "plt.show()"
   ]
  },
  {
   "cell_type": "markdown",
   "metadata": {},
   "source": [
    "As we have already mentioned summing all the probabilities gives us 1, so that it covers every possible outcome.\n",
    "\n",
    "We are interested only in those outcomes which have more than 2300 pee molecules, therefore we sum only the probabilities marked red.\n",
    "\n",
    "CAREFUL: This works only because we really sampled with our x axis all the integer values. If you skip some, the `sum()` method will not work."
   ]
  },
  {
   "cell_type": "code",
   "execution_count": 28,
   "metadata": {},
   "outputs": [
    {
     "data": {
      "text/plain": [
       "0.1583758548435811"
      ]
     },
     "execution_count": 28,
     "metadata": {},
     "output_type": "execute_result"
    }
   ],
   "source": [
    "# summing all the outcomes' probabilities, 2301, 2302, 2303....\n",
    "sum(stats.binom.pmf(x[np.argmin(abs(2301-x)):], n, p))"
   ]
  },
  {
   "cell_type": "markdown",
   "metadata": {},
   "source": [
    "Almost 16% chance, you draw more than 2300 molecules\n",
    "\n",
    "### We can do this in a more elegant fashion, using so called *cummulative distribution function* `stats.binom.cdf()`\n",
    "  * Which does exactly what we need, it goes over our x axis (number of drawn pee molecules) and at each step adds the probability\n",
    "  * That's why this function always goes from zero to 1, for any kind of probability task."
   ]
  },
  {
   "cell_type": "code",
   "execution_count": 29,
   "metadata": {},
   "outputs": [
    {
     "data": {
      "image/png": "[encoded data removed]",
      "text/plain": [
       "<Figure size 576x432 with 1 Axes>"
      ]
     },
     "metadata": {
      "needs_background": "light"
     },
     "output_type": "display_data"
    }
   ],
   "source": [
    "# plot cummulative probability distribution\n",
    "plt.plot(x, stats.binom.cdf(x, n, p))\n",
    "plt.xlabel('Number of pee molecules in the glass')\n",
    "plt.ylabel('Cummulative Probability')\n",
    "plt.show()"
   ]
  },
  {
   "cell_type": "markdown",
   "metadata": {},
   "source": [
    "Since we need 2300 and more, we take the value on y axis for 2301, that is the prob of drawing 2300 and or any number less.\n",
    "\n",
    "And we need to subtract it from 1, to get 2301 and more."
   ]
  },
  {
   "cell_type": "code",
   "execution_count": 41,
   "metadata": {},
   "outputs": [
    {
     "data": {
      "text/plain": [
       "0.15337278018710887"
      ]
     },
     "execution_count": 41,
     "metadata": {},
     "output_type": "execute_result"
    }
   ],
   "source": [
    "1-stats.binom.cdf(2301, n, p)"
   ]
  },
  {
   "cell_type": "markdown",
   "metadata": {},
   "source": [
    "## Bonus:\n",
    "* Since we know the whole distribution, we can retrieve so called *standard deviation*\n",
    "* Whenever you measure something, it is good to know, with what error you do it\n",
    "* Here it means, what kind of variations are just due to statistical randomness\n",
    "* By definition, you have ~68% chance of drawing somewhere between 2253-std  --  2253+std molecules at each try\n",
    "* In general statistical error is only one possible errors. Our perfect experiment in the computer suffers only this only one though."
   ]
  },
  {
   "cell_type": "code",
   "execution_count": 45,
   "metadata": {},
   "outputs": [
    {
     "name": "stdout",
     "output_type": "stream",
     "text": [
      "2253 +- 47\n"
     ]
    }
   ],
   "source": [
    "# If we repeat our exxperiment many times, we should arrive on the result\n",
    "# the most probable result and standard deviation\n",
    "print(round(stats.binom.mean(n,p)), '+-',round(stats.binom.std(n,p)))"
   ]
  },
  {
   "cell_type": "markdown",
   "metadata": {},
   "source": [
    "## Now what is the strongest poison in the world?\n",
    "  * We can take [Polonium](https://en.wikipedia.org/wiki/Polonium#Biology_and_toxicity) $\\mathrm{^{210}Po}$\n",
    "  * It takes only $\\mathrm{1\\mu{g}}$ of it to kill you (remember [Alexander Litvinenko poisoning](https://en.wikipedia.org/wiki/Poisoning_of_Alexander_Litvinenko))?\n",
    "  * So how many atoms does it correspond to and how does that number compare to our 2253 pee molecules in the glass?"
   ]
  },
  {
   "cell_type": "code",
   "execution_count": 37,
   "metadata": {},
   "outputs": [],
   "source": [
    "# what is the atomic mass for Polonium?\n",
    "mass = 209  # this you can understand as g/mol"
   ]
  },
  {
   "cell_type": "code",
   "execution_count": 38,
   "metadata": {},
   "outputs": [],
   "source": [
    "# so 1 micro gram is in number of molecules?\n",
    "po_lethal_dose = const.Avogadro/209e6"
   ]
  },
  {
   "cell_type": "code",
   "execution_count": 39,
   "metadata": {},
   "outputs": [
    {
     "data": {
      "text/plain": [
       "2881407062200957.0"
      ]
     },
     "execution_count": 39,
     "metadata": {},
     "output_type": "execute_result"
    }
   ],
   "source": [
    "po_lethal_dose"
   ]
  },
  {
   "cell_type": "markdown",
   "metadata": {},
   "source": [
    "Wow, that is a lot of atoms right..."
   ]
  },
  {
   "cell_type": "code",
   "execution_count": 40,
   "metadata": {},
   "outputs": [
    {
     "data": {
      "text/plain": [
       "1278920134133"
      ]
     },
     "execution_count": 40,
     "metadata": {},
     "output_type": "execute_result"
    }
   ],
   "source": [
    "# can you express, how many times more is this than 2253?\n",
    "round(po_lethal_dose/2253)"
   ]
  },
  {
   "cell_type": "markdown",
   "metadata": {},
   "source": [
    "Huge number again. Which makes the same point as we already mentioned and is our conclusion:\n",
    "  \n",
    "## Conclusion:\n",
    "  * 2253 pee molecules in your glass may feel disgusting, but it is a truly miniscule number.\n",
    "  * Simply because molecules are so unimaginably small and numerous.\n",
    "  * In other words, Avogadro's constant is big :)\n",
    "  * 1 mol contains Avogadro constant of particles. Since it is defined as number of atoms in 12 g of Carbon, atomic mass of carbon is ~12 g/mol.\n",
    "  * Atomic masses for other atoms can be readily found in periodic tables.\n",
    "  * From the Po poisoning part, we are now sure that there is no way to get poisoned by 2250 molecules of anything.\n",
    "  * BE AWARE that finding a distribution means repeating any kind of experiment many times. Single experiment does not give you neither sence of your error, nor the idea about the shape of the distribution.\n",
    "  \n",
    "## Food for thought:\n",
    "1. In which part of this project do you think I lied to you most?\n",
    "2. We made an approximation of *hypergeometric* distribution by *binomial*. Under certain conditions, *binomial* can be substituted by *Poisson*, or even *Normal* distribution. \n",
    "  * Can you visually plot those together with our binomial distribution for our pee molecules? \n",
    "  * Do they look the same?\n",
    "  * What are the requirements to use these instead of binomial?\n",
    "  * [hint](https://en.wikipedia.org/wiki/Binomial_distribution#Normal_approximation) \n",
    "2. There are many more, but I let you run your own imagination, what you could calculate based on this notebook. Let me know your best ideas."
   ]
  },
  {
   "cell_type": "markdown",
   "metadata": {},
   "source": [
    "# Good job everyone!!"
   ]
  },
  {
   "cell_type": "code",
   "execution_count": null,
   "metadata": {},
   "outputs": [],
   "source": []
  }
 ],
 "metadata": {
  "kernelspec": {
   "display_name": "pymarad",
   "language": "python",
   "name": "pymarad"
  },
  "language_info": {
   "codemirror_mode": {
    "name": "ipython",
    "version": 3
   },
   "file_extension": ".py",
   "mimetype": "text/x-python",
   "name": "python",
   "nbconvert_exporter": "python",
   "pygments_lexer": "ipython3",
   "version": "3.7.1"
  }
 },
 "nbformat": 4,
 "nbformat_minor": 4
}
