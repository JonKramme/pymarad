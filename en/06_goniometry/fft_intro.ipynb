{
 "cells": [
  {
   "cell_type": "markdown",
   "metadata": {},
   "source": [
    "# Welcome to interactive INTRO to Fourier Transform (FT) (TODO: code cleaning, comments)\n",
    "  * I will not go deep into math in any way\n",
    "  * But I will try to provide motivation, why FT is such a strong concept\n",
    "  \n",
    "1. Any decent function can be approximated by a fourier series, sum of sines and cosines.\n",
    "2. It is especially useful for oscillatory signals.\n",
    "3. Yes, the problem is the series is infinite.\n",
    "3. However, if you get the fourier series, the terms are ordered by descending significance. This means you are always taking the most important terms first.\n",
    "4. The rest of the terms are corrections to what you already have.\n",
    "5. Crucial is that I have oscillatory function in time, and I am able to extract frequencies (lots of simple sine waves added to each other), which completely reconstruct my crazy looking oscillations in time."
   ]
  },
  {
   "cell_type": "code",
   "execution_count": 20,
   "metadata": {},
   "outputs": [],
   "source": [
    "# scientific modules\n",
    "import numpy as np\n",
    "from scipy import signal, fft\n",
    "\n",
    "# imports for interactive plots\n",
    "from dash import Dash, html, dcc, Input, Output\n",
    "from jupyter_dash import JupyterDash\n",
    "import plotly.express as px\n",
    "import plotly.graph_objects as go\n",
    "\n",
    "# standard plotting\n",
    "import matplotlib.pyplot as plt\n",
    "from matplotlib import cm\n",
    "\n",
    "plt.rcParams['figure.facecolor'] = 'white'"
   ]
  },
  {
   "cell_type": "code",
   "execution_count": 4,
   "metadata": {},
   "outputs": [
    {
     "data": {
      "image/png": "[encoded data removed]",
      "text/plain": [
       "<Figure size 432x288 with 1 Axes>"
      ]
     },
     "metadata": {
      "needs_background": "light"
     },
     "output_type": "display_data"
    }
   ],
   "source": [
    "# create a squared function\n",
    "t = np.linspace(0, 2, 500, endpoint=False)\n",
    "plt.plot(t, signal.square(2 * np.pi * t))\n",
    "plt.plot(t, np.sin(2*np.pi*t))\n",
    "plt.axhline(0, color='k', lw=0.4)\n",
    "plt.ylim(-1.5, 1.5)\n",
    "plt.show()"
   ]
  },
  {
   "cell_type": "markdown",
   "metadata": {},
   "source": [
    "Square function is very far from sine right. \n",
    "\n",
    "It oscillates, which is good, but how on Earth can you produce the sharp edge just using sines and cosines?\n",
    "\n",
    "---\n",
    "\n",
    "At University, this is fairly easy calculation on paper, however we take just the result from wikipedia (if you want to see more details check this [Wolfram explanation](https://mathworld.wolfram.com/FourierSeriesSquareWave.html)\n",
    "\n",
    "\\begin{align}\n",
    "F(t)=\\dfrac{4}{\\pi}\\sum_{k=1}^{\\infty}{\\dfrac{\\sin{(2\\pi(2k-1)ft)}}{2k-1}} = \\dfrac{4}{\\pi}\\left(\\sin{(\\omega t)} + \\dfrac{1}{3}\\sin{(3\\omega t)} + \\dfrac{1}{5}\\sin{(5\\omega t)} + ...\\right)\n",
    "\\end{align}\n",
    ", for $\\omega=2\\pi ft$"
   ]
  },
  {
   "cell_type": "code",
   "execution_count": 34,
   "metadata": {},
   "outputs": [],
   "source": [
    "## fourier series\n",
    "def ft_series_square(x_axis, freq, n_harmonics):\n",
    "    # first create array of zeros, where I am going to add the sin terms\n",
    "    f_values = np.zeros(len(x_axis))\n",
    "    # k is the k from the formula above\n",
    "    for k in range(1, n_harmonics):\n",
    "        # for higher and higher frequencies, adding the sin term to my existing values\n",
    "        f_values = f_values + np.sin(2*np.pi*(2*k-1)*freq*x_axis)/(2*k-1) \n",
    "    return f_values*4/np.pi  # multiplying only once the whole thing, insted of n_harmonics-times (in each iteration) \n",
    "\n",
    "## FFT stands for fast fourier transform, it is standard and very fast algorithm to calculate FT\n",
    "def do_fft(x, f):\n",
    "    t_step = abs(x[1] - x[0])\n",
    "    f_fft = fft.fft(f)\n",
    "    x_fft = fft.fftfreq(len(x), t_step)[:len(x)//2]\n",
    "    return x_fft, 2.0/len(x) * np.abs(f_fft[0:len(x)//2])"
   ]
  },
  {
   "cell_type": "markdown",
   "metadata": {},
   "source": [
    "## The following part is the interactive plotting definitions\n",
    "  * It looks a bit complicated, but this sort of knowledge can get you actually hired one day. Because:\n",
    "  * These plots run on the web, so it nicely integrates any kind of webpage.\n",
    "  * You might notice that dash makes interface to html, so you create html page using python style of coding.\n",
    "  * And you can share it easily with the world.\n",
    "  * Read my comments if you are interested. If not, we are calculating the same as above. Generating the FT series for the left graph and doing FT of it in the second one."
   ]
  },
  {
   "cell_type": "code",
   "execution_count": 31,
   "metadata": {},
   "outputs": [],
   "source": [
    "app = JupyterDash(__name__)\n",
    "app.layout = html.Div([\n",
    "    html.H1('How FFT works.'),\n",
    "    \n",
    "    html.Div([\n",
    "        html.Div([\n",
    "            dcc.Graph(id='time_domain_lines')\n",
    "        ], style={'width':'49%', 'display': 'inline-block'}),\n",
    "    html.Div([\n",
    "        dcc.Graph(id='fft_lines')\n",
    "    ], style={'width': '49%', 'display': 'inline-block'}),\n",
    "    \n",
    "    html.H3('Number of harmonics'),\n",
    "    html.Div(dcc.Slider(\n",
    "        1, 20, step=1,\n",
    "        id='n_harmonics_slider',\n",
    "        value=2\n",
    "    ), style={'width': '100%', 'display': 'inline-block'}),\n",
    "], style={'width': '100%', 'display': 'inline-block'}),\n",
    "    \n",
    "    \n",
    "], style={'backgroundColor':'white'})\n",
    "\n",
    "@app.callback(\n",
    "    Output('time_domain_lines', 'figure'),\n",
    "    Input('n_harmonics_slider', 'value'))\n",
    "\n",
    "def update_graph(n_harmonics_value):\n",
    "    t = np.linspace(0, 2, 500, endpoint=False)\n",
    "    f = ft_series_square(t, 1, n_harmonics_value)\n",
    "    fig = go.Figure()\n",
    "    fig.add_trace(go.Line(x=t, y=f, name='FT sine series'))\n",
    "    \n",
    "    fig.add_trace(go.Line(x=t, y=signal.square(2 * np.pi * t), name='Square wave'))\n",
    "    fig.update_layout(yaxis_range=[-1.5,1.5])\n",
    "    fig.update_layout(legend=dict(\n",
    "        yanchor=\"top\",\n",
    "        y=1.2,\n",
    "        xanchor=\"left\",\n",
    "        x=0.01\n",
    "        ))\n",
    "    fig.update_layout(\n",
    "        margin=dict(l=20, r=20, t=20, b=20),\n",
    "        )\n",
    "    return fig\n",
    "\n",
    "@app.callback(\n",
    "    Output('fft_lines', 'figure'),\n",
    "    Input('n_harmonics_slider', 'value'))\n",
    "\n",
    "def create_fft(n_harmonics_value):\n",
    "    t = np.linspace(0, 2, 500, endpoint=False)\n",
    "    x,y = do_fft(t, ft_series_square(t, 1, n_harmonics_value))\n",
    "    fig = go.Figure()\n",
    "    fig.add_trace(go.Line(x=x, y=y))\n",
    "    fig.update_layout(xaxis_range=[0,50])\n",
    "    fig.update_layout(\n",
    "        margin=dict(l=20, r=20, t=20, b=20),\n",
    "        )\n",
    "    return fig"
   ]
  },
  {
   "cell_type": "code",
   "execution_count": 32,
   "metadata": {},
   "outputs": [],
   "source": [
    "del app.config._read_only[\"requests_pathname_prefix\"]"
   ]
  },
  {
   "cell_type": "code",
   "execution_count": 33,
   "metadata": {},
   "outputs": [
    {
     "data": {
      "text/html": [
       "\n",
       "        <iframe\n",
       "            width=\"100%\"\n",
       "            height=\"650\"\n",
       "            src=\"http://127.0.0.1:8050/\"\n",
       "            frameborder=\"0\"\n",
       "            allowfullscreen\n",
       "            \n",
       "        ></iframe>\n",
       "        "
      ],
      "text/plain": [
       "<IPython.lib.display.IFrame at 0x19c9d506f98>"
      ]
     },
     "metadata": {},
     "output_type": "display_data"
    }
   ],
   "source": [
    "app.run_server(mode='inline')#, port = 8090)"
   ]
  },
  {
   "cell_type": "code",
   "execution_count": null,
   "metadata": {},
   "outputs": [],
   "source": []
  }
 ],
 "metadata": {
  "kernelspec": {
   "display_name": "pymarad",
   "language": "python",
   "name": "pymarad"
  },
  "language_info": {
   "codemirror_mode": {
    "name": "ipython",
    "version": 3
   },
   "file_extension": ".py",
   "mimetype": "text/x-python",
   "name": "python",
   "nbconvert_exporter": "python",
   "pygments_lexer": "ipython3",
   "version": "3.7.1"
  }
 },
 "nbformat": 4,
 "nbformat_minor": 4
}
